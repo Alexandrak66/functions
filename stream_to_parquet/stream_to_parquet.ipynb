{
 "cells": [
  {
   "cell_type": "markdown",
   "metadata": {},
   "source": [
    "# Stream to Parquet"
   ]
  },
  {
   "cell_type": "code",
   "execution_count": 6,
   "metadata": {},
   "outputs": [],
   "source": [
    "import nuclio"
   ]
  },
  {
   "cell_type": "code",
   "execution_count": 7,
   "metadata": {},
   "outputs": [
    {
     "name": "stdout",
     "output_type": "stream",
     "text": [
      "%nuclio: setting kind to 'nuclio'\n",
      "%nuclio: setting spec.build.baseImage to 'mlrun/ml-models'\n"
     ]
    }
   ],
   "source": [
    "# Define function spec\n",
    "%nuclio config kind = \"nuclio\"\n",
    "%nuclio config spec.build.baseImage = \"mlrun/ml-models\""
   ]
  },
  {
   "cell_type": "code",
   "execution_count": 8,
   "metadata": {},
   "outputs": [],
   "source": [
    "# nuclio: start-code"
   ]
  },
  {
   "cell_type": "code",
   "execution_count": 9,
   "metadata": {},
   "outputs": [],
   "source": [
    "import os\n",
    "import pandas as pd\n",
    "import numpy as np\n",
    "import json\n",
    "import datetime\n",
    "import mlrun\n",
    "from ast import literal_eval"
   ]
  },
  {
   "cell_type": "code",
   "execution_count": 60,
   "metadata": {},
   "outputs": [],
   "source": [
    "def record_to_features(context, record):\n",
    "    features = record['request']['instances'][0]\n",
    "    timestamp = record['when']\n",
    "    \n",
    "    return [timestamp] + [features[feature] for feature in context.columns if feature if feature != 'timestamp']"
   ]
  },
  {
   "cell_type": "code",
   "execution_count": 61,
   "metadata": {},
   "outputs": [],
   "source": [
    "def init_context(context):\n",
    "    setattr(context, 'batch', [])\n",
    "    setattr(context, 'window', int(os.getenv('window', 10)))\n",
    "    \n",
    "    context.logger.info('Setting columns for tracking')\n",
    "    columns = []\n",
    "    features = os.getenv('features', None)\n",
    "    if features is not None:\n",
    "        if features[:1] == '[' and features[-1:] == ']':\n",
    "            columns = literal_eval(features)\n",
    "        else:\n",
    "            features = features.split(',')    \n",
    "            columns += features\n",
    "    setattr(context, 'features', features)\n",
    "        \n",
    "    predictions = os.getenv('predictions_col', None)\n",
    "    if predictions is not None:\n",
    "        predictions = predictions.split(',')\n",
    "        columns += predictions\n",
    "        \n",
    "    label_col = os.getenv('label_col', None)\n",
    "    if label_col is not None:\n",
    "        label_col = label_col.split(',')\n",
    "        columns += label_col\n",
    "    setattr(context, 'columns', ['timestamp'] + columns)\n",
    "    context.logger.info(f'Tracking {columns}')\n",
    "    \n",
    "    setattr(context, 'save_to', os.getenv('save_to', '/bigdata/inference_pq/'))\n",
    "    os.makedirs(context.save_to, exist_ok=True)\n",
    "    \n",
    "    context.logger.info('Setting drift function')\n",
    "    mlrun.mlconf.dbpath = mlrun.mlconf.dbpath or 'http://mlrun-api:8080'\n",
    "    if 'hub_url' in os.environ:\n",
    "        mlrun.mlconf.hub_url = os.environ['hub_url']\n",
    "    virtual_drift_fn = mlrun.import_function('hub://virtual_drift')\n",
    "    virtual_drift_fn.apply(mlrun.mount_v3io(name='vfn_mount', mount_path=os.getenv('mount_path', '~/'), remote=os.getenv('mount_remote', '/User')))\n",
    "    setattr(context, 'virtual_drift_fn', virtual_drift_fn)\n",
    "    setattr(context, 'base_dataset', os.getenv('base_dataset', ''))\n",
    "    \n",
    "    setattr(context, 'label_col', label_col)\n",
    "    setattr(context, 'results_tsdb_container', os.getenv('results_tsdb_container', None))\n",
    "    setattr(context, 'results_tsdb_table', os.getenv('results_tsdb_table', None))\n",
    "    context.logger.info('Successfuly assigned all function parameters')"
   ]
  },
  {
   "cell_type": "code",
   "execution_count": 91,
   "metadata": {},
   "outputs": [],
   "source": [
    "def handler(context, event):\n",
    "    \n",
    "    context.logger.info(f'Adding {event.body}')\n",
    "    event_body = event.body\n",
    "    if type(event_body) == str:\n",
    "        event_body = json.loads(event_body)\n",
    "    context.batch.append(record_to_features(context, event_body))\n",
    "    \n",
    "    if len(context.batch) > context.window:\n",
    "        context.logger.info(context.batch)\n",
    "        df = pd.DataFrame(data=context.batch,\n",
    "                          columns=context.columns)\n",
    "        df_path = os.path.join(context.save_to, f\"{datetime.datetime.now().strftime('%Y-%m-%dT%H:%M:%S')}.pq\")\n",
    "        df.to_parquet(df_path)\n",
    "\n",
    "        task = mlrun.NewTask(name='drift_magnitude',\n",
    "                        handler='drift_magnitude',\n",
    "                        params={'label_col': context.label_col,\n",
    "                                'results_tsdb_container': context.results_tsdb_container,\n",
    "                                'results_tsdb_table': context.results_tsdb_table},\n",
    "                        inputs={'t': context.base_dataset,\n",
    "                                'u': df_path},\n",
    "                        artifact_path=mlrun.mlconf.artifact_path)\n",
    "        \n",
    "        context.virtual_drift_fn.run(task,\n",
    "                                     watch=False)\n",
    "        \n",
    "        context.batch = []"
   ]
  },
  {
   "cell_type": "code",
   "execution_count": 68,
   "metadata": {},
   "outputs": [],
   "source": [
    "# nuclio: end-code"
   ]
  },
  {
   "cell_type": "code",
   "execution_count": 50,
   "metadata": {},
   "outputs": [
    {
     "name": "stdout",
     "output_type": "stream",
     "text": [
      "%nuclio: setting 'features' environment variable\n",
      "%nuclio: setting 'label_col' environment variable\n",
      "%nuclio: setting 'predictions_col' environment variable\n",
      "%nuclio: setting 'save_to' environment variable\n",
      "%nuclio: setting 'base_dataset' environment variable\n",
      "%nuclio: setting 'results_tsdb_container' environment variable\n",
      "%nuclio: setting 'results_tsdb_table' environment variable\n",
      "%nuclio: setting 'mount_remote' environment variable\n",
      "%nuclio: setting 'mount_path' environment variable\n"
     ]
    }
   ],
   "source": [
    "%%nuclio env\n",
    "features = [\"cpu_utilization\", \"throughput\", \"packet_loss\", \"latency\"]\n",
    "label_col = is_error\n",
    "predictions_col = prediction\n",
    "save_to = /User/demo-network-operations/streaming/inference_pq/\n",
    "base_dataset = /User/demo-network-operations/artifacts/test_set_preds.parquet\n",
    "results_tsdb_container = users\n",
    "results_tsdb_table = admin/demo_network_operations/streaming/drift_magnitude\n",
    "mount_remote = /User\n",
    "mount_path = /users/admin/"
   ]
  },
  {
   "cell_type": "code",
   "execution_count": 69,
   "metadata": {},
   "outputs": [
    {
     "name": "stdout",
     "output_type": "stream",
     "text": [
      "Python> 2020-08-06 12:24:32,203 [info] Setting columns for tracking\n",
      "Python> 2020-08-06 12:24:32,204 [info] Tracking ['cpu_utilization', 'throughput', 'packet_loss', 'latency', 'prediction', 'is_error']\n",
      "Python> 2020-08-06 12:24:32,205 [info] Setting drift function\n",
      "Python> 2020-08-06 12:24:32,356 [info] Successfuly assigned all function parameters\n"
     ]
    }
   ],
   "source": [
    "import json\n",
    "init_context(context)"
   ]
  },
  {
   "cell_type": "code",
   "execution_count": null,
   "metadata": {},
   "outputs": [],
   "source": [
    "fv = {\"request\": {\"instances\": [{\"cpu_utilization\": 10, 'throughput': 100, 'latency': 5, 'packet_loss': 0, 'is_error': '0', 'prediction': 0}]}, \"when\": '1238429382', \"resp\": ['1']}\n",
    "print(f'sending {fv}')\n",
    "for _ in range(11):\n",
    "    event = nuclio.Event(body=json.dumps(fv))\n",
    "    out = handler(context, event)\n",
    "    out"
   ]
  },
  {
   "cell_type": "code",
   "execution_count": null,
   "metadata": {},
   "outputs": [],
   "source": [
    "import requests\n",
    "requests.post(url='http://3.128.191.176:31589', json=fv)"
   ]
  },
  {
   "cell_type": "markdown",
   "metadata": {},
   "source": [
    "## Save to function yaml"
   ]
  },
  {
   "cell_type": "code",
   "execution_count": 92,
   "metadata": {},
   "outputs": [],
   "source": [
    "from mlrun import mlconf, code_to_function, mount_v3io\n",
    "mlconf.dbpath = mlconf.dbpath or 'http://mlrun-api:8080'"
   ]
  },
  {
   "cell_type": "code",
   "execution_count": 93,
   "metadata": {},
   "outputs": [
    {
     "name": "stdout",
     "output_type": "stream",
     "text": [
      "> 2020-08-06 12:49:27,601 [info] function spec saved to path: function.yaml\n"
     ]
    },
    {
     "data": {
      "text/plain": [
       "<mlrun.runtimes.function.RemoteRuntime at 0x7f99da8cdf50>"
      ]
     },
     "execution_count": 93,
     "metadata": {},
     "output_type": "execute_result"
    }
   ],
   "source": [
    "# create job function object from notebook code\n",
    "fn = code_to_function(\"stream_to_parquet\")\n",
    "\n",
    "# add metadata (for templates and reuse)\n",
    "fn.spec.default_handler = \"handler\"\n",
    "fn.spec.description = \"Saves a stream to Parquet and can lunch drift detection task on it\"\n",
    "fn.metadata.categories = [\"ml\", \"serve\"]\n",
    "fn.metadata.labels = {\"author\": \"orz\"}\n",
    "fn.export(\"function.yaml\")"
   ]
  },
  {
   "cell_type": "code",
   "execution_count": null,
   "metadata": {},
   "outputs": [],
   "source": []
  },
  {
   "cell_type": "code",
   "execution_count": 94,
   "metadata": {},
   "outputs": [
    {
     "data": {
      "text/plain": [
       "<mlrun.runtimes.function.RemoteRuntime at 0x7f99da8cdf50>"
      ]
     },
     "execution_count": 94,
     "metadata": {},
     "output_type": "execute_result"
    }
   ],
   "source": [
    "fn.add_trigger('labeled_stream', nuclio.triggers.V3IOStreamTrigger(url='http://v3io-webapi:8081/users/admin/demo-network-operations/streaming/labels_stream_v1@t142'))"
   ]
  },
  {
   "cell_type": "code",
   "execution_count": 95,
   "metadata": {},
   "outputs": [
    {
     "data": {
      "text/plain": [
       "<mlrun.runtimes.function.RemoteRuntime at 0x7f99da8cdf50>"
      ]
     },
     "execution_count": 95,
     "metadata": {},
     "output_type": "execute_result"
    }
   ],
   "source": [
    "fn.set_envs({'window': 10,\n",
    "             'features': [\"cpu_utilization\", \"throughput\", \"packet_loss\", \"latency\"],\n",
    "             'predictions': 'prediction',\n",
    "             'label_col': 'is_error',\n",
    "             'save_to': '/User/demo-network-operations/streaming/inference_pq/',\n",
    "             'base_dataset': '/User/demo-network-operations/artifacts/test_set_preds.parquet,',\n",
    "             'results_tsdb_container': 'users',\n",
    "             'results_tsdb_table': 'admin/demo_network_operations/streaming/drift_magnitude',\n",
    "             'mount_remote': '/User',\n",
    "             'mount_path': '/users/admin/'})"
   ]
  },
  {
   "cell_type": "code",
   "execution_count": 96,
   "metadata": {},
   "outputs": [
    {
     "data": {
      "text/plain": [
       "<mlrun.runtimes.function.RemoteRuntime at 0x7f99da8cdf50>"
      ]
     },
     "execution_count": 96,
     "metadata": {},
     "output_type": "execute_result"
    }
   ],
   "source": [
    "fn.apply(mount_v3io())"
   ]
  },
  {
   "cell_type": "code",
   "execution_count": 97,
   "metadata": {},
   "outputs": [
    {
     "name": "stdout",
     "output_type": "stream",
     "text": [
      "> 2020-08-06 12:49:28,936 [info] deploy started\n",
      "[nuclio] 2020-08-06 12:49:33,034 (info) Build complete\n",
      "[nuclio] 2020-08-06 12:49:41,106 (info) Function deploy complete\n",
      "[nuclio] 2020-08-06 12:49:41,112 done updating network-operations-stream-to-parquet, function address: 3.128.191.176:31589\n",
      "> 2020-08-06 12:49:41,118 [warning] warning!, server (0.5.1-rc2) and client (0.5.1) ver dont match\n"
     ]
    },
    {
     "data": {
      "text/plain": [
       "'http://3.128.191.176:31589'"
      ]
     },
     "execution_count": 97,
     "metadata": {},
     "output_type": "execute_result"
    }
   ],
   "source": [
    "fn.deploy(project='network-operations')"
   ]
  },
  {
   "cell_type": "code",
   "execution_count": 88,
   "metadata": {},
   "outputs": [
    {
     "data": {
      "text/html": [
       "<div>\n",
       "<style scoped>\n",
       "    .dataframe tbody tr th:only-of-type {\n",
       "        vertical-align: middle;\n",
       "    }\n",
       "\n",
       "    .dataframe tbody tr th {\n",
       "        vertical-align: top;\n",
       "    }\n",
       "\n",
       "    .dataframe thead th {\n",
       "        text-align: right;\n",
       "    }\n",
       "</style>\n",
       "<table border=\"1\" class=\"dataframe\">\n",
       "  <thead>\n",
       "    <tr style=\"text-align: right;\">\n",
       "      <th></th>\n",
       "      <th>timestamp</th>\n",
       "      <th>cpu_utilization</th>\n",
       "      <th>throughput</th>\n",
       "      <th>packet_loss</th>\n",
       "      <th>latency</th>\n",
       "      <th>prediction</th>\n",
       "      <th>is_error</th>\n",
       "    </tr>\n",
       "  </thead>\n",
       "  <tbody>\n",
       "    <tr>\n",
       "      <th>0</th>\n",
       "      <td>1238429382</td>\n",
       "      <td>10</td>\n",
       "      <td>100</td>\n",
       "      <td>0</td>\n",
       "      <td>5</td>\n",
       "      <td>0</td>\n",
       "      <td>0</td>\n",
       "    </tr>\n",
       "    <tr>\n",
       "      <th>1</th>\n",
       "      <td>1238429382</td>\n",
       "      <td>10</td>\n",
       "      <td>100</td>\n",
       "      <td>0</td>\n",
       "      <td>5</td>\n",
       "      <td>0</td>\n",
       "      <td>0</td>\n",
       "    </tr>\n",
       "    <tr>\n",
       "      <th>2</th>\n",
       "      <td>1238429382</td>\n",
       "      <td>10</td>\n",
       "      <td>100</td>\n",
       "      <td>0</td>\n",
       "      <td>5</td>\n",
       "      <td>0</td>\n",
       "      <td>0</td>\n",
       "    </tr>\n",
       "    <tr>\n",
       "      <th>3</th>\n",
       "      <td>1238429382</td>\n",
       "      <td>10</td>\n",
       "      <td>100</td>\n",
       "      <td>0</td>\n",
       "      <td>5</td>\n",
       "      <td>0</td>\n",
       "      <td>0</td>\n",
       "    </tr>\n",
       "    <tr>\n",
       "      <th>4</th>\n",
       "      <td>1238429382</td>\n",
       "      <td>10</td>\n",
       "      <td>100</td>\n",
       "      <td>0</td>\n",
       "      <td>5</td>\n",
       "      <td>0</td>\n",
       "      <td>0</td>\n",
       "    </tr>\n",
       "    <tr>\n",
       "      <th>5</th>\n",
       "      <td>1238429382</td>\n",
       "      <td>10</td>\n",
       "      <td>100</td>\n",
       "      <td>0</td>\n",
       "      <td>5</td>\n",
       "      <td>0</td>\n",
       "      <td>0</td>\n",
       "    </tr>\n",
       "    <tr>\n",
       "      <th>6</th>\n",
       "      <td>1238429382</td>\n",
       "      <td>10</td>\n",
       "      <td>100</td>\n",
       "      <td>0</td>\n",
       "      <td>5</td>\n",
       "      <td>0</td>\n",
       "      <td>0</td>\n",
       "    </tr>\n",
       "    <tr>\n",
       "      <th>7</th>\n",
       "      <td>1238429382</td>\n",
       "      <td>10</td>\n",
       "      <td>100</td>\n",
       "      <td>0</td>\n",
       "      <td>5</td>\n",
       "      <td>0</td>\n",
       "      <td>0</td>\n",
       "    </tr>\n",
       "    <tr>\n",
       "      <th>8</th>\n",
       "      <td>1238429382</td>\n",
       "      <td>10</td>\n",
       "      <td>100</td>\n",
       "      <td>0</td>\n",
       "      <td>5</td>\n",
       "      <td>0</td>\n",
       "      <td>0</td>\n",
       "    </tr>\n",
       "    <tr>\n",
       "      <th>9</th>\n",
       "      <td>1238429382</td>\n",
       "      <td>10</td>\n",
       "      <td>100</td>\n",
       "      <td>0</td>\n",
       "      <td>5</td>\n",
       "      <td>0</td>\n",
       "      <td>0</td>\n",
       "    </tr>\n",
       "    <tr>\n",
       "      <th>10</th>\n",
       "      <td>1238429382</td>\n",
       "      <td>10</td>\n",
       "      <td>100</td>\n",
       "      <td>0</td>\n",
       "      <td>5</td>\n",
       "      <td>0</td>\n",
       "      <td>0</td>\n",
       "    </tr>\n",
       "  </tbody>\n",
       "</table>\n",
       "</div>"
      ],
      "text/plain": [
       "     timestamp  cpu_utilization  throughput  packet_loss  latency  prediction  \\\n",
       "0   1238429382               10         100            0        5           0   \n",
       "1   1238429382               10         100            0        5           0   \n",
       "2   1238429382               10         100            0        5           0   \n",
       "3   1238429382               10         100            0        5           0   \n",
       "4   1238429382               10         100            0        5           0   \n",
       "5   1238429382               10         100            0        5           0   \n",
       "6   1238429382               10         100            0        5           0   \n",
       "7   1238429382               10         100            0        5           0   \n",
       "8   1238429382               10         100            0        5           0   \n",
       "9   1238429382               10         100            0        5           0   \n",
       "10  1238429382               10         100            0        5           0   \n",
       "\n",
       "   is_error  \n",
       "0         0  \n",
       "1         0  \n",
       "2         0  \n",
       "3         0  \n",
       "4         0  \n",
       "5         0  \n",
       "6         0  \n",
       "7         0  \n",
       "8         0  \n",
       "9         0  \n",
       "10        0  "
      ]
     },
     "execution_count": 88,
     "metadata": {},
     "output_type": "execute_result"
    }
   ],
   "source": [
    "pd.read_parquet('/User/demo-network-operations/streaming/inference_pq/2020-08-06T12:24:32.pq')"
   ]
  },
  {
   "cell_type": "code",
   "execution_count": null,
   "metadata": {},
   "outputs": [],
   "source": []
  }
 ],
 "metadata": {
  "kernelspec": {
   "display_name": "Python 3",
   "language": "python",
   "name": "python3"
  },
  "language_info": {
   "codemirror_mode": {
    "name": "ipython",
    "version": 3
   },
   "file_extension": ".py",
   "mimetype": "text/x-python",
   "name": "python",
   "nbconvert_exporter": "python",
   "pygments_lexer": "ipython3",
   "version": "3.7.6"
  }
 },
 "nbformat": 4,
 "nbformat_minor": 4
}
