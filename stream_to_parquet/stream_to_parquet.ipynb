{
 "cells": [
  {
   "cell_type": "markdown",
   "metadata": {},
   "source": [
    "# Stream to Parquet"
   ]
  },
  {
   "cell_type": "code",
   "execution_count": 1,
   "metadata": {},
   "outputs": [],
   "source": [
    "import nuclio"
   ]
  },
  {
   "cell_type": "code",
   "execution_count": 39,
   "metadata": {},
   "outputs": [
    {
     "name": "stdout",
     "output_type": "stream",
     "text": [
      "%nuclio: setting 'window' environment variable\n",
      "%nuclio: setting 'features' environment variable\n",
      "%nuclio: setting 'predictions' environment variable\n",
      "%nuclio: setting 'save_to' environment variable\n"
     ]
    }
   ],
   "source": [
    "%nuclio env window = 10\n",
    "%nuclio env features = a,b\n",
    "%nuclio env predictions = prediction\n",
    "%nuclio env save_to = /bigdata/inference_pq/\n",
    "%nuclio env base_dataset = /bigdata/migdal/data/selected_features.parquet"
   ]
  },
  {
   "cell_type": "code",
   "execution_count": 63,
   "metadata": {},
   "outputs": [
    {
     "name": "stdout",
     "output_type": "stream",
     "text": [
      "%nuclio: setting kind to 'nuclio'\n",
      "%nuclio: setting spec.image to 'mlrun/ml-models:0.4.6'\n",
      "mounting volume path /bigdata as /bigdata\n"
     ]
    }
   ],
   "source": [
    "# Define function spec\n",
    "%nuclio config kind = \"nuclio\"\n",
    "%nuclio config spec.build.baseImage = \"mlrun/ml-models:0.4.7\""
   ]
  },
  {
   "cell_type": "code",
   "execution_count": 58,
   "metadata": {},
   "outputs": [
    {
     "name": "stdout",
     "output_type": "stream",
     "text": [
      "%nuclio: setting spec.triggers.labeled_stream.kind to 'v3ioStream'\n",
      "%nuclio: setting spec.triggers.labeled_stream.url to 'http://v3io-webapi:8081/bigdata/migdal/inference_stream_1@group_2'\n",
      "%nuclio: setting spec.triggers.labeled_stream.attributes.partitions to [1]\n",
      "%nuclio: setting spec.triggers.labeled_stream.username to 'admin'\n",
      "%nuclio: setting spec.triggers.labeled_stream.password to '24tango'\n",
      "%nuclio: setting spec.triggers.labeled_stream.attributes.pollingIntervalMs to 500\n",
      "%nuclio: setting spec.triggers.labeled_stream.attributes.seekTo to 'earliest'\n",
      "%nuclio: setting spec.triggers.labeled_stream.attributes.readBatchSize to 64\n",
      "%nuclio: setting spec.triggers.labeled_stream.maxWorkers to 1\n"
     ]
    }
   ],
   "source": [
    "%%nuclio config\n",
    "spec.triggers.labeled_stream.kind = \"v3ioStream\"\n",
    "spec.triggers.labeled_stream.url = \"http://v3io-webapi:8081/bigdata/network-operations/inference_stream@s2p\"\n",
    "spec.triggers.labeled_stream.attributes.partitions = [0]\n",
    "spec.triggers.labeled_stream.username = \"admin\"\n",
    "spec.triggers.labeled_stream.password = \"24tango\"\n",
    "spec.triggers.labeled_stream.attributes.pollingIntervalMs = 500\n",
    "spec.triggers.labeled_stream.attributes.seekTo = \"earliest\"\n",
    "spec.triggers.labeled_stream.attributes.readBatchSize = 64\n",
    "spec.triggers.labeled_stream.maxWorkers = 1"
   ]
  },
  {
   "cell_type": "code",
   "execution_count": 6,
   "metadata": {},
   "outputs": [],
   "source": [
    "# nuclio: start-code"
   ]
  },
  {
   "cell_type": "code",
   "execution_count": 81,
   "metadata": {},
   "outputs": [],
   "source": [
    "import os\n",
    "import pandas as pd\n",
    "import numpy as np\n",
    "import json\n",
    "import datetime\n",
    "import mlrun"
   ]
  },
  {
   "cell_type": "code",
   "execution_count": 71,
   "metadata": {},
   "outputs": [],
   "source": [
    "def record_to_features(record):\n",
    "    features = record['request']['instances'][0]\n",
    "    timestamp = record['when']\n",
    "    prediction = record['resp']\n",
    "    \n",
    "    return [timestamp] + [feature for feature in features] + prediction"
   ]
  },
  {
   "cell_type": "code",
   "execution_count": 5,
   "metadata": {},
   "outputs": [],
   "source": [
    "def init_context(context):\n",
    "    setattr(context, 'batch', [])\n",
    "    setattr(context, 'window', int(os.getenv('window', 10)))\n",
    "    \n",
    "    features = os.getenv('features', None)\n",
    "    if features is not None:\n",
    "        features = features.split(',')    \n",
    "    setattr(context, 'features', features)\n",
    "        \n",
    "    predictions = os.getenv('predictions', None)\n",
    "    if predictions is not None:\n",
    "        predictions = predictions.split(',')\n",
    "    setattr(context, 'columns', ['timestamp'] + features + predictions)\n",
    "    \n",
    "    setattr(context, 'save_to', os.getenv('save_to', '/bigdata/inference_pq/'))\n",
    "    os.makedirs(context.save_to, exist_ok=True)\n",
    "    \n",
    "    mlrun.mlconf.hub_url = '/User/functions/{name}/function.yaml'\n",
    "    virtual_drift_fn = mlrun.import_function('hub://virtual_drift')\n",
    "    virtual_drift_fn.apply(mlrun.mount_v3io(name='bigdata', mount_path='/bigdata', remote='/bigdata'))\n",
    "    setattr(context, 'virtual_drift_fn', virtual_drift_fn)\n",
    "    setattr(context, 'base_dataset', os.getenv('base_dataset', ''))"
   ]
  },
  {
   "cell_type": "code",
   "execution_count": 6,
   "metadata": {},
   "outputs": [],
   "source": [
    "def handler(context, event):\n",
    "    \n",
    "    context.logger.info(f'Adding {event.body}')\n",
    "    context.batch.append(record_to_features(json.loads(event.body)))\n",
    "    \n",
    "    if len(context.batch) > context.window:\n",
    "        context.logger.info(context.batch)\n",
    "        df = pd.DataFrame(data=context.batch,\n",
    "                          columns=context.columns)\n",
    "        df_path = os.path.join(context.save_to, f\"{datetime.datetime.now().strftime('%Y-%m-%dT%H:%M:%S')}.pq\")\n",
    "        df.to_parquet(df_path)\n",
    "\n",
    "        task = mlrun.NewTask(name='drift_magnitude',\n",
    "                        handler='drift_magnitude',\n",
    "                        params={'label_col': 'is_error',\n",
    "                                'results_tsdb_container': 'bigdata',\n",
    "                                'results_tsdb_table': 'drift_magnitude'},\n",
    "                        inputs={'t': '/bigdata/migdal/data/selected_features.parquet',\n",
    "                                'u': df_path},\n",
    "                        artifact_path=os.path.abspath('/bigdata/data'))\n",
    "        \n",
    "        context.virtual_drift_fn.run(task,\n",
    "                                     watch=False)\n",
    "        \n",
    "        context.batch = []"
   ]
  },
  {
   "cell_type": "code",
   "execution_count": 10,
   "metadata": {},
   "outputs": [],
   "source": [
    "# nuclio: end-code"
   ]
  },
  {
   "cell_type": "markdown",
   "metadata": {},
   "source": [
    "## Testing"
   ]
  },
  {
   "cell_type": "code",
   "execution_count": 23,
   "metadata": {},
   "outputs": [
    {
     "data": {
      "text/plain": [
       "{'instances': [[0.33849388495276456, 271.0561056056432]],\n",
       " 'resp': [False],\n",
       " 'class': 'ClassifierModel',\n",
       " 'model': 'predictor',\n",
       " 'host': 'migdal-server-568f7c9b4b-nfjdt',\n",
       " 'when': '2020-04-20 13:06:46.992705',\n",
       " 'microsec': 7661}"
      ]
     },
     "execution_count": 23,
     "metadata": {},
     "output_type": "execute_result"
    }
   ],
   "source": [
    "a = {\"request\": {\"instances\": [[0.33849388495276456, 271.0561056056432]]},\n",
    "     \"resp\": [False], \n",
    "     \"class\": \"ClassifierModel\", \n",
    "     \"model\": \"predictor\", \n",
    "     \"host\": \"migdal-server-568f7c9b4b-nfjdt\", \n",
    "     \"when\": \"2020-04-20 13:06:46.992705\", \n",
    "     \"microsec\": 7661}\n",
    "a"
   ]
  },
  {
   "cell_type": "code",
   "execution_count": 36,
   "metadata": {},
   "outputs": [
    {
     "data": {
      "text/plain": [
       "['2020-04-20 13:06:46.992705', 0.33849388495276456, 271.0561056056432, False]"
      ]
     },
     "execution_count": 36,
     "metadata": {},
     "output_type": "execute_result"
    }
   ],
   "source": [
    "record_to_features(a)"
   ]
  },
  {
   "cell_type": "code",
   "execution_count": null,
   "metadata": {},
   "outputs": [],
   "source": [
    "record_to_features"
   ]
  },
  {
   "cell_type": "markdown",
   "metadata": {},
   "source": [
    "## Deploy"
   ]
  },
  {
   "cell_type": "code",
   "execution_count": 13,
   "metadata": {},
   "outputs": [
    {
     "name": "stdout",
     "output_type": "stream",
     "text": [
      "[nuclio] 2020-05-21 05:40:42,533 (error) Failed to deploy. Details:\n",
      "Failed to create/update function\n"
     ]
    },
    {
     "name": "stderr",
     "output_type": "stream",
     "text": [
      "%nuclio: error: cannot deploy \n"
     ]
    }
   ],
   "source": [
    "%nuclio deploy -p network-operations -n s2p_v2"
   ]
  },
  {
   "cell_type": "code",
   "execution_count": 12,
   "metadata": {},
   "outputs": [
    {
     "name": "stdout",
     "output_type": "stream",
     "text": [
      "%nuclio: notebook stream-to-parquet exported\n",
      "Config:\n",
      "apiVersion: nuclio.io/v1\n",
      "kind: nuclio\n",
      "metadata:\n",
      "  annotations:\n",
      "    nuclio.io/generated_by: function generated from 21-05-2020 by admin\n",
      "  labels: {}\n",
      "  name: stream-to-parquet\n",
      "spec:\n",
      "  build:\n",
      "    baseImage: mlrun/ml-models:0.4.7\n",
      "    commands: []\n",
      "    functionSourceCode: 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\n",
      "    noBaseImagesPull: true\n",
      "  env:\n",
      "  - name: window\n",
      "    value: '10'\n",
      "  - name: features\n",
      "    value: a,b\n",
      "  - name: predictions\n",
      "    value: prediction\n",
      "  - name: save_to\n",
      "    value: /bigdata/inference_pq/\n",
      "  - name: base_dataset\n",
      "    value: /bigdata/migdal/data/selected_features.parquet\n",
      "  handler: stream_to_parquet:handler\n",
      "  runtime: python:3.6\n",
      "  triggers:\n",
      "    labeled_stream:\n",
      "      attributes:\n",
      "        partitions:\n",
      "        - 0\n",
      "        pollingIntervalMs: 500\n",
      "        readBatchSize: 64\n",
      "        seekTo: earliest\n",
      "      kind: v3ioStream\n",
      "      maxWorkers: 1\n",
      "      password: 24tango\n",
      "      url: http://v3io-webapi:8081/bigdata/network-operations/inference_stream@s2p\n",
      "      username: admin\n",
      "  volumes: []\n",
      "\n",
      "Code:\n",
      "# Generated by nuclio.export.NuclioExporter\n",
      "\n",
      "import os\n",
      "import pandas as pd\n",
      "import numpy as np\n",
      "import json\n",
      "import datetime\n",
      "import mlrun\n",
      "\n",
      "def record_to_features(record):\n",
      "    features = record['request']['instances'][0]\n",
      "    timestamp = record['when']\n",
      "    prediction = record['resp']\n",
      "    \n",
      "    return [timestamp] + [feature for feature in features] + prediction\n",
      "\n",
      "def init_context(context):\n",
      "    setattr(context, 'batch', [])\n",
      "    setattr(context, 'window', int(os.getenv('window', 10)))\n",
      "    \n",
      "    features = os.getenv('features', None)\n",
      "    if features is not None:\n",
      "        features = features.split(',')    \n",
      "    setattr(context, 'features', features)\n",
      "        \n",
      "    predictions = os.getenv('predictions', None)\n",
      "    if predictions is not None:\n",
      "        predictions = predictions.split(',')\n",
      "    setattr(context, 'columns', ['timestamp'] + features + predictions)\n",
      "    \n",
      "    setattr(context, 'save_to', os.getenv('save_to', '/bigdata/inference_pq/'))\n",
      "    os.makedirs(context.save_to, exist_ok=True)\n",
      "    \n",
      "    mlrun.mlconf.hub_url = '/User/functions/{name}/function.yaml'\n",
      "    virtual_drift_fn = mlrun.import_function('hub://virtual_drift')\n",
      "    virtual_drift_fn.apply(mlrun.mount_v3io(name='bigdata', mount_path='/bigdata', remote='/bigdata'))\n",
      "    setattr(context, 'virtual_drift_fn', virtual_drift_fn)\n",
      "    setattr(context, 'base_dataset', os.getenv('base_dataset', ''))\n",
      "\n",
      "def handler(context, event):\n",
      "    \n",
      "    context.logger.info(f'Adding {event.body}')\n",
      "    context.batch.append(record_to_features(json.loads(event.body)))\n",
      "    \n",
      "    if len(context.batch) > context.window:\n",
      "        context.logger.info(context.batch)\n",
      "        df = pd.DataFrame(data=context.batch,\n",
      "                          columns=context.columns)\n",
      "        df_path = os.path.join(context.save_to, f\"{datetime.datetime.now().strftime('%Y-%m-%dT%H:%M:%S')}.pq\")\n",
      "        df.to_parquet(df_path)\n",
      "\n",
      "        task = mlrun.NewTask(name='drift_magnitude',\n",
      "                        handler='drift_magnitude',\n",
      "                        params={'label_col': 'is_error',\n",
      "                                'results_tsdb_container': 'bigdata',\n",
      "                                'results_tsdb_table': 'drift_magnitude'},\n",
      "                        inputs={'t': '/bigdata/migdal/data/selected_features.parquet',\n",
      "                                'u': df_path},\n",
      "                        artifact_path=os.path.abspath('/bigdata/data'))\n",
      "        \n",
      "        context.virtual_drift_fn.run(task,\n",
      "                                     watch=False)\n",
      "        \n",
      "        context.batch = []\n",
      "\n",
      "\n"
     ]
    }
   ],
   "source": [
    "%nuclio show"
   ]
  },
  {
   "cell_type": "markdown",
   "metadata": {},
   "source": [
    "## Save to function yaml"
   ]
  },
  {
   "cell_type": "code",
   "execution_count": 1,
   "metadata": {},
   "outputs": [],
   "source": [
    "from mlrun import mlconf, code_to_function\n",
    "mlconf.dbpath = mlconf.dbpath or 'http://mlrun-api:8080'"
   ]
  },
  {
   "cell_type": "code",
   "execution_count": 7,
   "metadata": {},
   "outputs": [
    {
     "name": "stdout",
     "output_type": "stream",
     "text": [
      "[mlrun] 2020-05-20 14:03:16,199 function spec saved to path: function.yaml\n"
     ]
    },
    {
     "data": {
      "text/plain": [
       "<mlrun.runtimes.function.RemoteRuntime at 0x7fe59807c0b8>"
      ]
     },
     "execution_count": 7,
     "metadata": {},
     "output_type": "execute_result"
    }
   ],
   "source": [
    "# create job function object from notebook code\n",
    "fn = code_to_function(\"stream_to_parquet\")\n",
    "\n",
    "# add metadata (for templates and reuse)\n",
    "fn.spec.default_handler = \"handler\"\n",
    "fn.spec.description = \"Saves a stream to Parquet and can lunch drift detection task on it\"\n",
    "fn.metadata.categories = [\"ml\", \"serve\"]\n",
    "fn.metadata.labels = {\"author\": \"orz\"}\n",
    "fn.export(\"function.yaml\")"
   ]
  },
  {
   "cell_type": "code",
   "execution_count": null,
   "metadata": {},
   "outputs": [],
   "source": []
  }
 ],
 "metadata": {
  "kernelspec": {
   "display_name": "Python 3",
   "language": "python",
   "name": "python3"
  },
  "language_info": {
   "codemirror_mode": {
    "name": "ipython",
    "version": 3
   },
   "file_extension": ".py",
   "mimetype": "text/x-python",
   "name": "python",
   "nbconvert_exporter": "python",
   "pygments_lexer": "ipython3",
   "version": "3.6.8"
  }
 },
 "nbformat": 4,
 "nbformat_minor": 4
}
