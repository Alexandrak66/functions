{
 "cells": [
  {
   "cell_type": "markdown",
   "metadata": {},
   "source": [
    "# Stream to Parquet"
   ]
  },
  {
   "cell_type": "code",
   "execution_count": 1,
   "metadata": {},
   "outputs": [],
   "source": [
    "import nuclio"
   ]
  },
  {
   "cell_type": "code",
   "execution_count": 39,
   "metadata": {},
   "outputs": [
    {
     "name": "stdout",
     "output_type": "stream",
     "text": [
      "%nuclio: setting 'window' environment variable\n",
      "%nuclio: setting 'features' environment variable\n",
      "%nuclio: setting 'predictions' environment variable\n",
      "%nuclio: setting 'save_to' environment variable\n"
     ]
    }
   ],
   "source": [
    "%nuclio env window = 10\n",
    "%nuclio env features = a,b\n",
    "%nuclio env predictions = prediction\n",
    "%nuclio env save_to = /bigdata/inference_pq/\n",
    "%nuclio env base_dataset = /bigdata/migdal/data/selected_features.parquet"
   ]
  },
  {
   "cell_type": "code",
   "execution_count": 63,
   "metadata": {},
   "outputs": [
    {
     "name": "stdout",
     "output_type": "stream",
     "text": [
      "%nuclio: setting kind to 'nuclio'\n",
      "%nuclio: setting spec.image to 'mlrun/ml-models:0.4.6'\n",
      "mounting volume path /bigdata as /bigdata\n"
     ]
    }
   ],
   "source": [
    "# Define function spec\n",
    "%nuclio config kind = \"nuclio\"\n",
    "%nuclio config spec.image = \"mlrun/ml-models:0.4.6\"\n",
    "\n",
    "# Add V3IO Mount\n",
    "%nuclio env %v3io\n",
    "# %nuclio mount /User ~/\n",
    "%nuclio mount /bigdata /bigdata/"
   ]
  },
  {
   "cell_type": "code",
   "execution_count": 58,
   "metadata": {},
   "outputs": [
    {
     "name": "stdout",
     "output_type": "stream",
     "text": [
      "%nuclio: setting spec.triggers.labeled_stream.kind to 'v3ioStream'\n",
      "%nuclio: setting spec.triggers.labeled_stream.url to 'http://v3io-webapi:8081/bigdata/migdal/inference_stream_1@group_2'\n",
      "%nuclio: setting spec.triggers.labeled_stream.attributes.partitions to [1]\n",
      "%nuclio: setting spec.triggers.labeled_stream.username to 'admin'\n",
      "%nuclio: setting spec.triggers.labeled_stream.password to '24tango'\n",
      "%nuclio: setting spec.triggers.labeled_stream.attributes.pollingIntervalMs to 500\n",
      "%nuclio: setting spec.triggers.labeled_stream.attributes.seekTo to 'earliest'\n",
      "%nuclio: setting spec.triggers.labeled_stream.attributes.readBatchSize to 64\n",
      "%nuclio: setting spec.triggers.labeled_stream.maxWorkers to 1\n"
     ]
    }
   ],
   "source": [
    "%%nuclio config\n",
    "spec.triggers.labeled_stream.kind = \"v3ioStream\"\n",
    "spec.triggers.labeled_stream.url = \"http://v3io-webapi:8081/bigdata/migdal/inference_stream_1@group_2\"\n",
    "spec.triggers.labeled_stream.attributes.partitions = [1]\n",
    "spec.triggers.labeled_stream.username = \"admin\"\n",
    "spec.triggers.labeled_stream.password = \"24tango\"\n",
    "spec.triggers.labeled_stream.attributes.pollingIntervalMs = 500\n",
    "spec.triggers.labeled_stream.attributes.seekTo = \"earliest\"\n",
    "spec.triggers.labeled_stream.attributes.readBatchSize = 64\n",
    "spec.triggers.labeled_stream.maxWorkers = 1"
   ]
  },
  {
   "cell_type": "code",
   "execution_count": 54,
   "metadata": {},
   "outputs": [],
   "source": [
    "%%nuclio cmd -c\n",
    "python -m pip install numpy\n",
    "python -m pip install pandas\n",
    "python -m pip install pyarrow\n",
    "python -m pip install mlrun"
   ]
  },
  {
   "cell_type": "code",
   "execution_count": 5,
   "metadata": {},
   "outputs": [],
   "source": [
    "from mlrun import code_to_function, mount_v3io, run_local"
   ]
  },
  {
   "cell_type": "code",
   "execution_count": 6,
   "metadata": {},
   "outputs": [],
   "source": [
    "# nuclio: start-code"
   ]
  },
  {
   "cell_type": "code",
   "execution_count": 81,
   "metadata": {},
   "outputs": [],
   "source": [
    "import os\n",
    "import pandas as pd\n",
    "import numpy as np\n",
    "import json\n",
    "import datetime\n",
    "import mlrun"
   ]
  },
  {
   "cell_type": "code",
   "execution_count": 71,
   "metadata": {},
   "outputs": [],
   "source": [
    "def record_to_features(record):\n",
    "    features = record['request']['instances'][0]\n",
    "    timestamp = record['when']\n",
    "    prediction = record['resp']\n",
    "    \n",
    "    return [timestamp] + [feature for feature in features] + prediction"
   ]
  },
  {
   "cell_type": "code",
   "execution_count": 69,
   "metadata": {},
   "outputs": [],
   "source": [
    "def init_context(context):\n",
    "    setattr(context, 'batch', [])\n",
    "    setattr(context, 'window', int(os.getenv('window', 10)))\n",
    "    \n",
    "    features = os.getenv('features', None)\n",
    "    if features is not None:\n",
    "        features = features.split(',')    \n",
    "    setattr(context, 'features', features)\n",
    "        \n",
    "    predictions = os.getenv('predictions', None)\n",
    "    if predictions is not None:\n",
    "        predictions = predictions.split(',')\n",
    "    setattr(context, 'columns', ['timestamp'] + features + predictions)\n",
    "    \n",
    "    setattr(context, 'save_to', os.getenv('save_to', '/bigdata/inference_pq/'))\n",
    "    os.makedirs(context.save_to, exist_ok=True)\n",
    "    \n",
    "    virtual_drift_fn = mlrun.import_function('/bigdata/functions/virtual_drift.yaml')\n",
    "    virtual_drift_fn.apply(mlrun.mount_v3io(name='bigdata', mount_path='/bigdata', remote='/bigdata'))\n",
    "    setattr(context, 'virtual_drift_fn', virtual_drift_fn)\n",
    "    setattr(context, 'base_dataset', os.getenv('base_dataset', '/bigdata/migdal/data/selected_features.parquet'))"
   ]
  },
  {
   "cell_type": "code",
   "execution_count": 80,
   "metadata": {},
   "outputs": [],
   "source": [
    "def handler(context, event):\n",
    "    \n",
    "    context.logger.info(f'Adding {event.body}')\n",
    "    context.batch.append(record_to_features(json.loads(event.body)))\n",
    "    \n",
    "    if len(context.batch) > context.window:\n",
    "        context.logger.info(context.batch)\n",
    "        df = pd.DataFrame(data=context.batch,\n",
    "                          columns=context.columns)\n",
    "        df_path = os.path.join(context.save_to, f\"{datetime.datetime.now().strftime('%Y-%m-%dT%H:%M:%S')}.pq\")\n",
    "        df.to_parquet(df_path)\n",
    "\n",
    "        task = mlrun.NewTask(name='drift_magnitude',\n",
    "                        handler='drift_magnitude',\n",
    "                        params={'label_col': 'is_error',\n",
    "                                'results_tsdb_container': 'bigdata',\n",
    "                                'results_tsdb_table': 'drift_magnitude'},\n",
    "                        inputs={'t': '/bigdata/migdal/data/selected_features.parquet',\n",
    "                                'u': df_path},\n",
    "                        artifact_path=os.path.abspath('/bigdata/data'))\n",
    "        \n",
    "        context.virtual_drift_fn.run(task,\n",
    "                                     watch=False)\n",
    "        \n",
    "        context.batch = []"
   ]
  },
  {
   "cell_type": "code",
   "execution_count": 10,
   "metadata": {},
   "outputs": [],
   "source": [
    "# nuclio: end-code"
   ]
  },
  {
   "cell_type": "markdown",
   "metadata": {},
   "source": [
    "## Testing"
   ]
  },
  {
   "cell_type": "code",
   "execution_count": 23,
   "metadata": {},
   "outputs": [
    {
     "data": {
      "text/plain": [
       "{'instances': [[0.33849388495276456, 271.0561056056432]],\n",
       " 'resp': [False],\n",
       " 'class': 'ClassifierModel',\n",
       " 'model': 'predictor',\n",
       " 'host': 'migdal-server-568f7c9b4b-nfjdt',\n",
       " 'when': '2020-04-20 13:06:46.992705',\n",
       " 'microsec': 7661}"
      ]
     },
     "execution_count": 23,
     "metadata": {},
     "output_type": "execute_result"
    }
   ],
   "source": [
    "a = {\"request\": {\"instances\": [[0.33849388495276456, 271.0561056056432]]},\n",
    "     \"resp\": [False], \n",
    "     \"class\": \"ClassifierModel\", \n",
    "     \"model\": \"predictor\", \n",
    "     \"host\": \"migdal-server-568f7c9b4b-nfjdt\", \n",
    "     \"when\": \"2020-04-20 13:06:46.992705\", \n",
    "     \"microsec\": 7661}\n",
    "a"
   ]
  },
  {
   "cell_type": "code",
   "execution_count": 36,
   "metadata": {},
   "outputs": [
    {
     "data": {
      "text/plain": [
       "['2020-04-20 13:06:46.992705', 0.33849388495276456, 271.0561056056432, False]"
      ]
     },
     "execution_count": 36,
     "metadata": {},
     "output_type": "execute_result"
    }
   ],
   "source": [
    "record_to_features(a)"
   ]
  },
  {
   "cell_type": "code",
   "execution_count": null,
   "metadata": {},
   "outputs": [],
   "source": [
    "record_to_features"
   ]
  },
  {
   "cell_type": "markdown",
   "metadata": {},
   "source": [
    "## Deploy"
   ]
  },
  {
   "cell_type": "code",
   "execution_count": null,
   "metadata": {},
   "outputs": [],
   "source": [
    "%nuclio deploy -p drift -n s2p_v2"
   ]
  },
  {
   "cell_type": "code",
   "execution_count": null,
   "metadata": {},
   "outputs": [],
   "source": []
  }
 ],
 "metadata": {
  "kernelspec": {
   "display_name": "Python 3",
   "language": "python",
   "name": "python3"
  },
  "language_info": {
   "codemirror_mode": {
    "name": "ipython",
    "version": 3
   },
   "file_extension": ".py",
   "mimetype": "text/x-python",
   "name": "python",
   "nbconvert_exporter": "python",
   "pygments_lexer": "ipython3",
   "version": "3.6.8"
  }
 },
 "nbformat": 4,
 "nbformat_minor": 4
}
