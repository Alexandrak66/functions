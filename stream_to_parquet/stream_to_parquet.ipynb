{
 "cells": [
  {
   "cell_type": "markdown",
   "metadata": {},
   "source": [
    "# Stream to Parquet"
   ]
  },
  {
   "cell_type": "code",
   "execution_count": 4,
   "metadata": {},
   "outputs": [],
   "source": [
    "import nuclio"
   ]
  },
  {
   "cell_type": "code",
   "execution_count": 5,
   "metadata": {},
   "outputs": [
    {
     "name": "stdout",
     "output_type": "stream",
     "text": [
      "%nuclio: setting kind to 'nuclio'\n",
      "%nuclio: setting spec.build.baseImage to 'mlrun/ml-models'\n"
     ]
    }
   ],
   "source": [
    "# Define function spec\n",
    "%nuclio config kind = \"nuclio\"\n",
    "%nuclio config spec.build.baseImage = \"mlrun/ml-models\""
   ]
  },
  {
   "cell_type": "code",
   "execution_count": 6,
   "metadata": {},
   "outputs": [],
   "source": [
    "# nuclio: start-code"
   ]
  },
  {
   "cell_type": "code",
   "execution_count": 7,
   "metadata": {},
   "outputs": [],
   "source": [
    "import os\n",
    "import pandas as pd\n",
    "import numpy as np\n",
    "import json\n",
    "import datetime\n",
    "import mlrun"
   ]
  },
  {
   "cell_type": "code",
   "execution_count": 8,
   "metadata": {},
   "outputs": [],
   "source": [
    "def record_to_features(record):\n",
    "    features = record['request']['instances'][0]\n",
    "    timestamp = record['when']\n",
    "    prediction = record['resp']\n",
    "    \n",
    "    return [timestamp] + [feature for feature in features] + prediction"
   ]
  },
  {
   "cell_type": "code",
   "execution_count": 18,
   "metadata": {},
   "outputs": [],
   "source": [
    "def init_context(context):\n",
    "    setattr(context, 'batch', [])\n",
    "    setattr(context, 'window', int(os.getenv('window', 10)))\n",
    "    \n",
    "    columns = []\n",
    "    features = os.getenv('features', None)\n",
    "    if features is not None:\n",
    "        features = features.split(',')    \n",
    "        columns += features\n",
    "    setattr(context, 'features', features)\n",
    "        \n",
    "    predictions = os.getenv('predictions', None)\n",
    "    if predictions is not None:\n",
    "        predictions = predictions.split(',')\n",
    "        columns += predictions\n",
    "        \n",
    "    label_col = os.getenv('label_col', None)\n",
    "    if label_col is not None:\n",
    "        label_col = label_col.split(',')\n",
    "        columns += label_col\n",
    "    setattr(context, 'columns', ['timestamp'] + columns)\n",
    "    \n",
    "    setattr(context, 'save_to', os.getenv('save_to', '/bigdata/inference_pq/'))\n",
    "    os.makedirs(context.save_to, exist_ok=True)\n",
    "    \n",
    "    mlrun.mlconf.dbpath = mlrun.mlconf.dbpath or 'http://mlrun-api:8080'\n",
    "    if 'hub_url' in os.environ:\n",
    "        mlrun.mlconf.hub_url = os.environ['hub_url']\n",
    "    virtual_drift_fn = mlrun.import_function('hub://virtual_drift')\n",
    "    virtual_drift_fn.apply(mlrun.mount_v3io(name='vfn_mount', mount_path=os.getenv('mount_path', '~/'), remote=os.getenv('mount_remote', '/User')))\n",
    "    setattr(context, 'virtual_drift_fn', virtual_drift_fn)\n",
    "    setattr(context, 'base_dataset', os.getenv('base_dataset', ''))\n",
    "    \n",
    "    setattr(context, 'label_col', label_col)\n",
    "    setattr(context, 'results_tsdb_container', os.getenv('results_tsdb_container', None))\n",
    "    setattr(context, 'results_tsdb_table', os.getenv('results_tsdb_table', None))\n",
    "    context.logger.info('Successfuly assigned all function parameters')"
   ]
  },
  {
   "cell_type": "code",
   "execution_count": 10,
   "metadata": {},
   "outputs": [],
   "source": [
    "def handler(context, event):\n",
    "    \n",
    "    context.logger.info(f'Adding {event.body}')\n",
    "    context.batch.append(record_to_features(json.loads(event.body)))\n",
    "    \n",
    "    if len(context.batch) > context.window:\n",
    "        context.logger.info(context.batch)\n",
    "        df = pd.DataFrame(data=context.batch,\n",
    "                          columns=context.columns)\n",
    "        df_path = os.path.join(context.save_to, f\"{datetime.datetime.now().strftime('%Y-%m-%dT%H:%M:%S')}.pq\")\n",
    "        df.to_parquet(df_path)\n",
    "\n",
    "        task = mlrun.NewTask(name='drift_magnitude',\n",
    "                        handler='drift_magnitude',\n",
    "                        params={'label_col': context.label_col,\n",
    "                                'results_tsdb_container': context.results_tsdb_container,\n",
    "                                'results_tsdb_table': context.results_tsdb_table},\n",
    "                        inputs={'t': context.base_dataset,\n",
    "                                'u': df_path},\n",
    "                        artifact_path=mlrun.mlconf.artifact_path)\n",
    "        \n",
    "        context.virtual_drift_fn.run(task,\n",
    "                                     watch=False)\n",
    "        \n",
    "        context.batch = []"
   ]
  },
  {
   "cell_type": "code",
   "execution_count": 10,
   "metadata": {},
   "outputs": [],
   "source": [
    "# nuclio: end-code"
   ]
  },
  {
   "cell_type": "markdown",
   "metadata": {},
   "source": [
    "## Save to function yaml"
   ]
  },
  {
   "cell_type": "code",
   "execution_count": 1,
   "metadata": {},
   "outputs": [],
   "source": [
    "from mlrun import mlconf, code_to_function, mount_v3io\n",
    "mlconf.dbpath = mlconf.dbpath or 'http://mlrun-api:8080'"
   ]
  },
  {
   "cell_type": "code",
   "execution_count": 19,
   "metadata": {},
   "outputs": [
    {
     "name": "stdout",
     "output_type": "stream",
     "text": [
      "> 2020-08-03 12:21:41,997 [info] function spec saved to path: function.yaml\n"
     ]
    },
    {
     "data": {
      "text/plain": [
       "<mlrun.runtimes.function.RemoteRuntime at 0x7f08c8e95d68>"
      ]
     },
     "execution_count": 19,
     "metadata": {},
     "output_type": "execute_result"
    }
   ],
   "source": [
    "# create job function object from notebook code\n",
    "fn = code_to_function(\"stream_to_parquet\")\n",
    "\n",
    "# add metadata (for templates and reuse)\n",
    "fn.spec.default_handler = \"handler\"\n",
    "fn.spec.description = \"Saves a stream to Parquet and can lunch drift detection task on it\"\n",
    "fn.metadata.categories = [\"ml\", \"serve\"]\n",
    "fn.metadata.labels = {\"author\": \"orz\"}\n",
    "fn.export(\"function.yaml\")"
   ]
  },
  {
   "cell_type": "code",
   "execution_count": 20,
   "metadata": {},
   "outputs": [
    {
     "data": {
      "text/plain": [
       "<mlrun.runtimes.function.RemoteRuntime at 0x7f08c8e95d68>"
      ]
     },
     "execution_count": 20,
     "metadata": {},
     "output_type": "execute_result"
    }
   ],
   "source": [
    "fn.add_trigger('labeled_stream', nuclio.triggers.V3IOStreamTrigger(url='http://v3io-webapi:8081/users/admin/demo-network-operations/streaming/labeled_stream@t1'))"
   ]
  },
  {
   "cell_type": "code",
   "execution_count": 21,
   "metadata": {},
   "outputs": [
    {
     "data": {
      "text/plain": [
       "<mlrun.runtimes.function.RemoteRuntime at 0x7f08c8e95d68>"
      ]
     },
     "execution_count": 21,
     "metadata": {},
     "output_type": "execute_result"
    }
   ],
   "source": [
    "fn.set_envs({'window': 10,\n",
    "             'features': [\"cpu_utilization\", \"throughput\", \"packet_loss\", \"latency\"],\n",
    "             'predictions': 'prediction',\n",
    "             'label_col': 'is_error',\n",
    "             'save_to': '/User/demo-network-operations/streaming/inference_pq/',\n",
    "             'base_dataset': '/User/demo-network-operations/artifacts/test_set_preds.parquet,',\n",
    "             'results_tsdb_container': 'users',\n",
    "             'results_tsdb_table': 'admin/demo_network_operations/streaming/drift_magnitude',\n",
    "             'mount_remote': '/User',\n",
    "             'mount_path': '/users/admin/'})"
   ]
  },
  {
   "cell_type": "code",
   "execution_count": 22,
   "metadata": {},
   "outputs": [
    {
     "data": {
      "text/plain": [
       "<mlrun.runtimes.function.RemoteRuntime at 0x7f08c8e95d68>"
      ]
     },
     "execution_count": 22,
     "metadata": {},
     "output_type": "execute_result"
    }
   ],
   "source": [
    "fn.apply(mount_v3io())"
   ]
  },
  {
   "cell_type": "code",
   "execution_count": 23,
   "metadata": {},
   "outputs": [
    {
     "name": "stdout",
     "output_type": "stream",
     "text": [
      "> 2020-08-03 12:21:52,749 [info] deploy started\n",
      "[nuclio] 2020-08-03 12:21:59,501 (info) Build complete\n",
      "[nuclio] 2020-08-03 12:22:17,823 (info) Function deploy complete\n",
      "[nuclio] 2020-08-03 12:22:17,831 done updating network-operations-stream-to-parquet, function address: 192.168.224.209:31471\n"
     ]
    },
    {
     "data": {
      "text/plain": [
       "'http://192.168.224.209:31471'"
      ]
     },
     "execution_count": 23,
     "metadata": {},
     "output_type": "execute_result"
    }
   ],
   "source": [
    "fn.deploy(project='network-operations')"
   ]
  },
  {
   "cell_type": "code",
   "execution_count": null,
   "metadata": {},
   "outputs": [],
   "source": []
  }
 ],
 "metadata": {
  "kernelspec": {
   "display_name": "Python 3",
   "language": "python",
   "name": "python3"
  },
  "language_info": {
   "codemirror_mode": {
    "name": "ipython",
    "version": 3
   },
   "file_extension": ".py",
   "mimetype": "text/x-python",
   "name": "python",
   "nbconvert_exporter": "python",
   "pygments_lexer": "ipython3",
   "version": "3.6.8"
  }
 },
 "nbformat": 4,
 "nbformat_minor": 4
}
