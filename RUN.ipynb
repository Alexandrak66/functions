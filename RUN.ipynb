{
 "cells": [
  {
   "cell_type": "markdown",
   "metadata": {},
   "source": [
    "# Setup\n",
    "\n",
    "If you have made a local change to a function, it\"s local yaml can be updated as follows:"
   ]
  },
  {
   "cell_type": "code",
   "execution_count": 10,
   "metadata": {},
   "outputs": [
    {
     "name": "stdout",
     "output_type": "stream",
     "text": [
      "[mlrun] 2020-03-22 21:31:01,147 function spec saved to path: arc_to_parquet/function.yaml\n",
      "[mlrun] 2020-03-22 21:31:01,154 warning!, server (0.4.5) and client (0.4.6) ver dont match\n",
      "[mlrun] 2020-03-22 21:31:01,156 saving function: arc-to-parquet, tag: latest\n",
      "[mlrun] 2020-03-22 21:31:01,257 function spec saved to path: load_dataset/function.yaml\n",
      "[mlrun] 2020-03-22 21:31:01,264 warning!, server (0.4.5) and client (0.4.6) ver dont match\n",
      "[mlrun] 2020-03-22 21:31:01,265 saving function: load-dataset, tag: latest\n",
      "[mlrun] 2020-03-22 21:31:01,363 function spec saved to path: get_model_config/function.yaml\n",
      "[mlrun] 2020-03-22 21:31:01,369 warning!, server (0.4.5) and client (0.4.6) ver dont match\n",
      "[mlrun] 2020-03-22 21:31:01,370 saving function: get-model-config, tag: latest\n",
      "[mlrun] 2020-03-22 21:31:15,129 function spec saved to path: describe/function.yaml\n",
      "[mlrun] 2020-03-22 21:31:15,145 warning!, server (0.4.5) and client (0.4.6) ver dont match\n",
      "[mlrun] 2020-03-22 21:31:15,147 saving function: describe, tag: latest\n",
      "[mlrun] 2020-03-22 21:31:15,285 function spec saved to path: test_classifier/function.yaml\n",
      "[mlrun] 2020-03-22 21:31:15,291 warning!, server (0.4.5) and client (0.4.6) ver dont match\n",
      "[mlrun] 2020-03-22 21:31:15,293 saving function: test-classifier, tag: latest\n",
      "[mlrun] 2020-03-22 21:31:15,439 function spec saved to path: sklearn_classifier/function.yaml\n",
      "[mlrun] 2020-03-22 21:31:15,446 warning!, server (0.4.5) and client (0.4.6) ver dont match\n",
      "[mlrun] 2020-03-22 21:31:15,447 saving function: sklearn-classifier, tag: latest\n",
      "[mlrun] 2020-03-22 21:31:15,600 function spec saved to path: gen_class_data/function.yaml\n",
      "[mlrun] 2020-03-22 21:31:15,607 warning!, server (0.4.5) and client (0.4.6) ver dont match\n",
      "[mlrun] 2020-03-22 21:31:15,608 saving function: create-classification-data, tag: latest\n",
      "[mlrun] 2020-03-22 21:31:30,989 function spec saved to path: open_archive/function.yaml\n",
      "[mlrun] 2020-03-22 21:31:30,996 warning!, server (0.4.5) and client (0.4.6) ver dont match\n",
      "[mlrun] 2020-03-22 21:31:30,997 saving function: open-archive, tag: latest\n",
      "[mlrun] 2020-03-22 21:31:31,090 function spec saved to path: parquet_to_dask/function.yaml\n",
      "[mlrun] 2020-03-22 21:31:31,096 warning!, server (0.4.5) and client (0.4.6) ver dont match\n",
      "[mlrun] 2020-03-22 21:31:31,098 saving function: parquet-to-dask, tag: latest\n",
      "[mlrun] 2020-03-22 21:31:31,194 function spec saved to path: describe_dask/function.yaml\n",
      "[mlrun] 2020-03-22 21:31:31,201 warning!, server (0.4.5) and client (0.4.6) ver dont match\n",
      "[mlrun] 2020-03-22 21:31:31,202 saving function: describe-dask, tag: latest\n",
      "[mlrun] 2020-03-22 21:31:44,975 function spec saved to path: serving/function.yaml\n",
      "[mlrun] 2020-03-22 21:31:44,983 warning!, server (0.4.5) and client (0.4.6) ver dont match\n",
      "[mlrun] 2020-03-22 21:31:44,984 saving function: model-server, tag: latest\n"
     ]
    }
   ],
   "source": [
    "import mlrun, os, pandas\n",
    "\n",
    "mlrun.mlconf.dbpath = \"http://mlrun-api:8080\"\n",
    "#mlrun.mlconf.hub_url = \"https://raw.githubusercontent.com/mlrun/functions/mlrun-v0.4.6/{name}/function.yaml\"\n",
    "mlrun.mlconf.hub_url = \"/User/functions/{name}/function.yaml\"\n",
    "\n",
    "funcs_df = pandas.read_csv(\"functions-table.csv\")\n",
    "\n",
    "for index, row in funcs_df.iterrows():\n",
    "    # TODO: loop over function subfolders and extract build info instead of reading file\n",
    "    params={\n",
    "        \"name\"     : row[\"name\"],\n",
    "        \"filename\" : os.path.join(row[\"folder\"], row[\"filename\"]),\n",
    "        \"image\"    : f\"{row['image']}:{row['image_tag']}\",\n",
    "        \"kind\"     : row[\"kind\"],}\n",
    "    func=mlrun.code_to_function(**params)\n",
    "    func.spec.default_handler = row[\"handler\"]\n",
    "    func.spec.image_pull_policy = \"Always\"\n",
    "    func.spec.build.code_origin = f\"/User/functions/{row['name']}/function.yaml\"\n",
    "    func.metadata.categories = [row[\"categoryA\"], row[\"categoryB\"]]\n",
    "    func.metadata.labels = {\"author\": \"yjb\", \n",
    "                            \"stage\": \"development\"}\n",
    "    func.export(f\"{row['folder']}/function.yaml\")\n",
    "    func.save()"
   ]
  },
  {
   "cell_type": "code",
   "execution_count": null,
   "metadata": {},
   "outputs": [],
   "source": []
  }
 ],
 "metadata": {
  "kernelspec": {
   "display_name": "mlrun-v0.4.6",
   "language": "python",
   "name": "mlrun-v0.4.6"
  },
  "language_info": {
   "codemirror_mode": {
    "name": "ipython",
    "version": 3
   },
   "file_extension": ".py",
   "mimetype": "text/x-python",
   "name": "python",
   "nbconvert_exporter": "python",
   "pygments_lexer": "ipython3",
   "version": "3.7.6"
  },
  "toc-autonumbering": false,
  "toc-showcode": true
 },
 "nbformat": 4,
 "nbformat_minor": 4
}
