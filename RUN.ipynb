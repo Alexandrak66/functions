{
 "cells": [
  {
   "cell_type": "markdown",
   "metadata": {},
   "source": [
    "# Setup\n",
    "\n",
    "If you have made a local change to a function, it's local yaml can be updated as follows:"
   ]
  },
  {
   "cell_type": "code",
   "execution_count": 6,
   "metadata": {},
   "outputs": [
    {
     "name": "stdout",
     "output_type": "stream",
     "text": [
      "[mlrun] 2020-03-22 09:43:53,997 function spec saved to path: arc_to_parquet/function.yaml\n",
      "[mlrun] 2020-03-22 09:43:54,005 warning!, server (0.4.5) and client (0.4.6) ver dont match\n",
      "[mlrun] 2020-03-22 09:43:54,006 saving function: arc-to-parquet, tag: latest\n",
      "[mlrun] 2020-03-22 09:43:54,223 function spec saved to path: load_dataset/function.yaml\n",
      "[mlrun] 2020-03-22 09:43:54,230 warning!, server (0.4.5) and client (0.4.6) ver dont match\n",
      "[mlrun] 2020-03-22 09:43:54,231 saving function: load-dataset, tag: latest\n",
      "[mlrun] 2020-03-22 09:43:54,332 function spec saved to path: get_model_config/function.yaml\n",
      "[mlrun] 2020-03-22 09:43:54,338 warning!, server (0.4.5) and client (0.4.6) ver dont match\n",
      "[mlrun] 2020-03-22 09:43:54,340 saving function: get-model-config, tag: latest\n",
      "[mlrun] 2020-03-22 09:44:10,101 function spec saved to path: describe/function.yaml\n",
      "[mlrun] 2020-03-22 09:44:10,108 warning!, server (0.4.5) and client (0.4.6) ver dont match\n",
      "[mlrun] 2020-03-22 09:44:10,109 saving function: describe, tag: latest\n",
      "[mlrun] 2020-03-22 09:44:10,257 function spec saved to path: test_classifier/function.yaml\n",
      "[mlrun] 2020-03-22 09:44:10,263 warning!, server (0.4.5) and client (0.4.6) ver dont match\n",
      "[mlrun] 2020-03-22 09:44:10,265 saving function: test-classifier, tag: latest\n",
      "[mlrun] 2020-03-22 09:44:10,435 function spec saved to path: sklearn_classifier/function.yaml\n",
      "[mlrun] 2020-03-22 09:44:10,442 warning!, server (0.4.5) and client (0.4.6) ver dont match\n",
      "[mlrun] 2020-03-22 09:44:10,443 saving function: sklearn-classifier, tag: latest\n",
      "[mlrun] 2020-03-22 09:44:10,561 function spec saved to path: gen_class_data/function.yaml\n",
      "[mlrun] 2020-03-22 09:44:10,567 warning!, server (0.4.5) and client (0.4.6) ver dont match\n",
      "[mlrun] 2020-03-22 09:44:10,568 saving function: create-classification-data, tag: latest\n",
      "[mlrun] 2020-03-22 09:44:25,124 function spec saved to path: open_archive/function.yaml\n",
      "[mlrun] 2020-03-22 09:44:25,132 warning!, server (0.4.5) and client (0.4.6) ver dont match\n",
      "[mlrun] 2020-03-22 09:44:25,133 saving function: open-archive, tag: latest\n",
      "[mlrun] 2020-03-22 09:44:25,283 function spec saved to path: parquet_to_dask/function.yaml\n",
      "[mlrun] 2020-03-22 09:44:25,290 warning!, server (0.4.5) and client (0.4.6) ver dont match\n",
      "[mlrun] 2020-03-22 09:44:25,291 saving function: parquet-to-dask, tag: latest\n",
      "[mlrun] 2020-03-22 09:44:25,392 function spec saved to path: describe_dask/function.yaml\n",
      "[mlrun] 2020-03-22 09:44:25,398 warning!, server (0.4.5) and client (0.4.6) ver dont match\n",
      "[mlrun] 2020-03-22 09:44:25,399 saving function: describe-dask, tag: latest\n",
      "[mlrun] 2020-03-22 09:44:41,276 function spec saved to path: serving/function.yaml\n",
      "[mlrun] 2020-03-22 09:44:41,283 warning!, server (0.4.5) and client (0.4.6) ver dont match\n",
      "[mlrun] 2020-03-22 09:44:41,284 saving function: model-server, tag: latest\n"
     ]
    }
   ],
   "source": [
    "import mlrun, os, pandas\n",
    "\n",
    "mlrun.mlconf.dbpath = \"http://mlrun-api:8080\"\n",
    "mlrun.mlconf.hub_url = 'https://raw.githubusercontent.com/mlrun/functions/mlrun-v0.4.6/{name}/function.yaml'\n",
    "\n",
    "funcs_df = pandas.read_csv(\"functions-table.csv\")\n",
    "\n",
    "for index, row in funcs_df.iterrows():\n",
    "    # TODO: loop over function subfolders and extract build info instead of reading file\n",
    "    params={\n",
    "        \"name\"     : row[\"name\"],\n",
    "        \"filename\" : os.path.join(row[\"folder\"], row[\"filename\"]),\n",
    "        \"image\"    : f\"{row['image']}:{row['image_tag']}\",\n",
    "        \"kind\"     : row[\"kind\"],}\n",
    "    func=mlrun.code_to_function(**params)\n",
    "    func.spec.default_handler = row[\"handler\"]\n",
    "    func.spec.image_pull_policy = 'Always'\n",
    "    func.metadata.categories = [row[\"categoryA\"], row[\"categoryB\"]]\n",
    "    func.metadata.labels = {'author': 'yjb', \n",
    "                            'stage': 'development'}\n",
    "    func.export(f\"{row['folder']}/function.yaml\")\n",
    "    func.save()"
   ]
  },
  {
   "cell_type": "code",
   "execution_count": null,
   "metadata": {},
   "outputs": [],
   "source": []
  }
 ],
 "metadata": {
  "kernelspec": {
   "display_name": "mlrun-v0.4.6",
   "language": "python",
   "name": "mlrun-v0.4.6"
  },
  "language_info": {
   "codemirror_mode": {
    "name": "ipython",
    "version": 3
   },
   "file_extension": ".py",
   "mimetype": "text/x-python",
   "name": "python",
   "nbconvert_exporter": "python",
   "pygments_lexer": "ipython3",
   "version": "3.7.6"
  },
  "toc-autonumbering": false,
  "toc-showcode": true
 },
 "nbformat": 4,
 "nbformat_minor": 4
}
