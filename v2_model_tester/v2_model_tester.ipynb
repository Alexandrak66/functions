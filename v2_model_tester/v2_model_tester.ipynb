{
 "cells": [
  {
   "cell_type": "markdown",
   "metadata": {},
   "source": [
    "# Live Model Server Testing\n",
    "\n",
    "Test model server via HTTP calls "
   ]
  },
  {
   "cell_type": "code",
   "execution_count": 1,
   "metadata": {},
   "outputs": [],
   "source": [
    "# nuclio: ignore\n",
    "import nuclio"
   ]
  },
  {
   "cell_type": "code",
   "execution_count": 2,
   "metadata": {},
   "outputs": [
    {
     "name": "stdout",
     "output_type": "stream",
     "text": [
      "%nuclio: setting spec.image to 'mlrun/mlrun'\n"
     ]
    }
   ],
   "source": [
    "%nuclio config spec.image = \"mlrun/mlrun\""
   ]
  },
  {
   "cell_type": "code",
   "execution_count": 3,
   "metadata": {},
   "outputs": [
    {
     "name": "stdout",
     "output_type": "stream",
     "text": [
      "> 2020-10-07 09:52:18,453 [warning] Failed resolving version info. Ignoring and using defaults\n"
     ]
    }
   ],
   "source": [
    "import os\n",
    "import pandas as pd\n",
    "import requests\n",
    "import json\n",
    "import numpy as np\n",
    "from datetime import datetime\n",
    "from mlrun.datastore import DataItem\n",
    "from mlrun.artifacts import get_model, ChartArtifact\n",
    "\n",
    "def model_server_tester(context,\n",
    "                        table: DataItem,\n",
    "                        addr: str, \n",
    "                        label_column: str = \"label\",\n",
    "                        model: str = '',\n",
    "                        match_err: bool = False,\n",
    "                        rows: int = 20):\n",
    "    \"\"\" Test a model server \n",
    "    \n",
    "    :param table:         csv/parquet table with test data\n",
    "    :param addr:          function address/url\n",
    "    :param label_column:  name of the label column in table\n",
    "    :param model:         tested model name \n",
    "    :param match_err:     raise error on validation (require proper test set)\n",
    "    :param rows:          number of rows to use from test set\n",
    "    \"\"\"\n",
    "        \n",
    "    table = table.as_df()\n",
    "\n",
    "    y_list = table.pop(label_column).values.tolist()\n",
    "    context.logger.info(f'testing with dataset against {addr}, model: {model}')\n",
    "    if rows and rows < table.shape[0]:\n",
    "        table = table.sample(rows)\n",
    "    \n",
    "    count = err_count = match = 0\n",
    "    times = []\n",
    "    for x, y in zip(table.values, y_list):\n",
    "        count += 1\n",
    "        event_data = json.dumps({\"inputs\":[x.tolist()]})\n",
    "        had_err = False\n",
    "        try:\n",
    "            start = datetime.now()\n",
    "            resp = requests.put(f'{addr}/v2/models/{model}/infer', json=event_data)\n",
    "            if not resp.ok:\n",
    "                context.logger.error(f'bad function resp!!\\n{resp.text}')\n",
    "                err_count += 1\n",
    "                continue\n",
    "            times.append((datetime.now()-start).microseconds)\n",
    "                \n",
    "        except OSError as err:\n",
    "            context.logger.error(f'error in request, data:{event_data}, error: {err}')\n",
    "            err_count += 1\n",
    "            continue\n",
    "        \n",
    "        resp_data = resp.json()\n",
    "        print(resp_data)\n",
    "        y_resp = resp_data['outputs'][0]\n",
    "        if y == y_resp:\n",
    "            match += 1\n",
    "        \n",
    "    context.log_result('total_tests', count)\n",
    "    context.log_result('errors', err_count)\n",
    "    context.log_result('match', match)\n",
    "    if count - err_count > 0:\n",
    "        times_arr = np.array(times)\n",
    "        context.log_result('avg_latency', int(np.mean(times_arr)))\n",
    "        context.log_result('min_latency', int(np.amin(times_arr)))\n",
    "        context.log_result('max_latency', int(np.amax(times_arr)))\n",
    "        \n",
    "        chart = ChartArtifact('latency', header=['Test', 'Latency (microsec)'])\n",
    "        for i in range(len(times)):\n",
    "            chart.add_row([i+1, int(times[i])])\n",
    "        context.log_artifact(chart)\n",
    "\n",
    "    context.logger.info(f'run {count} tests, {err_count} errors and {match} match expected value')\n",
    "    \n",
    "    if err_count:\n",
    "        raise ValueError(f'failed on {err_count} tests of {count}')\n",
    "    \n",
    "    if match_err and match != count:\n",
    "        raise ValueError(f'only {match} results match out of {count}')"
   ]
  },
  {
   "cell_type": "code",
   "execution_count": 4,
   "metadata": {},
   "outputs": [],
   "source": [
    "# nuclio: end-code\n",
    "# marks the end of a code section"
   ]
  },
  {
   "cell_type": "code",
   "execution_count": 5,
   "metadata": {},
   "outputs": [],
   "source": [
    "from os import path\n",
    "from mlrun import run_local, NewTask, mlconf, import_function, mount_v3io\n",
    "mlconf.dbpath = mlconf.dbpath or 'http://mlrun-api:8080'\n",
    "\n",
    "# specify artifacts target location\n",
    "artifact_path = mlconf.artifact_path or path.abspath('./')\n",
    "project_name = 'sk-project'"
   ]
  },
  {
   "cell_type": "code",
   "execution_count": null,
   "metadata": {},
   "outputs": [],
   "source": [
    "# run the function locally (parameters must be set !!)\n",
    "addr = 'http://13.58.191.176:30115'\n",
    "gen = run_local(name='model_server_tester', handler=model_server_tester, \n",
    "                params={'addr': addr, 'model': 'iris_dataset_v1'},\n",
    "                inputs={'table': 'iris_dataset.parquet'},\n",
    "                project=project_name, artifact_path=path.join(artifact_path, 'data')) "
   ]
  },
  {
   "cell_type": "code",
   "execution_count": 7,
   "metadata": {},
   "outputs": [
    {
     "name": "stdout",
     "output_type": "stream",
     "text": [
      "> 2020-10-07 09:53:23,062 [info] function spec saved to path: function.yaml\n"
     ]
    },
    {
     "data": {
      "text/plain": [
       "<mlrun.runtimes.kubejob.KubejobRuntime at 0x7f2d3d03e550>"
      ]
     },
     "execution_count": 7,
     "metadata": {},
     "output_type": "execute_result"
    }
   ],
   "source": [
    "from mlrun import code_to_function\n",
    "test_func = code_to_function(name='v2_model_tester', kind='job', handler=\"model_server_tester\",\n",
    "                             description=\"test v2 model servers\",\n",
    "                             categories=[\"ml\", \"test\"],\n",
    "                             labels={\"author\": \"yaronh\"},\n",
    "                             code_output='.')\n",
    "\n",
    "test_func.export('function.yaml')"
   ]
  },
  {
   "cell_type": "code",
   "execution_count": null,
   "metadata": {},
   "outputs": [],
   "source": []
  }
 ],
 "metadata": {
  "kernelspec": {
   "display_name": "Python 3",
   "language": "python",
   "name": "python3"
  },
  "language_info": {
   "codemirror_mode": {
    "name": "ipython",
    "version": 3
   },
   "file_extension": ".py",
   "mimetype": "text/x-python",
   "name": "python",
   "nbconvert_exporter": "python",
   "pygments_lexer": "ipython3",
   "version": "3.7.6"
  }
 },
 "nbformat": 4,
 "nbformat_minor": 4
}
