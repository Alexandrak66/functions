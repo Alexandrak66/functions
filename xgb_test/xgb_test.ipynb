{
 "cells": [
  {
   "cell_type": "code",
   "execution_count": 33,
   "metadata": {},
   "outputs": [],
   "source": [
    "# nuclio: ignore\n",
    "import nuclio"
   ]
  },
  {
   "cell_type": "code",
   "execution_count": 34,
   "metadata": {},
   "outputs": [
    {
     "name": "stdout",
     "output_type": "stream",
     "text": [
      "%nuclio: setting kind to 'job'\n",
      "%nuclio: setting spec.image to 'yjbds/ml-models:0.4.7'\n"
     ]
    }
   ],
   "source": [
    "%nuclio config kind = \"job\"\n",
    "%nuclio config spec.image = \"yjbds/ml-models:0.4.7\""
   ]
  },
  {
   "cell_type": "code",
   "execution_count": 35,
   "metadata": {},
   "outputs": [],
   "source": [
    "import warnings\n",
    "warnings.simplefilter(action=\"ignore\", category=FutureWarning)"
   ]
  },
  {
   "cell_type": "code",
   "execution_count": 36,
   "metadata": {},
   "outputs": [],
   "source": [
    "import os\n",
    "import pandas as pd\n",
    "from mlrun.datastore import DataItem\n",
    "from mlrun.artifacts import get_model\n",
    "from cloudpickle import load\n",
    "from mlutils import eval_class_model\n",
    "from urllib.request import urlopen\n",
    "\n",
    "def xgb_test(\n",
    "    context,\n",
    "    models_path: DataItem, \n",
    "    test_set: DataItem,\n",
    "    label_column: str,\n",
    "    plots_dest: str = \"plots\",\n",
    "    model_evaluator = None,\n",
    "    default_model: str = \"model.pkl\"\n",
    ") -> None:\n",
    "    \"\"\"Test one or more classifier models against held-out dataset\n",
    "    \n",
    "    Using held-out test features, evaluates the peformance of the estimated model\n",
    "    \n",
    "    Can be part of a kubeflow pipeline as a test step that is run post EDA and \n",
    "    training/validation cycles\n",
    "    \n",
    "    :param context:         the function context\n",
    "    :param models_path:     model artifact to be tested\n",
    "    :param test_set:        test features and labels\n",
    "    :param label_column:    column name for ground truth labels\n",
    "    :param plots_dest:      dir for test plots\n",
    "    :param model_evaluator: WIP: specific method to generate eval, passed in as string\n",
    "                            or available in this folder\n",
    "    :param default_model:   'model.pkl', default model artifact file name\n",
    "    \"\"\"  \n",
    "    xtest = test_set.as_df()\n",
    "    ytest = xtest.pop(label_column)\n",
    "    \n",
    "    try:\n",
    "        model_file, model_obj, _ = get_model(models_path.url, suffix='.pkl')\n",
    "        model_obj = load(open(model_file, \"rb\"))\n",
    "    except ValueError as va: \n",
    "        model_obj = load(urlopen(os.path.join(str(models_path), default_model)))\n",
    "    except Exception as a:\n",
    "        raise Exception(\"model location likely specified\")\n",
    "\n",
    "    if not model_evaluator:\n",
    "        # binary and multiclass\n",
    "        eval_metrics = eval_class_model(context, xtest, ytest, model_obj)\n",
    "\n",
    "    # just do this inside log_model?\n",
    "    model_plots = eval_metrics.pop(\"plots\")\n",
    "    model_tables = eval_metrics.pop(\"tables\")\n",
    "    for plot in model_plots:\n",
    "        context.log_artifact(plot, local_path=f\"{plots_dest}/{plot.key}.html\")\n",
    "    for tbl in model_tables:\n",
    "        context.log_artifact(tbl, local_path=f\"{plots_dest}/{plot.key}.csv\")\n",
    "\n",
    "    context.log_results(eval_metrics)"
   ]
  },
  {
   "cell_type": "code",
   "execution_count": 37,
   "metadata": {},
   "outputs": [],
   "source": [
    "# nuclio: end-code"
   ]
  },
  {
   "cell_type": "markdown",
   "metadata": {},
   "source": [
    "### mlconfig"
   ]
  },
  {
   "cell_type": "code",
   "execution_count": 38,
   "metadata": {},
   "outputs": [],
   "source": [
    "from mlrun import mlconf\n",
    "import os\n",
    "\n",
    "mlconf.dbpath = mlconf.dbpath or 'http://mlrun-api:8080'\n",
    "mlconf.artifact_path = mlconf.artifact_path or f'{os.environ[\"HOME\"]}/artifacts'"
   ]
  },
  {
   "cell_type": "markdown",
   "metadata": {},
   "source": [
    "### save"
   ]
  },
  {
   "cell_type": "code",
   "execution_count": 39,
   "metadata": {},
   "outputs": [
    {
     "name": "stdout",
     "output_type": "stream",
     "text": [
      "[mlrun] 2020-05-19 20:58:35,539 function spec saved to path: function.yaml\n"
     ]
    },
    {
     "data": {
      "text/plain": [
       "<mlrun.runtimes.kubejob.KubejobRuntime at 0x7f3e519fae10>"
      ]
     },
     "execution_count": 39,
     "metadata": {},
     "output_type": "execute_result"
    }
   ],
   "source": [
    "from mlrun import code_to_function \n",
    "# create job function object from notebook code\n",
    "fn = code_to_function(\"xgb_test\")\n",
    "\n",
    "# add metadata (for templates and reuse)\n",
    "fn.spec.default_handler = \"xgb_test\"\n",
    "fn.spec.description = \"test a classifier using held-out or new data\"\n",
    "fn.metadata.categories = [\"ml\", \"test\"]\n",
    "fn.metadata.labels = {\"author\": \"yjb\", \"framework\": \"xgboost\"}\n",
    "fn.export(\"function.yaml\")"
   ]
  },
  {
   "cell_type": "markdown",
   "metadata": {},
   "source": [
    "## tests"
   ]
  },
  {
   "cell_type": "code",
   "execution_count": 40,
   "metadata": {},
   "outputs": [],
   "source": [
    "if \"V3IO_HOME\" in list(os.environ):\n",
    "    from mlrun import mount_v3io\n",
    "    fn.apply(mount_v3io())\n",
    "else:\n",
    "    # is you set up mlrun using the instructions at https://github.com/mlrun/mlrun/blob/master/hack/local/README.md\n",
    "    from mlrun.platforms import mount_pvc\n",
    "    fn.apply(mount_pvc('nfsvol', 'nfsvol', '/home/jovyan/data'))"
   ]
  },
  {
   "cell_type": "code",
   "execution_count": 41,
   "metadata": {},
   "outputs": [],
   "source": [
    "task_params = {\n",
    "    \"name\" : \"tasks xgb test\",\n",
    "    \"params\": {\n",
    "        \"label_column\"  : \"labels\",\n",
    "        \"plots_dest\"    : \"plots/xgb_test\"}}"
   ]
  },
  {
   "cell_type": "code",
   "execution_count": 42,
   "metadata": {},
   "outputs": [],
   "source": [
    "TEST_REPO = \"https://raw.githubusercontent.com/yjb-ds/testdata/master\"\n",
    "DATA_PATH  = \"data/classifier-data.csv\"\n",
    "MODELS_PATH = \"models/xgb_test\""
   ]
  },
  {
   "cell_type": "markdown",
   "metadata": {},
   "source": [
    "### run locally"
   ]
  },
  {
   "cell_type": "code",
   "execution_count": 43,
   "metadata": {},
   "outputs": [
    {
     "name": "stdout",
     "output_type": "stream",
     "text": [
      "[mlrun] 2020-05-19 20:58:38,180 starting run tasks xgb test uid=d24456f72b6a40639a8b04eb691eb5f2  -> http://mlrun-api:8080\n",
      "[mlrun] 2020-05-19 20:58:39,700 log artifact calibration curve at /home/jovyan/data/plots/calibration curve.html, size: 27868, db: Y\n",
      "[mlrun] 2020-05-19 20:58:39,775 log artifact learning curve - auc at /home/jovyan/data/plots/learning curve - auc.html, size: 16735, db: Y\n",
      "[mlrun] 2020-05-19 20:58:39,839 log artifact learning curve - erreur at /home/jovyan/data/plots/learning curve - erreur.html, size: 14750, db: Y\n",
      "[mlrun] 2020-05-19 20:58:40,044 log artifact feature-importances at /home/jovyan/data/plots/xgb_test/feature-importances.html, size: 14670, db: Y\n",
      "[mlrun] 2020-05-19 20:58:40,110 log artifact confusion-matrix-normalized at /home/jovyan/data/plots/xgb_test/confusion-matrix-normalized.html, size: 10530, db: Y\n",
      "[mlrun] 2020-05-19 20:58:40,169 log artifact roc-binary at /home/jovyan/data/plots/xgb_test/roc-binary.html, size: 17309, db: Y\n",
      "[mlrun] 2020-05-19 20:58:40,214 log artifact precision-recall-binary at /home/jovyan/data/plots/xgb_test/precision-recall-binary.html, size: 12930, db: Y\n",
      "[mlrun] 2020-05-19 20:58:40,222 log artifact feature-importances-tbl at /home/jovyan/data/plots/xgb_test/precision-recall-binary.csv, size: 120, db: Y\n",
      "\n"
     ]
    },
    {
     "data": {
      "text/html": [
       "<style> \n",
       ".dictlist {\n",
       "  background-color: #b3edff; \n",
       "  text-align: center; \n",
       "  margin: 4px; \n",
       "  border-radius: 3px; padding: 0px 3px 1px 3px; display: inline-block;}\n",
       ".artifact {\n",
       "  cursor: pointer; \n",
       "  background-color: #ffe6cc; \n",
       "  text-align: left; \n",
       "  margin: 4px; border-radius: 3px; padding: 0px 3px 1px 3px; display: inline-block;\n",
       "}\n",
       "div.block.hidden {\n",
       "  display: none;\n",
       "}\n",
       ".clickable {\n",
       "  cursor: pointer;\n",
       "}\n",
       ".ellipsis {\n",
       "  display: inline-block;\n",
       "  max-width: 60px;\n",
       "  white-space: nowrap;\n",
       "  overflow: hidden;\n",
       "  text-overflow: ellipsis;\n",
       "}\n",
       ".master-wrapper {\n",
       "  display: flex;\n",
       "  flex-flow: row nowrap;\n",
       "  justify-content: flex-start;\n",
       "  align-items: stretch;\n",
       "}\n",
       ".master-tbl {\n",
       "  flex: 3\n",
       "}\n",
       ".master-wrapper > div {\n",
       "  margin: 4px;\n",
       "  padding: 10px;\n",
       "}\n",
       "iframe.fileview {\n",
       "  border: 0 none;\n",
       "  height: 100%;\n",
       "  width: 100%;\n",
       "  white-space: pre-wrap;\n",
       "}\n",
       ".pane-header-title {\n",
       "  width: 80%;\n",
       "  font-weight: 500;\n",
       "}\n",
       ".pane-header {\n",
       "  line-height: 1;\n",
       "  background-color: #ffe6cc;\n",
       "  padding: 3px;\n",
       "}\n",
       ".pane-header .close {\n",
       "  font-size: 20px;\n",
       "  font-weight: 700;\n",
       "  float: right;\n",
       "  margin-top: -5px;\n",
       "}\n",
       ".master-wrapper .right-pane {\n",
       "  border: 1px inset silver;\n",
       "  width: 40%;\n",
       "  min-height: 300px;\n",
       "  flex: 3\n",
       "  min-width: 500px;\n",
       "}\n",
       ".master-wrapper * {\n",
       "  box-sizing: border-box;\n",
       "}\n",
       "</style><script>\n",
       "function copyToClipboard(fld) {\n",
       "    if (document.queryCommandSupported && document.queryCommandSupported('copy')) {\n",
       "        var textarea = document.createElement('textarea');\n",
       "        textarea.textContent = fld.innerHTML;\n",
       "        textarea.style.position = 'fixed';\n",
       "        document.body.appendChild(textarea);\n",
       "        textarea.select();\n",
       "\n",
       "        try {\n",
       "            return document.execCommand('copy'); // Security exception may be thrown by some browsers.\n",
       "        } catch (ex) {\n",
       "\n",
       "        } finally {\n",
       "            document.body.removeChild(textarea);\n",
       "        }\n",
       "    }\n",
       "}\n",
       "function expandPanel(el) {\n",
       "  const panelName = \"#\" + el.getAttribute('paneName');\n",
       "  console.log(el.title);\n",
       "\n",
       "  document.querySelector(panelName + \"-title\").innerHTML = el.title\n",
       "  iframe = document.querySelector(panelName + \"-body\");\n",
       "  \n",
       "  const tblcss = `<style> body { font-family: Arial, Helvetica, sans-serif;}\n",
       "    #csv { margin-bottom: 15px; }\n",
       "    #csv table { border-collapse: collapse;}\n",
       "    #csv table td { padding: 4px 8px; border: 1px solid silver;} </style>`;\n",
       "\n",
       "  function csvToHtmlTable(str) {\n",
       "    return '<div id=\"csv\"><table><tr><td>' +  str.replace(/[\\n\\r]+$/g, '').replace(/[\\n\\r]+/g, '</td></tr><tr><td>')\n",
       "      .replace(/,/g, '</td><td>') + '</td></tr></table></div>';\n",
       "  }\n",
       "  \n",
       "  function reqListener () {\n",
       "    if (el.title.endsWith(\".csv\")) {\n",
       "      iframe.setAttribute(\"srcdoc\", tblcss + csvToHtmlTable(this.responseText));\n",
       "    } else {\n",
       "      iframe.setAttribute(\"srcdoc\", this.responseText);\n",
       "    }  \n",
       "    console.log(this.responseText);\n",
       "  }\n",
       "\n",
       "  const oReq = new XMLHttpRequest();\n",
       "  oReq.addEventListener(\"load\", reqListener);\n",
       "  oReq.open(\"GET\", el.title);\n",
       "  oReq.send();\n",
       "  \n",
       "  \n",
       "  //iframe.src = el.title;\n",
       "  const resultPane = document.querySelector(panelName + \"-pane\");\n",
       "  if (resultPane.classList.contains(\"hidden\")) {\n",
       "    resultPane.classList.remove(\"hidden\");\n",
       "  }\n",
       "}\n",
       "function closePanel(el) {\n",
       "  const panelName = \"#\" + el.getAttribute('paneName')\n",
       "  const resultPane = document.querySelector(panelName + \"-pane\");\n",
       "  if (!resultPane.classList.contains(\"hidden\")) {\n",
       "    resultPane.classList.add(\"hidden\");\n",
       "  }\n",
       "}\n",
       "\n",
       "</script>\n",
       "<div class=\"master-wrapper\">\n",
       "  <div class=\"block master-tbl\"><div>\n",
       "<style scoped>\n",
       "    .dataframe tbody tr th:only-of-type {\n",
       "        vertical-align: middle;\n",
       "    }\n",
       "\n",
       "    .dataframe tbody tr th {\n",
       "        vertical-align: top;\n",
       "    }\n",
       "\n",
       "    .dataframe thead th {\n",
       "        text-align: right;\n",
       "    }\n",
       "</style>\n",
       "<table border=\"1\" class=\"dataframe\">\n",
       "  <thead>\n",
       "    <tr style=\"text-align: right;\">\n",
       "      <th>project</th>\n",
       "      <th>uid</th>\n",
       "      <th>iter</th>\n",
       "      <th>start</th>\n",
       "      <th>state</th>\n",
       "      <th>name</th>\n",
       "      <th>labels</th>\n",
       "      <th>inputs</th>\n",
       "      <th>parameters</th>\n",
       "      <th>results</th>\n",
       "      <th>artifacts</th>\n",
       "    </tr>\n",
       "  </thead>\n",
       "  <tbody>\n",
       "    <tr>\n",
       "      <td>default</td>\n",
       "      <td><div title=\"d24456f72b6a40639a8b04eb691eb5f2\">...1eb5f2</div></td>\n",
       "      <td>0</td>\n",
       "      <td>May 19 20:58:38</td>\n",
       "      <td>completed</td>\n",
       "      <td>tasks xgb test</td>\n",
       "      <td><div class=\"dictlist\">kind=handler</div><div class=\"dictlist\">owner=jovyan</div><div class=\"dictlist\">host=jupyter-notebook-7588fddc47-ffg72</div></td>\n",
       "      <td><div title=\"https://raw.githubusercontent.com/yjb-ds/testdata/master/data/classifier-data.csv\">test_set</div><div title=\"https://raw.githubusercontent.com/yjb-ds/testdata/master/models/xgb_test\">models_path</div></td>\n",
       "      <td><div class=\"dictlist\">label_column=labels</div><div class=\"dictlist\">plots_dest=plots/xgb_test</div></td>\n",
       "      <td><div class=\"dictlist\">test-accuracy=0.964</div><div class=\"dictlist\">test-error=0.036</div><div class=\"dictlist\">rocauc=0.9845582259375362</div><div class=\"dictlist\">brier_score=0.026451627408418558</div><div class=\"dictlist\">f1-score=0.9552238805970149</div><div class=\"dictlist\">precision_score=0.964824120603015</div><div class=\"dictlist\">recall_score=0.9458128078817734</div></td>\n",
       "      <td><div class=\"artifact\" onclick=\"expandPanel(this)\" paneName=\"resulte84bf6dc\" title=\"/files/data/plots/calibration curve.html\">calibration curve</div><div class=\"artifact\" onclick=\"expandPanel(this)\" paneName=\"resulte84bf6dc\" title=\"/files/data/plots/learning curve - auc.html\">learning curve - auc</div><div class=\"artifact\" onclick=\"expandPanel(this)\" paneName=\"resulte84bf6dc\" title=\"/files/data/plots/learning curve - erreur.html\">learning curve - erreur</div><div class=\"artifact\" onclick=\"expandPanel(this)\" paneName=\"resulte84bf6dc\" title=\"/files/data/plots/xgb_test/feature-importances.html\">feature-importances</div><div class=\"artifact\" onclick=\"expandPanel(this)\" paneName=\"resulte84bf6dc\" title=\"/files/data/plots/xgb_test/confusion-matrix-normalized.html\">confusion-matrix-normalized</div><div class=\"artifact\" onclick=\"expandPanel(this)\" paneName=\"resulte84bf6dc\" title=\"/files/data/plots/xgb_test/roc-binary.html\">roc-binary</div><div class=\"artifact\" onclick=\"expandPanel(this)\" paneName=\"resulte84bf6dc\" title=\"/files/data/plots/xgb_test/precision-recall-binary.html\">precision-recall-binary</div><div class=\"artifact\" onclick=\"expandPanel(this)\" paneName=\"resulte84bf6dc\" title=\"/files/data/plots/xgb_test/precision-recall-binary.csv\">feature-importances-tbl</div></td>\n",
       "    </tr>\n",
       "  </tbody>\n",
       "</table>\n",
       "</div></div>\n",
       "  <div id=\"resulte84bf6dc-pane\" class=\"right-pane block hidden\">\n",
       "    <div class=\"pane-header\">\n",
       "      <span id=\"resulte84bf6dc-title\" class=\"pane-header-title\">Title</span>\n",
       "      <span onclick=\"closePanel(this)\" paneName=\"resulte84bf6dc\" class=\"close clickable\">&times;</span>\n",
       "    </div>\n",
       "    <iframe class=\"fileview\" id=\"resulte84bf6dc-body\"></iframe>\n",
       "  </div>\n",
       "</div>\n"
      ],
      "text/plain": [
       "<IPython.core.display.HTML object>"
      ]
     },
     "metadata": {},
     "output_type": "display_data"
    },
    {
     "name": "stdout",
     "output_type": "stream",
     "text": [
      "to track results use .show() or .logs() or in CLI: \n",
      "!mlrun get run d24456f72b6a40639a8b04eb691eb5f2 --project default , !mlrun logs d24456f72b6a40639a8b04eb691eb5f2 --project default\n",
      "[mlrun] 2020-05-19 20:58:40,249 run executed, status=completed\n"
     ]
    },
    {
     "data": {
      "image/png": "[encoded data removed]",
      "text/plain": [
       "<Figure size 432x288 with 1 Axes>"
      ]
     },
     "metadata": {
      "needs_background": "light"
     },
     "output_type": "display_data"
    },
    {
     "data": {
      "text/plain": [
       "<Figure size 432x288 with 0 Axes>"
      ]
     },
     "metadata": {},
     "output_type": "display_data"
    },
    {
     "data": {
      "text/plain": [
       "<Figure size 432x288 with 0 Axes>"
      ]
     },
     "metadata": {},
     "output_type": "display_data"
    },
    {
     "data": {
      "image/png": "[encoded data removed]",
      "text/plain": [
       "<Figure size 1440x720 with 1 Axes>"
      ]
     },
     "metadata": {
      "needs_background": "light"
     },
     "output_type": "display_data"
    },
    {
     "data": {
      "image/png": "[encoded data removed]",
      "text/plain": [
       "<Figure size 432x288 with 2 Axes>"
      ]
     },
     "metadata": {
      "needs_background": "light"
     },
     "output_type": "display_data"
    },
    {
     "data": {
      "image/png": "[encoded data removed]",
      "text/plain": [
       "<Figure size 432x288 with 1 Axes>"
      ]
     },
     "metadata": {
      "needs_background": "light"
     },
     "output_type": "display_data"
    }
   ],
   "source": [
    "from mlrun import run_local, NewTask\n",
    "\n",
    "run = run_local(NewTask(**task_params),\n",
    "                handler=xgb_test,\n",
    "                inputs={\"test_set\"      : f\"{TEST_REPO}/{DATA_PATH}\",\n",
    "                        \"models_path\"   : f\"{TEST_REPO}/{MODELS_PATH}\"},\n",
    "                workdir=mlconf.artifact_path)"
   ]
  },
  {
   "cell_type": "code",
   "execution_count": 44,
   "metadata": {},
   "outputs": [
    {
     "name": "stdout",
     "output_type": "stream",
     "text": [
      "[mlrun] 2020-05-19 20:58:40,583 starting run tasks xgb test uid=59dabc9b898a4c73aa511437ed673527  -> http://mlrun-api:8080\n",
      "[mlrun] 2020-05-19 20:58:40,692 Job is running in the background, pod: tasks-xgb-test-7rml4\n",
      "[mlrun] 2020-05-19 20:58:45,443 log artifact calibration curve at /home/jovyan/data/plots/calibration curve.html, size: 53776, db: Y\n",
      "[mlrun] 2020-05-19 20:58:45,529 log artifact learning curve - auc at /home/jovyan/data/plots/learning curve - auc.html, size: 33695, db: Y\n",
      "[mlrun] 2020-05-19 20:58:45,602 log artifact learning curve - erreur at /home/jovyan/data/plots/learning curve - erreur.html, size: 30642, db: Y\n",
      "[mlrun] 2020-05-19 20:58:45,839 log artifact feature-importances at /home/jovyan/data/plots/xgb_test/feature-importances.html, size: 28218, db: Y\n",
      "[mlrun] 2020-05-19 20:58:45,887 log artifact confusion-matrix-normalized at /home/jovyan/data/plots/xgb_test/confusion-matrix-normalized.html, size: 19626, db: Y\n",
      "[mlrun] 2020-05-19 20:58:45,933 log artifact roc-binary at /home/jovyan/data/plots/xgb_test/roc-binary.html, size: 33333, db: Y\n",
      "[mlrun] 2020-05-19 20:58:45,977 log artifact precision-recall-binary at /home/jovyan/data/plots/xgb_test/precision-recall-binary.html, size: 25834, db: Y\n",
      "[mlrun] 2020-05-19 20:58:45,985 log artifact feature-importances-tbl at /home/jovyan/data/plots/xgb_test/precision-recall-binary.csv, size: 120, db: Y\n",
      "\n",
      "[mlrun] 2020-05-19 20:58:45,996 run executed, status=completed\n",
      "final state: succeeded\n"
     ]
    },
    {
     "data": {
      "text/html": [
       "<style> \n",
       ".dictlist {\n",
       "  background-color: #b3edff; \n",
       "  text-align: center; \n",
       "  margin: 4px; \n",
       "  border-radius: 3px; padding: 0px 3px 1px 3px; display: inline-block;}\n",
       ".artifact {\n",
       "  cursor: pointer; \n",
       "  background-color: #ffe6cc; \n",
       "  text-align: left; \n",
       "  margin: 4px; border-radius: 3px; padding: 0px 3px 1px 3px; display: inline-block;\n",
       "}\n",
       "div.block.hidden {\n",
       "  display: none;\n",
       "}\n",
       ".clickable {\n",
       "  cursor: pointer;\n",
       "}\n",
       ".ellipsis {\n",
       "  display: inline-block;\n",
       "  max-width: 60px;\n",
       "  white-space: nowrap;\n",
       "  overflow: hidden;\n",
       "  text-overflow: ellipsis;\n",
       "}\n",
       ".master-wrapper {\n",
       "  display: flex;\n",
       "  flex-flow: row nowrap;\n",
       "  justify-content: flex-start;\n",
       "  align-items: stretch;\n",
       "}\n",
       ".master-tbl {\n",
       "  flex: 3\n",
       "}\n",
       ".master-wrapper > div {\n",
       "  margin: 4px;\n",
       "  padding: 10px;\n",
       "}\n",
       "iframe.fileview {\n",
       "  border: 0 none;\n",
       "  height: 100%;\n",
       "  width: 100%;\n",
       "  white-space: pre-wrap;\n",
       "}\n",
       ".pane-header-title {\n",
       "  width: 80%;\n",
       "  font-weight: 500;\n",
       "}\n",
       ".pane-header {\n",
       "  line-height: 1;\n",
       "  background-color: #ffe6cc;\n",
       "  padding: 3px;\n",
       "}\n",
       ".pane-header .close {\n",
       "  font-size: 20px;\n",
       "  font-weight: 700;\n",
       "  float: right;\n",
       "  margin-top: -5px;\n",
       "}\n",
       ".master-wrapper .right-pane {\n",
       "  border: 1px inset silver;\n",
       "  width: 40%;\n",
       "  min-height: 300px;\n",
       "  flex: 3\n",
       "  min-width: 500px;\n",
       "}\n",
       ".master-wrapper * {\n",
       "  box-sizing: border-box;\n",
       "}\n",
       "</style><script>\n",
       "function copyToClipboard(fld) {\n",
       "    if (document.queryCommandSupported && document.queryCommandSupported('copy')) {\n",
       "        var textarea = document.createElement('textarea');\n",
       "        textarea.textContent = fld.innerHTML;\n",
       "        textarea.style.position = 'fixed';\n",
       "        document.body.appendChild(textarea);\n",
       "        textarea.select();\n",
       "\n",
       "        try {\n",
       "            return document.execCommand('copy'); // Security exception may be thrown by some browsers.\n",
       "        } catch (ex) {\n",
       "\n",
       "        } finally {\n",
       "            document.body.removeChild(textarea);\n",
       "        }\n",
       "    }\n",
       "}\n",
       "function expandPanel(el) {\n",
       "  const panelName = \"#\" + el.getAttribute('paneName');\n",
       "  console.log(el.title);\n",
       "\n",
       "  document.querySelector(panelName + \"-title\").innerHTML = el.title\n",
       "  iframe = document.querySelector(panelName + \"-body\");\n",
       "  \n",
       "  const tblcss = `<style> body { font-family: Arial, Helvetica, sans-serif;}\n",
       "    #csv { margin-bottom: 15px; }\n",
       "    #csv table { border-collapse: collapse;}\n",
       "    #csv table td { padding: 4px 8px; border: 1px solid silver;} </style>`;\n",
       "\n",
       "  function csvToHtmlTable(str) {\n",
       "    return '<div id=\"csv\"><table><tr><td>' +  str.replace(/[\\n\\r]+$/g, '').replace(/[\\n\\r]+/g, '</td></tr><tr><td>')\n",
       "      .replace(/,/g, '</td><td>') + '</td></tr></table></div>';\n",
       "  }\n",
       "  \n",
       "  function reqListener () {\n",
       "    if (el.title.endsWith(\".csv\")) {\n",
       "      iframe.setAttribute(\"srcdoc\", tblcss + csvToHtmlTable(this.responseText));\n",
       "    } else {\n",
       "      iframe.setAttribute(\"srcdoc\", this.responseText);\n",
       "    }  \n",
       "    console.log(this.responseText);\n",
       "  }\n",
       "\n",
       "  const oReq = new XMLHttpRequest();\n",
       "  oReq.addEventListener(\"load\", reqListener);\n",
       "  oReq.open(\"GET\", el.title);\n",
       "  oReq.send();\n",
       "  \n",
       "  \n",
       "  //iframe.src = el.title;\n",
       "  const resultPane = document.querySelector(panelName + \"-pane\");\n",
       "  if (resultPane.classList.contains(\"hidden\")) {\n",
       "    resultPane.classList.remove(\"hidden\");\n",
       "  }\n",
       "}\n",
       "function closePanel(el) {\n",
       "  const panelName = \"#\" + el.getAttribute('paneName')\n",
       "  const resultPane = document.querySelector(panelName + \"-pane\");\n",
       "  if (!resultPane.classList.contains(\"hidden\")) {\n",
       "    resultPane.classList.add(\"hidden\");\n",
       "  }\n",
       "}\n",
       "\n",
       "</script>\n",
       "<div class=\"master-wrapper\">\n",
       "  <div class=\"block master-tbl\"><div>\n",
       "<style scoped>\n",
       "    .dataframe tbody tr th:only-of-type {\n",
       "        vertical-align: middle;\n",
       "    }\n",
       "\n",
       "    .dataframe tbody tr th {\n",
       "        vertical-align: top;\n",
       "    }\n",
       "\n",
       "    .dataframe thead th {\n",
       "        text-align: right;\n",
       "    }\n",
       "</style>\n",
       "<table border=\"1\" class=\"dataframe\">\n",
       "  <thead>\n",
       "    <tr style=\"text-align: right;\">\n",
       "      <th>project</th>\n",
       "      <th>uid</th>\n",
       "      <th>iter</th>\n",
       "      <th>start</th>\n",
       "      <th>state</th>\n",
       "      <th>name</th>\n",
       "      <th>labels</th>\n",
       "      <th>inputs</th>\n",
       "      <th>parameters</th>\n",
       "      <th>results</th>\n",
       "      <th>artifacts</th>\n",
       "    </tr>\n",
       "  </thead>\n",
       "  <tbody>\n",
       "    <tr>\n",
       "      <td>default</td>\n",
       "      <td><div title=\"59dabc9b898a4c73aa511437ed673527\">...673527</div></td>\n",
       "      <td>0</td>\n",
       "      <td>May 19 20:58:43</td>\n",
       "      <td>completed</td>\n",
       "      <td>tasks xgb test</td>\n",
       "      <td><div class=\"dictlist\">host=tasks-xgb-test-7rml4</div><div class=\"dictlist\">kind=job</div><div class=\"dictlist\">owner=jovyan</div></td>\n",
       "      <td><div title=\"https://raw.githubusercontent.com/yjb-ds/testdata/master/models/xgb_test\">models_path</div><div title=\"https://raw.githubusercontent.com/yjb-ds/testdata/master/data/classifier-data.csv\">test_set</div></td>\n",
       "      <td><div class=\"dictlist\">label_column=labels</div><div class=\"dictlist\">plots_dest=plots/xgb_test</div></td>\n",
       "      <td><div class=\"dictlist\">brier_score=0.026451627408418558</div><div class=\"dictlist\">f1-score=0.9552238805970149</div><div class=\"dictlist\">precision_score=0.964824120603015</div><div class=\"dictlist\">recall_score=0.9458128078817734</div><div class=\"dictlist\">rocauc=0.9845582259375362</div><div class=\"dictlist\">test-accuracy=0.964</div><div class=\"dictlist\">test-error=0.036</div></td>\n",
       "      <td><div class=\"artifact\" onclick=\"expandPanel(this)\" paneName=\"resulted038cbd\" title=\"/files/data/plots/calibration curve.html\">calibration curve</div><div class=\"artifact\" onclick=\"expandPanel(this)\" paneName=\"resulted038cbd\" title=\"/files/data/plots/learning curve - auc.html\">learning curve - auc</div><div class=\"artifact\" onclick=\"expandPanel(this)\" paneName=\"resulted038cbd\" title=\"/files/data/plots/learning curve - erreur.html\">learning curve - erreur</div><div class=\"artifact\" onclick=\"expandPanel(this)\" paneName=\"resulted038cbd\" title=\"/files/data/plots/xgb_test/feature-importances.html\">feature-importances</div><div class=\"artifact\" onclick=\"expandPanel(this)\" paneName=\"resulted038cbd\" title=\"/files/data/plots/xgb_test/confusion-matrix-normalized.html\">confusion-matrix-normalized</div><div class=\"artifact\" onclick=\"expandPanel(this)\" paneName=\"resulted038cbd\" title=\"/files/data/plots/xgb_test/roc-binary.html\">roc-binary</div><div class=\"artifact\" onclick=\"expandPanel(this)\" paneName=\"resulted038cbd\" title=\"/files/data/plots/xgb_test/precision-recall-binary.html\">precision-recall-binary</div><div class=\"artifact\" onclick=\"expandPanel(this)\" paneName=\"resulted038cbd\" title=\"/files/data/plots/xgb_test/precision-recall-binary.csv\">feature-importances-tbl</div></td>\n",
       "    </tr>\n",
       "  </tbody>\n",
       "</table>\n",
       "</div></div>\n",
       "  <div id=\"resulted038cbd-pane\" class=\"right-pane block hidden\">\n",
       "    <div class=\"pane-header\">\n",
       "      <span id=\"resulted038cbd-title\" class=\"pane-header-title\">Title</span>\n",
       "      <span onclick=\"closePanel(this)\" paneName=\"resulted038cbd\" class=\"close clickable\">&times;</span>\n",
       "    </div>\n",
       "    <iframe class=\"fileview\" id=\"resulted038cbd-body\"></iframe>\n",
       "  </div>\n",
       "</div>\n"
      ],
      "text/plain": [
       "<IPython.core.display.HTML object>"
      ]
     },
     "metadata": {},
     "output_type": "display_data"
    },
    {
     "name": "stdout",
     "output_type": "stream",
     "text": [
      "to track results use .show() or .logs() or in CLI: \n",
      "!mlrun get run 59dabc9b898a4c73aa511437ed673527  , !mlrun logs 59dabc9b898a4c73aa511437ed673527 \n",
      "[mlrun] 2020-05-19 20:58:46,841 run executed, status=completed\n"
     ]
    }
   ],
   "source": [
    "fn.deploy(skip_deployed=True, with_mlrun=False)\n",
    "\n",
    "run = fn.run(\n",
    "    NewTask(**task_params),\n",
    "    inputs={\"test_set\"      : f\"{TEST_REPO}/{DATA_PATH}\",\n",
    "            \"models_path\"   : f\"{TEST_REPO}/{MODELS_PATH}\"\n",
    "        },\n",
    "    workdir=mlconf.artifact_path)"
   ]
  },
  {
   "cell_type": "code",
   "execution_count": null,
   "metadata": {},
   "outputs": [],
   "source": []
  }
 ],
 "metadata": {
  "kernelspec": {
   "display_name": "Python 3",
   "language": "python",
   "name": "python3"
  },
  "language_info": {
   "codemirror_mode": {
    "name": "ipython",
    "version": 3
   },
   "file_extension": ".py",
   "mimetype": "text/x-python",
   "name": "python",
   "nbconvert_exporter": "python",
   "pygments_lexer": "ipython3",
   "version": "3.7.6"
  }
 },
 "nbformat": 4,
 "nbformat_minor": 4
}
