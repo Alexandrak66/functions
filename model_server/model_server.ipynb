{
 "cells": [
  {
   "cell_type": "markdown",
   "metadata": {},
   "source": [
    "# Model Server"
   ]
  },
  {
   "cell_type": "code",
   "execution_count": 1,
   "metadata": {},
   "outputs": [],
   "source": [
    "#!python -m pip install v3io"
   ]
  },
  {
   "cell_type": "code",
   "execution_count": 2,
   "metadata": {},
   "outputs": [],
   "source": [
    "# nuclio: ignore\n",
    "import nuclio"
   ]
  },
  {
   "cell_type": "code",
   "execution_count": 3,
   "metadata": {},
   "outputs": [
    {
     "name": "stdout",
     "output_type": "stream",
     "text": [
      "%nuclio: setting kind to 'nuclio:serving'\n",
      "%nuclio: setting 'MODEL_CLASS' environment variable\n",
      "%nuclio: setting spec.build.baseImage to 'mlrun/ml-models'\n"
     ]
    }
   ],
   "source": [
    "%nuclio config kind=\"nuclio:serving\"\n",
    "%nuclio env MODEL_CLASS=ClassifierModel\n",
    "%nuclio config spec.build.baseImage = \"mlrun/ml-models\""
   ]
  },
  {
   "cell_type": "code",
   "execution_count": 4,
   "metadata": {},
   "outputs": [],
   "source": [
    "%%nuclio cmd -c\n",
    "pip install v3io"
   ]
  },
  {
   "cell_type": "code",
   "execution_count": 5,
   "metadata": {},
   "outputs": [],
   "source": [
    "import os\n",
    "from cloudpickle import load\n",
    "import numpy as np\n",
    "from typing import List\n",
    "from datetime import datetime"
   ]
  },
  {
   "cell_type": "code",
   "execution_count": 6,
   "metadata": {},
   "outputs": [],
   "source": [
    "import json\n",
    "import socket\n",
    "import v3io.dataplane\n",
    "\n",
    "v3io_client = v3io.dataplane.Client()\n",
    "hostname = None\n",
    "\n",
    "def split_path(mntpath=''):\n",
    "    if mntpath[0] == '/':\n",
    "        mntpath = mntpath[1:]\n",
    "    paths = mntpath.split('/')\n",
    "    container = paths[0]\n",
    "    subpath = ''\n",
    "    if len(paths) > 1:\n",
    "        subpath = mntpath[len(container):]\n",
    "    return container, subpath\n",
    " \n",
    "\n",
    "def init_stream(stream_path, shards=1):\n",
    "    global hostname\n",
    "    hostname = socket.gethostname()\n",
    "    container, stream_path = split_path(stream_path)\n",
    "    response = v3io_client.create_stream(container=container,\n",
    "                                         path=stream_path, \n",
    "                                         shard_count=shards,\n",
    "                                         raise_for_status=v3io.dataplane.RaiseForStatus.never)\n",
    "    response.raise_for_status([409, 204])\n",
    "    print(response.__dict__)\n",
    "    \n",
    "def push_to_stream(stream_path, data):\n",
    "    records = [{'data': json.dumps(rec)} for rec in data]\n",
    "    container, stream_path = split_path(stream_path)\n",
    "    response = v3io_client.put_records(container=container,\n",
    "                                       path=stream_path, \n",
    "                                       records=records)\n",
    "    \n",
    "    #for response_record in response.output.records:\n",
    "    #    print(response_record.__dict__)"
   ]
  },
  {
   "cell_type": "code",
   "execution_count": 7,
   "metadata": {},
   "outputs": [],
   "source": [
    "import mlrun\n",
    "class ClassifierModel(mlrun.runtimes.MLModelServer):\n",
    "    def __init__(self, name: str, model_dir: str, classifier = None):\n",
    "        super().__init__(name)\n",
    "        self.model_dir = model_dir\n",
    "        self.log_stream = os.environ.get('INFERENCE_STREAM', '')\n",
    "        if self.log_stream:\n",
    "            init_stream(self.log_stream)\n",
    "        if classifier:\n",
    "            self.classifier = classifier\n",
    "            self.ready = True\n",
    "\n",
    "    def load(self):\n",
    "        \"\"\"Load model from KubeFlow storage.\n",
    "        \"\"\"\n",
    "        if self.model_dir.endswith('.pkl'):\n",
    "            model_file = self.model_dir\n",
    "        else:\n",
    "            for file in os.path.listdir(self.model_dir):\n",
    "                if file.endswith('.pkl'):\n",
    "                    model_file = os.pth.join(self.model_dir, file)\n",
    "                    break\n",
    "        self.classifier = load(open(model_file, 'rb'))\n",
    "        self.ready = True\n",
    "\n",
    "    def predict(self, body: dict) -> List:\n",
    "        \"\"\"Generate model predictions from sample.\n",
    "        \n",
    "        :param body : A dict of observations, each of which is an 1-dimensional feature vector.\n",
    "            \n",
    "        Returns model predictions as a `List`, one for each row in the `body` input `List`.\n",
    "        \"\"\"\n",
    "        start = datetime.now()\n",
    "        try:\n",
    "            feats = np.asarray(body['instances'])\n",
    "            result: np.ndarray = self.classifier.predict(feats)\n",
    "            resp = result.tolist()\n",
    "        except Exception as e:\n",
    "            raise Exception(f\"Failed to predict {e}\")\n",
    "        \n",
    "        if self.log_stream:\n",
    "            data = {'request': body, 'resp': resp, \n",
    "                    'class': 'ClassifierModel', \n",
    "                    'model': self.name,\n",
    "                    'host': hostname,\n",
    "                    'when': str(start), \n",
    "                    'microsec': (datetime.now()-start).microseconds}\n",
    "            push_to_stream(self.log_stream, [data])\n",
    "\n",
    "        return resp"
   ]
  },
  {
   "cell_type": "code",
   "execution_count": 8,
   "metadata": {},
   "outputs": [],
   "source": [
    "# nuclio: end-code"
   ]
  },
  {
   "cell_type": "markdown",
   "metadata": {},
   "source": [
    "## test models locally and deploy"
   ]
  },
  {
   "cell_type": "markdown",
   "metadata": {},
   "source": [
    "The sklearn-project generated 3 models that will be deployed in the server project `sklearn-servers`"
   ]
  },
  {
   "cell_type": "markdown",
   "metadata": {},
   "source": [
    "### test locally"
   ]
  },
  {
   "cell_type": "code",
   "execution_count": 9,
   "metadata": {},
   "outputs": [],
   "source": [
    "import cloudpickle as cp\n",
    "path = '/User/artifacts/sklearn_classifier/models'\n",
    "\n",
    "from sklearn.datasets import load_iris\n",
    "iris = load_iris()\n",
    "\n",
    "x = iris['data'].tolist()\n",
    "y = iris['target']\n",
    "\n",
    "for model in os.listdir(path):\n",
    "    if model.endswith(\"pkl\"):\n",
    "        \n",
    "        my_server = ClassifierModel('classifier', model_dir=os.path.join(path, model))\n",
    "        my_server.load()\n",
    "\n",
    "        a = my_server.predict({\"instances\": x})\n",
    "\n",
    "        assert len(a)==150"
   ]
  },
  {
   "cell_type": "markdown",
   "metadata": {},
   "source": [
    "###  deploy servers"
   ]
  },
  {
   "cell_type": "code",
   "execution_count": 10,
   "metadata": {},
   "outputs": [
    {
     "name": "stdout",
     "output_type": "stream",
     "text": [
      "[mlrun] 2020-04-30 21:47:15,890 warning!, server (0.4.6) and client (0.4.7) ver dont match\n",
      "[mlrun] 2020-04-30 21:47:15,921 function spec saved to path: AdaBoostClassifier/function.yaml\n",
      "[mlrun] 2020-04-30 21:47:15,922 deploy started\n",
      "[nuclio] 2020-04-30 21:47:28,123 (info) Build complete\n",
      "[nuclio] 2020-04-30 21:47:39,335 done updating sklearn-servers-iris-adaboostclassifier, function address: 3.135.130.246:31273\n",
      "[mlrun] 2020-04-30 21:47:40,893 warning!, server (0.4.6) and client (0.4.7) ver dont match\n",
      "[mlrun] 2020-04-30 21:47:40,931 function spec saved to path: LGBMClassifier/function.yaml\n",
      "[mlrun] 2020-04-30 21:47:40,932 deploy started\n",
      "[nuclio] 2020-04-30 21:47:43,031 (info) Build complete\n",
      "[nuclio] 2020-04-30 21:47:50,380 (info) Function deploy complete\n",
      "[nuclio] 2020-04-30 21:47:50,387 done updating sklearn-servers-iris-lgbmclassifier, function address: 3.135.130.246:30547\n",
      "[mlrun] 2020-04-30 21:47:51,872 warning!, server (0.4.6) and client (0.4.7) ver dont match\n",
      "[mlrun] 2020-04-30 21:47:51,913 function spec saved to path: LogisticRegression/function.yaml\n",
      "[mlrun] 2020-04-30 21:47:51,915 deploy started\n",
      "[nuclio] 2020-04-30 21:47:53,007 (info) Build complete\n",
      "[nuclio] 2020-04-30 21:48:01,146 (info) Function deploy complete\n",
      "[nuclio] 2020-04-30 21:48:01,152 done creating sklearn-servers-iris-logisticregression, function address: 3.135.130.246:31915\n",
      "[mlrun] 2020-04-30 21:48:02,614 warning!, server (0.4.6) and client (0.4.7) ver dont match\n",
      "[mlrun] 2020-04-30 21:48:02,651 function spec saved to path: RandomForestClassifier/function.yaml\n",
      "[mlrun] 2020-04-30 21:48:02,652 deploy started\n",
      "[nuclio] 2020-04-30 21:48:06,756 (info) Build complete\n",
      "[nuclio] 2020-04-30 21:48:12,841 (info) Function deploy complete\n",
      "[nuclio] 2020-04-30 21:48:12,853 done creating sklearn-servers-iris-randomforestclassifier, function address: 3.135.130.246:30522\n",
      "[mlrun] 2020-04-30 21:48:14,497 warning!, server (0.4.6) and client (0.4.7) ver dont match\n",
      "[mlrun] 2020-04-30 21:48:14,530 function spec saved to path: XGBClassifier/function.yaml\n",
      "[mlrun] 2020-04-30 21:48:14,531 deploy started\n",
      "[nuclio] 2020-04-30 21:48:16,616 (info) Build complete\n",
      "[nuclio] 2020-04-30 21:48:21,699 (info) Function deploy complete\n",
      "[nuclio] 2020-04-30 21:48:21,710 done creating sklearn-servers-iris-xgbclassifier, function address: 3.135.130.246:30526\n"
     ]
    }
   ],
   "source": [
    "from mlrun import new_model_server\n",
    "from mlrun import mount_v3io, mlconf\n",
    "import os\n",
    "\n",
    "for model in os.listdir(mlconf.artifact_path + '/sklearn_classifier/models'):\n",
    "    if model.endswith(\"pkl\"):\n",
    "        model = model.split('.')[-2]\n",
    "        fn = new_model_server(f'iris-{model}', model_class='ClassifierModel')\n",
    "        fn.spec.description = f\"generic sklearn {model} model server\"\n",
    "        fn.metadata.categories = ['serving', 'models', f'{model}']\n",
    "        fn.metadata.labels = {'author': 'yaronh'}\n",
    "        fn.save()\n",
    "        #print(fn.to_yaml())\n",
    "        fn.export(f\"{model}/function.yaml\")\n",
    "        fn.apply(mount_v3io())\n",
    "        fn.set_envs({f\"SERVING_MODEL_iris_{model}\": mlconf.artifact_path + f\"/sklearn_classifier/models/{model}.pkl\",\n",
    "                     'INFERENCE_STREAM': 'users/admin/tststream'})\n",
    "        fn.deploy(project='sklearn-servers')"
   ]
  },
  {
   "cell_type": "code",
   "execution_count": 11,
   "metadata": {},
   "outputs": [
    {
     "data": {
      "text/plain": [
       "'0.4.7'"
      ]
     },
     "execution_count": 11,
     "metadata": {},
     "output_type": "execute_result"
    }
   ],
   "source": [
    "import mlrun\n",
    "mlrun.__version__"
   ]
  },
  {
   "cell_type": "code",
   "execution_count": 15,
   "metadata": {},
   "outputs": [
    {
     "data": {
      "text/plain": [
       "'0.4.7-py37'"
      ]
     },
     "execution_count": 15,
     "metadata": {},
     "output_type": "execute_result"
    }
   ],
   "source": [
    "\n",
    "mlconf.images_tag"
   ]
  },
  {
   "cell_type": "markdown",
   "metadata": {},
   "source": [
    "from the image:\n",
    "\n",
    "```\n",
    ">>> import mlrun\n",
    ">>> mlrun.__version__\n",
    "'0.4.7'\n",
    ">>> \n",
    "```"
   ]
  },
  {
   "cell_type": "code",
   "execution_count": null,
   "metadata": {},
   "outputs": [],
   "source": []
  }
 ],
 "metadata": {
  "kernelspec": {
   "display_name": "Python 3",
   "language": "python",
   "name": "python3"
  },
  "language_info": {
   "codemirror_mode": {
    "name": "ipython",
    "version": 3
   },
   "file_extension": ".py",
   "mimetype": "text/x-python",
   "name": "python",
   "nbconvert_exporter": "python",
   "pygments_lexer": "ipython3",
   "version": "3.6.8"
  }
 },
 "nbformat": 4,
 "nbformat_minor": 4
}
