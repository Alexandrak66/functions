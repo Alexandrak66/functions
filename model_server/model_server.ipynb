{
 "cells": [
  {
   "cell_type": "markdown",
   "metadata": {},
   "source": [
    "# Model Server"
   ]
  },
  {
   "cell_type": "code",
   "execution_count": 1,
   "metadata": {},
   "outputs": [],
   "source": [
    "# nuclio: ignore\n",
    "import nuclio"
   ]
  },
  {
   "cell_type": "code",
   "execution_count": 2,
   "metadata": {},
   "outputs": [
    {
     "name": "stdout",
     "output_type": "stream",
     "text": [
      "%nuclio: setting kind to 'nuclio:serving'\n",
      "%nuclio: setting 'MODEL_CLASS' environment variable\n"
     ]
    }
   ],
   "source": [
    "%nuclio config kind=\"nuclio:serving\"\n",
    "%nuclio env MODEL_CLASS=ClassifierModel"
   ]
  },
  {
   "cell_type": "code",
   "execution_count": 4,
   "metadata": {},
   "outputs": [
    {
     "name": "stdout",
     "output_type": "stream",
     "text": [
      "%nuclio: setting spec.build.baseImage to 'mlrun/ml-models'\n"
     ]
    }
   ],
   "source": [
    "%nuclio config spec.build.baseImage = \"mlrun/ml-models\""
   ]
  },
  {
   "cell_type": "code",
   "execution_count": 4,
   "metadata": {},
   "outputs": [],
   "source": [
    "%%nuclio cmd -c\n",
    "python -m pip install -U kfserving \n",
    "python -m pip install numpy cloudpickle"
   ]
  },
  {
   "cell_type": "code",
   "execution_count": 5,
   "metadata": {},
   "outputs": [],
   "source": [
    "import os\n",
    "from cloudpickle import load\n",
    "import kfserving\n",
    "import numpy as np\n",
    "from typing import List"
   ]
  },
  {
   "cell_type": "code",
   "execution_count": 6,
   "metadata": {},
   "outputs": [],
   "source": [
    "class ClassifierModel(kfserving.KFModel):\n",
    "    def __init__(self, name: str, model_dir: str, classifier = None):\n",
    "        self.name = name\n",
    "        self.model_dir = model_dir\n",
    "        self.ready = False\n",
    "        if classifier:\n",
    "            self.classifier = classifier\n",
    "            self.ready = True\n",
    "\n",
    "    def load(self):\n",
    "        \"\"\"Load model from KubeFlow storage.\n",
    "        \"\"\"\n",
    "        if self.model_dir.endswith('.pkl'):\n",
    "            model_file = self.model_dir\n",
    "        else:\n",
    "            for file in os.path.listdir(self.model_dir):\n",
    "                if file.endswith('.pkl'):\n",
    "                    model_file = os.pth.join(self.model_dir, file)\n",
    "                    break\n",
    "        self.classifier = load(open(model_file, 'rb'))\n",
    "        self.ready = True\n",
    "\n",
    "    def predict(self, body: dict) -> List:\n",
    "        \"\"\"Generate model predictions from sample.\n",
    "        \n",
    "        :param body : A dict of observations, each of which is an 1-dimensional feature vector.\n",
    "            \n",
    "        Returns model predictions as a `List`, one for each row in the `body` input `List`.\n",
    "        \"\"\"\n",
    "        try:\n",
    "            feats = np.asarray(body['instances'])\n",
    "            result: np.ndarray = self.classifier.predict(feats)\n",
    "            return result.tolist()\n",
    "        except Exception as e:\n",
    "            raise Exception(f\"Failed to predict {e}\")"
   ]
  },
  {
   "cell_type": "code",
   "execution_count": 7,
   "metadata": {},
   "outputs": [],
   "source": [
    "# nuclio: end-code"
   ]
  },
  {
   "cell_type": "code",
   "execution_count": 8,
   "metadata": {},
   "outputs": [
    {
     "name": "stdout",
     "output_type": "stream",
     "text": [
      "kind: remote\n",
      "metadata:\n",
      "  name: sklearn-server\n",
      "  project: default\n",
      "  labels:\n",
      "    author: yaronh\n",
      "  categories:\n",
      "  - serving\n",
      "  - models\n",
      "spec:\n",
      "  command: ''\n",
      "  args: []\n",
      "  image: ''\n",
      "  description: generic sklearn model server\n",
      "  volumes: []\n",
      "  volume_mounts: []\n",
      "  env:\n",
      "  - name: MODEL_CLASS\n",
      "    value: ClassifierModel\n",
      "  - name: ENABLE_EXPLAINER\n",
      "    value: 'False'\n",
      "  config:\n",
      "    spec.triggers.http:\n",
      "      kind: http\n",
      "      maxWorkers: 8\n",
      "      attributes:\n",
      "        ingresses: {}\n",
      "      annotations: {}\n",
      "  base_spec:\n",
      "    apiVersion: nuclio.io/v1\n",
      "    kind: nuclio:serving\n",
      "    metadata:\n",
      "      annotations:\n",
      "        nuclio.io/generated_by: function generated at 06-04-2020 by admin from /User/ml/functions/model_server/model_server.ipynb\n",
      "      labels: {}\n",
      "      name: sklearn-server\n",
      "    spec:\n",
      "      build:\n",
      "        baseImage: mlrun/ml-models\n",
      "        commands:\n",
      "        - python -m pip install -U kfserving\n",
      "        - python -m pip install numpy cloudpickle\n",
      "        functionSourceCode: IyBHZW5lcmF0ZWQgYnkgbnVjbGlvLmV4cG9ydC5OdWNsaW9FeHBvcnRlciBvbiAyMDIwLTA0LTA2IDEyOjUxCgppbXBvcnQgb3MKZnJvbSBjbG91ZHBpY2tsZSBpbXBvcnQgbG9hZAppbXBvcnQga2ZzZXJ2aW5nCmltcG9ydCBudW1weSBhcyBucApmcm9tIHR5cGluZyBpbXBvcnQgTGlzdAoKY2xhc3MgQ2xhc3NpZmllck1vZGVsKGtmc2VydmluZy5LRk1vZGVsKToKICAgIGRlZiBfX2luaXRfXyhzZWxmLCBuYW1lOiBzdHIsIG1vZGVsX2Rpcjogc3RyLCBjbGFzc2lmaWVyID0gTm9uZSk6CiAgICAgICAgc2VsZi5uYW1lID0gbmFtZQogICAgICAgIHNlbGYubW9kZWxfZGlyID0gbW9kZWxfZGlyCiAgICAgICAgc2VsZi5yZWFkeSA9IEZhbHNlCiAgICAgICAgaWYgY2xhc3NpZmllcjoKICAgICAgICAgICAgc2VsZi5jbGFzc2lmaWVyID0gY2xhc3NpZmllcgogICAgICAgICAgICBzZWxmLnJlYWR5ID0gVHJ1ZQoKICAgIGRlZiBsb2FkKHNlbGYpOgogICAgICAgICIiIkxvYWQgbW9kZWwgZnJvbSBLdWJlRmxvdyBzdG9yYWdlLgogICAgICAgICIiIgogICAgICAgIGlmIHNlbGYubW9kZWxfZGlyLmVuZHN3aXRoKCcucGtsJyk6CiAgICAgICAgICAgIG1vZGVsX2ZpbGUgPSBzZWxmLm1vZGVsX2RpcgogICAgICAgIGVsc2U6CiAgICAgICAgICAgIGZvciBmaWxlIGluIG9zLnBhdGgubGlzdGRpcihzZWxmLm1vZGVsX2Rpcik6CiAgICAgICAgICAgICAgICBpZiBmaWxlLmVuZHN3aXRoKCcucGtsJyk6CiAgICAgICAgICAgICAgICAgICAgbW9kZWxfZmlsZSA9IG9zLnB0aC5qb2luKHNlbGYubW9kZWxfZGlyLCBmaWxlKQogICAgICAgICAgICAgICAgICAgIGJyZWFrCiAgICAgICAgc2VsZi5jbGFzc2lmaWVyID0gbG9hZChvcGVuKG1vZGVsX2ZpbGUsICdyYicpKQogICAgICAgIHNlbGYucmVhZHkgPSBUcnVlCgogICAgZGVmIHByZWRpY3Qoc2VsZiwgYm9keTogZGljdCkgLT4gTGlzdDoKICAgICAgICAiIiJHZW5lcmF0ZSBtb2RlbCBwcmVkaWN0aW9ucyBmcm9tIHNhbXBsZS4KICAgICAgICAKICAgICAgICA6cGFyYW0gYm9keSA6IEEgZGljdCBvZiBvYnNlcnZhdGlvbnMsIGVhY2ggb2Ygd2hpY2ggaXMgYW4gMS1kaW1lbnNpb25hbCBmZWF0dXJlIHZlY3Rvci4KICAgICAgICAgICAgCiAgICAgICAgUmV0dXJucyBtb2RlbCBwcmVkaWN0aW9ucyBhcyBhIGBMaXN0YCwgb25lIGZvciBlYWNoIHJvdyBpbiB0aGUgYGJvZHlgIGlucHV0IGBMaXN0YC4KICAgICAgICAiIiIKICAgICAgICB0cnk6CiAgICAgICAgICAgIGZlYXRzID0gbnAuYXNhcnJheShib2R5WydpbnN0YW5jZXMnXSkKICAgICAgICAgICAgcmVzdWx0OiBucC5uZGFycmF5ID0gc2VsZi5jbGFzc2lmaWVyLnByZWRpY3QoZmVhdHMpCiAgICAgICAgICAgIHJldHVybiByZXN1bHQudG9saXN0KCkKICAgICAgICBleGNlcHQgRXhjZXB0aW9uIGFzIGU6CiAgICAgICAgICAgIHJhaXNlIEV4Y2VwdGlvbihmIkZhaWxlZCB0byBwcmVkaWN0IHtlfSIpCgoKZnJvbSBtbHJ1bi5ydW50aW1lcyBpbXBvcnQgbnVjbGlvX2luaXRfaG9vawpkZWYgaW5pdF9jb250ZXh0KGNvbnRleHQpOgogICAgbnVjbGlvX2luaXRfaG9vayhjb250ZXh0LCBnbG9iYWxzKCksICdzZXJ2aW5nJykKCmRlZiBoYW5kbGVyKGNvbnRleHQsIGV2ZW50KToKICAgIHJldHVybiBjb250ZXh0Lm1scnVuX2hhbmRsZXIoY29udGV4dCwgZXZlbnQpCg==\n",
      "        noBaseImagesPull: true\n",
      "      env:\n",
      "      - name: MODEL_CLASS\n",
      "        value: ClassifierModel\n",
      "      handler: model_server:handler\n",
      "      runtime: python:3.6\n",
      "      volumes: []\n",
      "  source: ''\n",
      "  function_kind: serving\n",
      "\n",
      "[mlrun] 2020-04-06 12:51:08,199 function spec saved to path: function.yaml\n"
     ]
    },
    {
     "data": {
      "text/plain": [
       "<mlrun.runtimes.function.RemoteRuntime at 0x7f02a7cf6438>"
      ]
     },
     "execution_count": 8,
     "metadata": {},
     "output_type": "execute_result"
    }
   ],
   "source": [
    "from mlrun import new_model_server\n",
    "fn = new_model_server('sklearn-server', model_class='ClassifierModel')\n",
    "fn.spec.description = \"generic sklearn model server\"\n",
    "fn.metadata.categories = ['serving', 'models']\n",
    "fn.metadata.labels = {'author': 'yaronh'}\n",
    "print(fn.to_yaml())\n",
    "fn.export()"
   ]
  },
  {
   "cell_type": "code",
   "execution_count": null,
   "metadata": {},
   "outputs": [],
   "source": []
  }
 ],
 "metadata": {
  "kernelspec": {
   "display_name": "Python 3",
   "language": "python",
   "name": "python3"
  },
  "language_info": {
   "codemirror_mode": {
    "name": "ipython",
    "version": 3
   },
   "file_extension": ".py",
   "mimetype": "text/x-python",
   "name": "python",
   "nbconvert_exporter": "python",
   "pygments_lexer": "ipython3",
   "version": "3.6.8"
  }
 },
 "nbformat": 4,
 "nbformat_minor": 4
}
