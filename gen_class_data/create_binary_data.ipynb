{
 "cells": [
  {
   "cell_type": "code",
   "execution_count": 2,
   "metadata": {},
   "outputs": [],
   "source": [
    "import os\n",
    "\n",
    "FUNCTION = \"gen_class_data\"\n",
    "\n",
    "task_params = {\n",
    "    \"name\":        FUNCTION, \n",
    "    \"params\" : {\n",
    "        \"n_samples\"   : 100_000,\n",
    "        \"m_features\"  : 28,\n",
    "        \"k_classes\"   : 4,\n",
    "        \"weight\"      : [0.2, 0.8, 0.5],\n",
    "        \"sk_params\"   : {\"n_informative\": 8}\n",
    "    },\n",
    "    \"artifact_path\"  : os.path.join(f\"/User/functions/{FUNCTION}/artifacts\")\n",
    "}"
   ]
  },
  {
   "cell_type": "code",
   "execution_count": 3,
   "metadata": {},
   "outputs": [
    {
     "name": "stdout",
     "output_type": "stream",
     "text": [
      "[mlrun] 2020-03-19 13:05:13,402 artifact path is not defined or is local, artifacts will not be visible in the UI\n",
      "../gen_class_data/function.yaml decode\n",
      "++++++++++++++++++++++++++++++++++++++++++++++++\n",
      "db://gen_class_data:latest decode\n",
      "++++++++++++++++++++++++++++++++++++++++++++++++\n",
      "hub://gen_class_data failed to read file in https://raw.githubusercontent.com/mlrun/functions/init_fixes/gen_class_data/function.yaml\n",
      "++++++++++++++++++++++++++++++++++++++++++++++++\n"
     ]
    },
    {
     "name": "stderr",
     "output_type": "stream",
     "text": [
      "/User/.pythonlibs/jupyter/lib/python3.6/site-packages/urllib3/connectionpool.py:847: InsecureRequestWarning: Unverified HTTPS request is being made. Adding certificate verification is strongly advised. See: https://urllib3.readthedocs.io/en/latest/advanced-usage.html#ssl-warnings\n",
      "  InsecureRequestWarning)\n"
     ]
    }
   ],
   "source": [
    "import test_function as tf\n",
    "\n",
    "tf.test_function(FUNCTION, task_params)"
   ]
  },
  {
   "cell_type": "code",
   "execution_count": null,
   "metadata": {},
   "outputs": [],
   "source": []
  }
 ],
 "metadata": {
  "kernelspec": {
   "display_name": "Python 3",
   "language": "python",
   "name": "python3"
  },
  "language_info": {
   "codemirror_mode": {
    "name": "ipython",
    "version": 3
   },
   "file_extension": ".py",
   "mimetype": "text/x-python",
   "name": "python",
   "nbconvert_exporter": "python",
   "pygments_lexer": "ipython3",
   "version": "3.6.8"
  }
 },
 "nbformat": 4,
 "nbformat_minor": 4
}
