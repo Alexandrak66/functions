{
 "cells": [
  {
   "cell_type": "code",
   "execution_count": 22,
   "metadata": {},
   "outputs": [],
   "source": [
    "# nuclio: ignore\n",
    "import nuclio"
   ]
  },
  {
   "cell_type": "code",
   "execution_count": 23,
   "metadata": {},
   "outputs": [
    {
     "name": "stdout",
     "output_type": "stream",
     "text": [
      "%nuclio: setting kind to 'job'\n",
      "%nuclio: setting spec.image to 'mlrun/ml-models'\n"
     ]
    }
   ],
   "source": [
    "%nuclio config kind = \"job\"\n",
    "%nuclio config spec.image = \"mlrun/ml-models\""
   ]
  },
  {
   "cell_type": "code",
   "execution_count": 24,
   "metadata": {},
   "outputs": [],
   "source": [
    "import warnings\n",
    "warnings.simplefilter(action=\"ignore\", category=FutureWarning)\n",
    "\n",
    "import json\n",
    "import os\n",
    "\n",
    "from cloudpickle import dumps, load, dump\n",
    "\n",
    "from sklearn import metrics\n",
    "import pandas as pd\n",
    "import numpy as np\n",
    "import matplotlib.pyplot as plt\n",
    "\n",
    "from sklearn.preprocessing import label_binarize\n",
    "from sklearn.model_selection import train_test_split\n",
    "from sklearn import metrics\n",
    "\n",
    "from typing import List\n",
    "from mlrun.execution import MLClientCtx\n",
    "from mlrun.datastore import DataItem\n",
    "from mlrun.artifacts import PlotArtifact\n",
    "\n",
    "from mlutils import (get_sample,\n",
    "                     get_splits,\n",
    "                     gen_sklearn_model,\n",
    "                     create_class,\n",
    "                     get_class_fit,\n",
    "                     eval_class_model,\n",
    "                     gcf_clear)\n",
    "\n",
    "def train_model(\n",
    "    context: MLClientCtx,\n",
    "    model_pkg_class: str,\n",
    "    dataset: DataItem,\n",
    "    label_column: str = \"labels\",\n",
    "    encode_cols: List[str] = [],\n",
    "    sample: int = -1,\n",
    "    test_size: float = 0.30,\n",
    "    train_val_split: float = 0.75,\n",
    "    rng: int = 1,\n",
    "    model_filename: str = \"model\",\n",
    "    models_dest: str = \"\",\n",
    "    cmap = plt.cm.Blues,\n",
    "    plots_dest: str = \"plots\",\n",
    "    score_method: str = \"micro\",\n",
    "    file_ext: str = \"parquet\",\n",
    "    model_pkg_file: str = \"\",\n",
    "    random_state: int = 1,\n",
    ") -> None:\n",
    "    \"\"\"train a classifier.\n",
    "\n",
    "    :param context:           the function context\n",
    "    :param model_pkg_class:   the model to train, e.g, \"sklearn.neural_networks.MLPClassifier\", \n",
    "                              or json model config\n",
    "    :param dataset:           (\"data\") name of raw data file\n",
    "    :param label_column:      ground-truth (y) labels\n",
    "    :param encode_cols:       dictionary of names and prefixes for columns that are\n",
    "                              to hot be encoded.\n",
    "    :param sample:            Selects the first n rows, or select a sample\n",
    "                              starting from the first. If negative <-1, select\n",
    "                              a random sample\n",
    "    :param model_filename:    model file filename,\n",
    "                              points to a directory\n",
    "    :param test_size:         (0.05) test set size\n",
    "    :param train_val_split:   (0.75) Once the test set has been removed the\n",
    "                              training set gets this proportion.\n",
    "    :param rng:               (1) sklearn rng seed\n",
    "    :param models_dest:       models subfolder on artifact path\n",
    "    :param cmap:              matplotlib `Colormap`\n",
    "    :param plots_dest:        plot subfolder on artifact path\n",
    "    :param score_method:      for multiclass classification\n",
    "    \n",
    "    :param file_ext:          format for test_set_key hold out data\n",
    "    :param model_pkg_file:    json model config file                                  \n",
    "    \"\"\"\n",
    "   # deprecate:\n",
    "    models_dest = models_dest or \"models\"\n",
    "    plots_dest = plots_dest or f\"plots/{context.name}\"\n",
    "    \n",
    "    # get a sample from the raw data\n",
    "    raw, labels, header = get_sample(dataset, sample, label_column)\n",
    "    \n",
    "    # hot-encode\n",
    "    if encode_cols:\n",
    "        raw = pd.get_dummies(raw, \n",
    "                             columns=list(encode_cols.keys()), \n",
    "                             prefix=list(encode_cols.values()), \n",
    "                             drop_first=True)\n",
    "    \n",
    "    # split the sample into train validate, test and calibration sets:\n",
    "    (xtrain, ytrain), (xvalid, yvalid), (xtest, ytest) = \\\n",
    "        get_splits(raw, labels, 3, test_size, 1-train_val_split, random_state)\n",
    "    \n",
    "    test_set = pd.concat([xtest, ytest.to_frame()], axis=1)\n",
    "    context.log_dataset('test_set', df=test_set, format=file_ext, index=False)\n",
    "\n",
    "    if model_pkg_file:\n",
    "        model_config = json.load(open(model_pkg_file, \"r\"))\n",
    "    elif model_pkg_class:\n",
    "        model_config = get_class_fit(model_pkg_class)\n",
    "    else:\n",
    "        raise ValueError('model_pkg_file or model_pkg_class must be provided')\n",
    "    \n",
    "    for k, v in context.parameters.items():\n",
    "        if k.startswith('CLASS_'):\n",
    "            model_config['CLASS'][k[6:]] = v\n",
    "        if k.startswith('FIT_'):\n",
    "            model_config['FIT'][k[4:]] = v\n",
    "\n",
    "    model_config[\"FIT\"].update({\"X\": xtrain,\"y\": ytrain.values})\n",
    "    \n",
    "    ClassifierClass = create_class(model_config[\"META\"][\"class\"])\n",
    "    model = ClassifierClass(**model_config[\"CLASS\"])\n",
    "    model.fit(**model_config[\"FIT\"])\n",
    "    \n",
    "    # evaluate model\n",
    "    eval_metrics = eval_class_model(context, xvalid, yvalid, model)\n",
    "\n",
    "    # just do this inside log_model?\n",
    "    model_plots = eval_metrics.pop(\"plots\")\n",
    "    model_tables = eval_metrics.pop(\"tables\")\n",
    "    for plot in model_plots:\n",
    "        context.log_artifact(plot, local_path=f\"{plots_dest}/{plot.key}.html\")\n",
    "    for tbl in model_tables:\n",
    "        context.log_artifact(tbl, local_path=f\"{plots_dest}/{plot.key}.csv\")\n",
    "\n",
    "    model_bin = dumps(model) # .get_booster())\n",
    "    context.log_model(\"model\", body=model_bin,\n",
    "                      artifact_path=os.path.join(context.artifact_path, models_dest),\n",
    "                      #model_dir=models_dest, \n",
    "                      model_file=\"model.pkl\",\n",
    "                      metrics=eval_metrics)\n",
    "\n",
    "    # probably have it wrong, cant see them from log_model so try this:\n",
    "    context.log_results(eval_metrics)"
   ]
  },
  {
   "cell_type": "code",
   "execution_count": 25,
   "metadata": {},
   "outputs": [],
   "source": [
    "# nuclio: end-code"
   ]
  },
  {
   "cell_type": "markdown",
   "metadata": {},
   "source": [
    "### mlconfig"
   ]
  },
  {
   "cell_type": "code",
   "execution_count": 26,
   "metadata": {},
   "outputs": [],
   "source": [
    "from mlrun import mlconf\n",
    "import os\n",
    "\n",
    "mlconf.dbpath = mlconf.dbpath or 'http://mlrun-api:8080'\n",
    "mlconf.artifact_path = mlconf.artifact_path or f'{os.environ[\"HOME\"]}/artifacts'"
   ]
  },
  {
   "cell_type": "markdown",
   "metadata": {},
   "source": [
    "### save"
   ]
  },
  {
   "cell_type": "code",
   "execution_count": 27,
   "metadata": {},
   "outputs": [
    {
     "name": "stdout",
     "output_type": "stream",
     "text": [
      "[mlrun] 2020-05-24 17:27:59,509 function spec saved to path: function.yaml\n"
     ]
    },
    {
     "data": {
      "text/plain": [
       "<mlrun.runtimes.kubejob.KubejobRuntime at 0x7f45b1a3c9e8>"
      ]
     },
     "execution_count": 27,
     "metadata": {},
     "output_type": "execute_result"
    }
   ],
   "source": [
    "from mlrun import code_to_function \n",
    "# create job function object from notebook code\n",
    "fn = code_to_function(\"sklearn_classifier\")\n",
    "\n",
    "# add metadata (for templates and reuse)\n",
    "fn.spec.default_handler = \"train_model\"\n",
    "fn.spec.description = \"train any classifier using scikit-learn's API\"\n",
    "fn.metadata.categories = [\"ml\", \"training\"]\n",
    "fn.metadata.labels = {\"author\": \"yjb\", \"framework\": \"sklearn\"}\n",
    "fn.export(\"function.yaml\")"
   ]
  },
  {
   "cell_type": "code",
   "execution_count": 28,
   "metadata": {},
   "outputs": [
    {
     "data": {
      "text/plain": [
       "<mlrun.runtimes.kubejob.KubejobRuntime at 0x7f45b1a3c9e8>"
      ]
     },
     "execution_count": 28,
     "metadata": {},
     "output_type": "execute_result"
    }
   ],
   "source": [
    "from mlutils import get_vol_mount\n",
    "fn.apply(get_vol_mount())"
   ]
  },
  {
   "cell_type": "markdown",
   "metadata": {},
   "source": [
    "## tests"
   ]
  },
  {
   "cell_type": "code",
   "execution_count": 29,
   "metadata": {},
   "outputs": [],
   "source": [
    "## TODO: CLASS_xxx that aren't valid for a give algo, just report and skip, not fail\n",
    "\n",
    "from mlrun import NewTask    \n",
    "\n",
    "task_params = {\n",
    "    \"name\" : \"\",\n",
    "    \"params\" : {\n",
    "        # CHOOSE YOUR MODEL AND CHANGE SOME DEFAULT PARAMETERS\n",
    "       # \"model_pkg_class\"    : model_class,\n",
    "        \"CLASS_random_state\" : 1,\n",
    "        #\"CLASS_probability\"  : True,  # USE ONLY FOR SVC\n",
    "        \"sample\"             : -1,\n",
    "        \"label_column\"       : \"labels\",\n",
    "        \"test_size\"          : 0.30,\n",
    "        \"train_val_split\"    : 0.25,\n",
    "        \"rng\"                : 1,\n",
    "        \"models_dest\"        : 'sklearn_models'}}"
   ]
  },
  {
   "cell_type": "markdown",
   "metadata": {},
   "source": [
    "### run locally"
   ]
  },
  {
   "cell_type": "code",
   "execution_count": 30,
   "metadata": {},
   "outputs": [
    {
     "name": "stdout",
     "output_type": "stream",
     "text": [
      "sklearn.ensemble.RandomForestClassifier\n",
      "[mlrun] 2020-05-24 17:27:59,560 starting run sklearn_ensemble_RandomForestClassifier uid=d15545f7a61e4d49a176c0457a25f3de  -> http://mlrun-api:8080\n",
      "[mlrun] 2020-05-24 17:27:59,654 log artifact test_set at /User/artifacts/test_set.parquet, size: 4572, db: Y\n",
      "[mlrun] 2020-05-24 17:28:00,084 log artifact confusion-matrix-normalized at /User/artifacts/plots/confusion-matrix-normalized.html, size: 1766, db: Y\n",
      "[mlrun] 2020-05-24 17:28:00,162 log artifact feature-importances at /User/artifacts/plots/feature-importances.html, size: 7902, db: Y\n",
      "[mlrun] 2020-05-24 17:28:00,251 log artifact precision-recall-multiclass at /User/artifacts/plots/precision-recall-multiclass.html, size: 38926, db: Y\n",
      "[mlrun] 2020-05-24 17:28:00,329 log artifact roc-multiclass at /User/artifacts/plots/roc-multiclass.html, size: 19781, db: Y\n",
      "[mlrun] 2020-05-24 17:28:00,346 log artifact feature-importances-tbl at /User/artifacts/plots/roc-multiclass.csv, size: 162, db: Y\n",
      "[mlrun] 2020-05-24 17:28:00,400 log artifact model at /User/artifacts/sklearn/sklearn.ensemble.RandomForestClassifier/, size: 119621, db: Y\n",
      "\n"
     ]
    },
    {
     "data": {
      "text/html": [
       "<style> \n",
       ".dictlist {\n",
       "  background-color: #b3edff; \n",
       "  text-align: center; \n",
       "  margin: 4px; \n",
       "  border-radius: 3px; padding: 0px 3px 1px 3px; display: inline-block;}\n",
       ".artifact {\n",
       "  cursor: pointer; \n",
       "  background-color: #ffe6cc; \n",
       "  text-align: left; \n",
       "  margin: 4px; border-radius: 3px; padding: 0px 3px 1px 3px; display: inline-block;\n",
       "}\n",
       "div.block.hidden {\n",
       "  display: none;\n",
       "}\n",
       ".clickable {\n",
       "  cursor: pointer;\n",
       "}\n",
       ".ellipsis {\n",
       "  display: inline-block;\n",
       "  max-width: 60px;\n",
       "  white-space: nowrap;\n",
       "  overflow: hidden;\n",
       "  text-overflow: ellipsis;\n",
       "}\n",
       ".master-wrapper {\n",
       "  display: flex;\n",
       "  flex-flow: row nowrap;\n",
       "  justify-content: flex-start;\n",
       "  align-items: stretch;\n",
       "}\n",
       ".master-tbl {\n",
       "  flex: 3\n",
       "}\n",
       ".master-wrapper > div {\n",
       "  margin: 4px;\n",
       "  padding: 10px;\n",
       "}\n",
       "iframe.fileview {\n",
       "  border: 0 none;\n",
       "  height: 100%;\n",
       "  width: 100%;\n",
       "  white-space: pre-wrap;\n",
       "}\n",
       ".pane-header-title {\n",
       "  width: 80%;\n",
       "  font-weight: 500;\n",
       "}\n",
       ".pane-header {\n",
       "  line-height: 1;\n",
       "  background-color: #ffe6cc;\n",
       "  padding: 3px;\n",
       "}\n",
       ".pane-header .close {\n",
       "  font-size: 20px;\n",
       "  font-weight: 700;\n",
       "  float: right;\n",
       "  margin-top: -5px;\n",
       "}\n",
       ".master-wrapper .right-pane {\n",
       "  border: 1px inset silver;\n",
       "  width: 40%;\n",
       "  min-height: 300px;\n",
       "  flex: 3\n",
       "  min-width: 500px;\n",
       "}\n",
       ".master-wrapper * {\n",
       "  box-sizing: border-box;\n",
       "}\n",
       "</style><script>\n",
       "function copyToClipboard(fld) {\n",
       "    if (document.queryCommandSupported && document.queryCommandSupported('copy')) {\n",
       "        var textarea = document.createElement('textarea');\n",
       "        textarea.textContent = fld.innerHTML;\n",
       "        textarea.style.position = 'fixed';\n",
       "        document.body.appendChild(textarea);\n",
       "        textarea.select();\n",
       "\n",
       "        try {\n",
       "            return document.execCommand('copy'); // Security exception may be thrown by some browsers.\n",
       "        } catch (ex) {\n",
       "\n",
       "        } finally {\n",
       "            document.body.removeChild(textarea);\n",
       "        }\n",
       "    }\n",
       "}\n",
       "function expandPanel(el) {\n",
       "  const panelName = \"#\" + el.getAttribute('paneName');\n",
       "  console.log(el.title);\n",
       "\n",
       "  document.querySelector(panelName + \"-title\").innerHTML = el.title\n",
       "  iframe = document.querySelector(panelName + \"-body\");\n",
       "  \n",
       "  const tblcss = `<style> body { font-family: Arial, Helvetica, sans-serif;}\n",
       "    #csv { margin-bottom: 15px; }\n",
       "    #csv table { border-collapse: collapse;}\n",
       "    #csv table td { padding: 4px 8px; border: 1px solid silver;} </style>`;\n",
       "\n",
       "  function csvToHtmlTable(str) {\n",
       "    return '<div id=\"csv\"><table><tr><td>' +  str.replace(/[\\n\\r]+$/g, '').replace(/[\\n\\r]+/g, '</td></tr><tr><td>')\n",
       "      .replace(/,/g, '</td><td>') + '</td></tr></table></div>';\n",
       "  }\n",
       "  \n",
       "  function reqListener () {\n",
       "    if (el.title.endsWith(\".csv\")) {\n",
       "      iframe.setAttribute(\"srcdoc\", tblcss + csvToHtmlTable(this.responseText));\n",
       "    } else {\n",
       "      iframe.setAttribute(\"srcdoc\", this.responseText);\n",
       "    }  \n",
       "    console.log(this.responseText);\n",
       "  }\n",
       "\n",
       "  const oReq = new XMLHttpRequest();\n",
       "  oReq.addEventListener(\"load\", reqListener);\n",
       "  oReq.open(\"GET\", el.title);\n",
       "  oReq.send();\n",
       "  \n",
       "  \n",
       "  //iframe.src = el.title;\n",
       "  const resultPane = document.querySelector(panelName + \"-pane\");\n",
       "  if (resultPane.classList.contains(\"hidden\")) {\n",
       "    resultPane.classList.remove(\"hidden\");\n",
       "  }\n",
       "}\n",
       "function closePanel(el) {\n",
       "  const panelName = \"#\" + el.getAttribute('paneName')\n",
       "  const resultPane = document.querySelector(panelName + \"-pane\");\n",
       "  if (!resultPane.classList.contains(\"hidden\")) {\n",
       "    resultPane.classList.add(\"hidden\");\n",
       "  }\n",
       "}\n",
       "\n",
       "</script>\n",
       "<div class=\"master-wrapper\">\n",
       "  <div class=\"block master-tbl\"><div>\n",
       "<style scoped>\n",
       "    .dataframe tbody tr th:only-of-type {\n",
       "        vertical-align: middle;\n",
       "    }\n",
       "\n",
       "    .dataframe tbody tr th {\n",
       "        vertical-align: top;\n",
       "    }\n",
       "\n",
       "    .dataframe thead th {\n",
       "        text-align: right;\n",
       "    }\n",
       "</style>\n",
       "<table border=\"1\" class=\"dataframe\">\n",
       "  <thead>\n",
       "    <tr style=\"text-align: right;\">\n",
       "      <th>project</th>\n",
       "      <th>uid</th>\n",
       "      <th>iter</th>\n",
       "      <th>start</th>\n",
       "      <th>state</th>\n",
       "      <th>name</th>\n",
       "      <th>labels</th>\n",
       "      <th>inputs</th>\n",
       "      <th>parameters</th>\n",
       "      <th>results</th>\n",
       "      <th>artifacts</th>\n",
       "    </tr>\n",
       "  </thead>\n",
       "  <tbody>\n",
       "    <tr>\n",
       "      <td>default</td>\n",
       "      <td><div title=\"d15545f7a61e4d49a176c0457a25f3de\"><a href=\"https://mlrun-ui.default-tenant.app.yjb-mlrun-hope.iguazio-cd1.com/projects/default/jobs/d15545f7a61e4d49a176c0457a25f3de/info\" target=\"_blank\" >...7a25f3de</a></div></td>\n",
       "      <td>0</td>\n",
       "      <td>May 24 17:27:59</td>\n",
       "      <td>completed</td>\n",
       "      <td>sklearn_ensemble_RandomForestClassifier</td>\n",
       "      <td><div class=\"dictlist\">v3io_user=admin</div><div class=\"dictlist\">kind=handler</div><div class=\"dictlist\">owner=admin</div><div class=\"dictlist\">host=jupyter-67c88b95d4-crdhq</div></td>\n",
       "      <td><div title=\"/User/artifacts/iris.parquet\">dataset</div></td>\n",
       "      <td><div class=\"dictlist\">model_pkg_class=sklearn.ensemble.RandomForestClassifier</div><div class=\"dictlist\">models_dest=sklearn/sklearn.ensemble.RandomForestClassifier</div></td>\n",
       "      <td><div class=\"dictlist\">test-accuracy=0.8846153846153846</div><div class=\"dictlist\">test-error=0.11538461538461539</div><div class=\"dictlist\">auc-micro=0.9933431952662722</div><div class=\"dictlist\">auc-weighted=1.0</div><div class=\"dictlist\">f1-score=0.8846153846153846</div><div class=\"dictlist\">precision_score=0.8846153846153846</div><div class=\"dictlist\">recall_score=0.8846153846153846</div></td>\n",
       "      <td><div title=\"/User/artifacts/test_set.parquet\">test_set</div><div class=\"artifact\" onclick=\"expandPanel(this)\" paneName=\"result78658207\" title=\"/files/artifacts/plots/confusion-matrix-normalized.html\">confusion-matrix-normalized</div><div class=\"artifact\" onclick=\"expandPanel(this)\" paneName=\"result78658207\" title=\"/files/artifacts/plots/feature-importances.html\">feature-importances</div><div class=\"artifact\" onclick=\"expandPanel(this)\" paneName=\"result78658207\" title=\"/files/artifacts/plots/precision-recall-multiclass.html\">precision-recall-multiclass</div><div class=\"artifact\" onclick=\"expandPanel(this)\" paneName=\"result78658207\" title=\"/files/artifacts/plots/roc-multiclass.html\">roc-multiclass</div><div class=\"artifact\" onclick=\"expandPanel(this)\" paneName=\"result78658207\" title=\"/files/artifacts/plots/roc-multiclass.csv\">feature-importances-tbl</div><div title=\"/User/artifacts/sklearn/sklearn.ensemble.RandomForestClassifier\">model</div></td>\n",
       "    </tr>\n",
       "  </tbody>\n",
       "</table>\n",
       "</div></div>\n",
       "  <div id=\"result78658207-pane\" class=\"right-pane block hidden\">\n",
       "    <div class=\"pane-header\">\n",
       "      <span id=\"result78658207-title\" class=\"pane-header-title\">Title</span>\n",
       "      <span onclick=\"closePanel(this)\" paneName=\"result78658207\" class=\"close clickable\">&times;</span>\n",
       "    </div>\n",
       "    <iframe class=\"fileview\" id=\"result78658207-body\"></iframe>\n",
       "  </div>\n",
       "</div>\n"
      ],
      "text/plain": [
       "<IPython.core.display.HTML object>"
      ]
     },
     "metadata": {},
     "output_type": "display_data"
    },
    {
     "name": "stdout",
     "output_type": "stream",
     "text": [
      "to track results use .show() or .logs() or in CLI: \n",
      "!mlrun get run d15545f7a61e4d49a176c0457a25f3de --project default , !mlrun logs d15545f7a61e4d49a176c0457a25f3de --project default\n",
      "[mlrun] 2020-05-24 17:28:00,451 run executed, status=completed\n",
      "sklearn.linear_model.LogisticRegression\n",
      "[mlrun] 2020-05-24 17:28:00,457 starting run sklearn_linear_model_LogisticRegression uid=fd703f271b254293aa4128639e60c4e1  -> http://mlrun-api:8080\n"
     ]
    },
    {
     "name": "stderr",
     "output_type": "stream",
     "text": [
      "/conda/lib/python3.6/site-packages/sklearn/linear_model/_logistic.py:940: ConvergenceWarning: lbfgs failed to converge (status=1):\n",
      "STOP: TOTAL NO. of ITERATIONS REACHED LIMIT.\n",
      "\n",
      "Increase the number of iterations (max_iter) or scale the data as shown in:\n",
      "    https://scikit-learn.org/stable/modules/preprocessing.html\n",
      "Please also refer to the documentation for alternative solver options:\n",
      "    https://scikit-learn.org/stable/modules/linear_model.html#logistic-regression\n",
      "  extra_warning_msg=_LOGISTIC_SOLVER_CONVERGENCE_MSG)\n"
     ]
    },
    {
     "name": "stdout",
     "output_type": "stream",
     "text": [
      "[mlrun] 2020-05-24 17:28:00,547 log artifact test_set at /User/artifacts/test_set.parquet, size: 4572, db: Y\n",
      "[mlrun] 2020-05-24 17:28:00,939 log artifact confusion-matrix-normalized at /User/artifacts/plots/confusion-matrix-normalized.html, size: 1766, db: Y\n",
      "[mlrun] 2020-05-24 17:28:01,021 log artifact precision-recall-multiclass at /User/artifacts/plots/precision-recall-multiclass.html, size: 39390, db: Y\n",
      "[mlrun] 2020-05-24 17:28:01,089 log artifact roc-multiclass at /User/artifacts/plots/roc-multiclass.html, size: 19865, db: Y\n",
      "[mlrun] 2020-05-24 17:28:01,119 log artifact model at /User/artifacts/sklearn/sklearn.linear_model.LogisticRegression/, size: 780, db: Y\n",
      "\n"
     ]
    },
    {
     "data": {
      "text/html": [
       "<style> \n",
       ".dictlist {\n",
       "  background-color: #b3edff; \n",
       "  text-align: center; \n",
       "  margin: 4px; \n",
       "  border-radius: 3px; padding: 0px 3px 1px 3px; display: inline-block;}\n",
       ".artifact {\n",
       "  cursor: pointer; \n",
       "  background-color: #ffe6cc; \n",
       "  text-align: left; \n",
       "  margin: 4px; border-radius: 3px; padding: 0px 3px 1px 3px; display: inline-block;\n",
       "}\n",
       "div.block.hidden {\n",
       "  display: none;\n",
       "}\n",
       ".clickable {\n",
       "  cursor: pointer;\n",
       "}\n",
       ".ellipsis {\n",
       "  display: inline-block;\n",
       "  max-width: 60px;\n",
       "  white-space: nowrap;\n",
       "  overflow: hidden;\n",
       "  text-overflow: ellipsis;\n",
       "}\n",
       ".master-wrapper {\n",
       "  display: flex;\n",
       "  flex-flow: row nowrap;\n",
       "  justify-content: flex-start;\n",
       "  align-items: stretch;\n",
       "}\n",
       ".master-tbl {\n",
       "  flex: 3\n",
       "}\n",
       ".master-wrapper > div {\n",
       "  margin: 4px;\n",
       "  padding: 10px;\n",
       "}\n",
       "iframe.fileview {\n",
       "  border: 0 none;\n",
       "  height: 100%;\n",
       "  width: 100%;\n",
       "  white-space: pre-wrap;\n",
       "}\n",
       ".pane-header-title {\n",
       "  width: 80%;\n",
       "  font-weight: 500;\n",
       "}\n",
       ".pane-header {\n",
       "  line-height: 1;\n",
       "  background-color: #ffe6cc;\n",
       "  padding: 3px;\n",
       "}\n",
       ".pane-header .close {\n",
       "  font-size: 20px;\n",
       "  font-weight: 700;\n",
       "  float: right;\n",
       "  margin-top: -5px;\n",
       "}\n",
       ".master-wrapper .right-pane {\n",
       "  border: 1px inset silver;\n",
       "  width: 40%;\n",
       "  min-height: 300px;\n",
       "  flex: 3\n",
       "  min-width: 500px;\n",
       "}\n",
       ".master-wrapper * {\n",
       "  box-sizing: border-box;\n",
       "}\n",
       "</style><script>\n",
       "function copyToClipboard(fld) {\n",
       "    if (document.queryCommandSupported && document.queryCommandSupported('copy')) {\n",
       "        var textarea = document.createElement('textarea');\n",
       "        textarea.textContent = fld.innerHTML;\n",
       "        textarea.style.position = 'fixed';\n",
       "        document.body.appendChild(textarea);\n",
       "        textarea.select();\n",
       "\n",
       "        try {\n",
       "            return document.execCommand('copy'); // Security exception may be thrown by some browsers.\n",
       "        } catch (ex) {\n",
       "\n",
       "        } finally {\n",
       "            document.body.removeChild(textarea);\n",
       "        }\n",
       "    }\n",
       "}\n",
       "function expandPanel(el) {\n",
       "  const panelName = \"#\" + el.getAttribute('paneName');\n",
       "  console.log(el.title);\n",
       "\n",
       "  document.querySelector(panelName + \"-title\").innerHTML = el.title\n",
       "  iframe = document.querySelector(panelName + \"-body\");\n",
       "  \n",
       "  const tblcss = `<style> body { font-family: Arial, Helvetica, sans-serif;}\n",
       "    #csv { margin-bottom: 15px; }\n",
       "    #csv table { border-collapse: collapse;}\n",
       "    #csv table td { padding: 4px 8px; border: 1px solid silver;} </style>`;\n",
       "\n",
       "  function csvToHtmlTable(str) {\n",
       "    return '<div id=\"csv\"><table><tr><td>' +  str.replace(/[\\n\\r]+$/g, '').replace(/[\\n\\r]+/g, '</td></tr><tr><td>')\n",
       "      .replace(/,/g, '</td><td>') + '</td></tr></table></div>';\n",
       "  }\n",
       "  \n",
       "  function reqListener () {\n",
       "    if (el.title.endsWith(\".csv\")) {\n",
       "      iframe.setAttribute(\"srcdoc\", tblcss + csvToHtmlTable(this.responseText));\n",
       "    } else {\n",
       "      iframe.setAttribute(\"srcdoc\", this.responseText);\n",
       "    }  \n",
       "    console.log(this.responseText);\n",
       "  }\n",
       "\n",
       "  const oReq = new XMLHttpRequest();\n",
       "  oReq.addEventListener(\"load\", reqListener);\n",
       "  oReq.open(\"GET\", el.title);\n",
       "  oReq.send();\n",
       "  \n",
       "  \n",
       "  //iframe.src = el.title;\n",
       "  const resultPane = document.querySelector(panelName + \"-pane\");\n",
       "  if (resultPane.classList.contains(\"hidden\")) {\n",
       "    resultPane.classList.remove(\"hidden\");\n",
       "  }\n",
       "}\n",
       "function closePanel(el) {\n",
       "  const panelName = \"#\" + el.getAttribute('paneName')\n",
       "  const resultPane = document.querySelector(panelName + \"-pane\");\n",
       "  if (!resultPane.classList.contains(\"hidden\")) {\n",
       "    resultPane.classList.add(\"hidden\");\n",
       "  }\n",
       "}\n",
       "\n",
       "</script>\n",
       "<div class=\"master-wrapper\">\n",
       "  <div class=\"block master-tbl\"><div>\n",
       "<style scoped>\n",
       "    .dataframe tbody tr th:only-of-type {\n",
       "        vertical-align: middle;\n",
       "    }\n",
       "\n",
       "    .dataframe tbody tr th {\n",
       "        vertical-align: top;\n",
       "    }\n",
       "\n",
       "    .dataframe thead th {\n",
       "        text-align: right;\n",
       "    }\n",
       "</style>\n",
       "<table border=\"1\" class=\"dataframe\">\n",
       "  <thead>\n",
       "    <tr style=\"text-align: right;\">\n",
       "      <th>project</th>\n",
       "      <th>uid</th>\n",
       "      <th>iter</th>\n",
       "      <th>start</th>\n",
       "      <th>state</th>\n",
       "      <th>name</th>\n",
       "      <th>labels</th>\n",
       "      <th>inputs</th>\n",
       "      <th>parameters</th>\n",
       "      <th>results</th>\n",
       "      <th>artifacts</th>\n",
       "    </tr>\n",
       "  </thead>\n",
       "  <tbody>\n",
       "    <tr>\n",
       "      <td>default</td>\n",
       "      <td><div title=\"fd703f271b254293aa4128639e60c4e1\"><a href=\"https://mlrun-ui.default-tenant.app.yjb-mlrun-hope.iguazio-cd1.com/projects/default/jobs/fd703f271b254293aa4128639e60c4e1/info\" target=\"_blank\" >...9e60c4e1</a></div></td>\n",
       "      <td>0</td>\n",
       "      <td>May 24 17:28:00</td>\n",
       "      <td>completed</td>\n",
       "      <td>sklearn_linear_model_LogisticRegression</td>\n",
       "      <td><div class=\"dictlist\">v3io_user=admin</div><div class=\"dictlist\">kind=handler</div><div class=\"dictlist\">owner=admin</div><div class=\"dictlist\">host=jupyter-67c88b95d4-crdhq</div></td>\n",
       "      <td><div title=\"/User/artifacts/iris.parquet\">dataset</div></td>\n",
       "      <td><div class=\"dictlist\">model_pkg_class=sklearn.linear_model.LogisticRegression</div><div class=\"dictlist\">models_dest=sklearn/sklearn.linear_model.LogisticRegression</div></td>\n",
       "      <td><div class=\"dictlist\">test-accuracy=0.9230769230769231</div><div class=\"dictlist\">test-error=0.07692307692307693</div><div class=\"dictlist\">auc-micro=0.9940828402366865</div><div class=\"dictlist\">auc-weighted=1.0</div><div class=\"dictlist\">f1-score=0.9230769230769231</div><div class=\"dictlist\">precision_score=0.9230769230769231</div><div class=\"dictlist\">recall_score=0.9230769230769231</div></td>\n",
       "      <td><div title=\"/User/artifacts/test_set.parquet\">test_set</div><div class=\"artifact\" onclick=\"expandPanel(this)\" paneName=\"result29841070\" title=\"/files/artifacts/plots/confusion-matrix-normalized.html\">confusion-matrix-normalized</div><div class=\"artifact\" onclick=\"expandPanel(this)\" paneName=\"result29841070\" title=\"/files/artifacts/plots/precision-recall-multiclass.html\">precision-recall-multiclass</div><div class=\"artifact\" onclick=\"expandPanel(this)\" paneName=\"result29841070\" title=\"/files/artifacts/plots/roc-multiclass.html\">roc-multiclass</div><div title=\"/User/artifacts/sklearn/sklearn.linear_model.LogisticRegression\">model</div></td>\n",
       "    </tr>\n",
       "  </tbody>\n",
       "</table>\n",
       "</div></div>\n",
       "  <div id=\"result29841070-pane\" class=\"right-pane block hidden\">\n",
       "    <div class=\"pane-header\">\n",
       "      <span id=\"result29841070-title\" class=\"pane-header-title\">Title</span>\n",
       "      <span onclick=\"closePanel(this)\" paneName=\"result29841070\" class=\"close clickable\">&times;</span>\n",
       "    </div>\n",
       "    <iframe class=\"fileview\" id=\"result29841070-body\"></iframe>\n",
       "  </div>\n",
       "</div>\n"
      ],
      "text/plain": [
       "<IPython.core.display.HTML object>"
      ]
     },
     "metadata": {},
     "output_type": "display_data"
    },
    {
     "name": "stdout",
     "output_type": "stream",
     "text": [
      "to track results use .show() or .logs() or in CLI: \n",
      "!mlrun get run fd703f271b254293aa4128639e60c4e1 --project default , !mlrun logs fd703f271b254293aa4128639e60c4e1 --project default\n",
      "[mlrun] 2020-05-24 17:28:01,166 run executed, status=completed\n",
      "sklearn.ensemble.AdaBoostClassifier\n",
      "[mlrun] 2020-05-24 17:28:01,173 starting run sklearn_ensemble_AdaBoostClassifier uid=b38c3119e90d4847872a40e2a8e0fce2  -> http://mlrun-api:8080\n",
      "[mlrun] 2020-05-24 17:28:01,257 log artifact test_set at /User/artifacts/test_set.parquet, size: 4572, db: Y\n",
      "[mlrun] 2020-05-24 17:28:01,623 log artifact confusion-matrix-normalized at /User/artifacts/plots/confusion-matrix-normalized.html, size: 1766, db: Y\n",
      "[mlrun] 2020-05-24 17:28:01,710 log artifact feature-importances at /User/artifacts/plots/feature-importances.html, size: 7902, db: Y\n",
      "[mlrun] 2020-05-24 17:28:01,824 log artifact precision-recall-multiclass at /User/artifacts/plots/precision-recall-multiclass.html, size: 38894, db: Y\n",
      "[mlrun] 2020-05-24 17:28:01,892 log artifact roc-multiclass at /User/artifacts/plots/roc-multiclass.html, size: 19781, db: Y\n",
      "[mlrun] 2020-05-24 17:28:01,906 log artifact feature-importances-tbl at /User/artifacts/plots/roc-multiclass.csv, size: 101, db: Y\n",
      "[mlrun] 2020-05-24 17:28:01,947 log artifact model at /User/artifacts/sklearn/sklearn.ensemble.AdaBoostClassifier/, size: 29487, db: Y\n",
      "\n"
     ]
    },
    {
     "data": {
      "text/html": [
       "<style> \n",
       ".dictlist {\n",
       "  background-color: #b3edff; \n",
       "  text-align: center; \n",
       "  margin: 4px; \n",
       "  border-radius: 3px; padding: 0px 3px 1px 3px; display: inline-block;}\n",
       ".artifact {\n",
       "  cursor: pointer; \n",
       "  background-color: #ffe6cc; \n",
       "  text-align: left; \n",
       "  margin: 4px; border-radius: 3px; padding: 0px 3px 1px 3px; display: inline-block;\n",
       "}\n",
       "div.block.hidden {\n",
       "  display: none;\n",
       "}\n",
       ".clickable {\n",
       "  cursor: pointer;\n",
       "}\n",
       ".ellipsis {\n",
       "  display: inline-block;\n",
       "  max-width: 60px;\n",
       "  white-space: nowrap;\n",
       "  overflow: hidden;\n",
       "  text-overflow: ellipsis;\n",
       "}\n",
       ".master-wrapper {\n",
       "  display: flex;\n",
       "  flex-flow: row nowrap;\n",
       "  justify-content: flex-start;\n",
       "  align-items: stretch;\n",
       "}\n",
       ".master-tbl {\n",
       "  flex: 3\n",
       "}\n",
       ".master-wrapper > div {\n",
       "  margin: 4px;\n",
       "  padding: 10px;\n",
       "}\n",
       "iframe.fileview {\n",
       "  border: 0 none;\n",
       "  height: 100%;\n",
       "  width: 100%;\n",
       "  white-space: pre-wrap;\n",
       "}\n",
       ".pane-header-title {\n",
       "  width: 80%;\n",
       "  font-weight: 500;\n",
       "}\n",
       ".pane-header {\n",
       "  line-height: 1;\n",
       "  background-color: #ffe6cc;\n",
       "  padding: 3px;\n",
       "}\n",
       ".pane-header .close {\n",
       "  font-size: 20px;\n",
       "  font-weight: 700;\n",
       "  float: right;\n",
       "  margin-top: -5px;\n",
       "}\n",
       ".master-wrapper .right-pane {\n",
       "  border: 1px inset silver;\n",
       "  width: 40%;\n",
       "  min-height: 300px;\n",
       "  flex: 3\n",
       "  min-width: 500px;\n",
       "}\n",
       ".master-wrapper * {\n",
       "  box-sizing: border-box;\n",
       "}\n",
       "</style><script>\n",
       "function copyToClipboard(fld) {\n",
       "    if (document.queryCommandSupported && document.queryCommandSupported('copy')) {\n",
       "        var textarea = document.createElement('textarea');\n",
       "        textarea.textContent = fld.innerHTML;\n",
       "        textarea.style.position = 'fixed';\n",
       "        document.body.appendChild(textarea);\n",
       "        textarea.select();\n",
       "\n",
       "        try {\n",
       "            return document.execCommand('copy'); // Security exception may be thrown by some browsers.\n",
       "        } catch (ex) {\n",
       "\n",
       "        } finally {\n",
       "            document.body.removeChild(textarea);\n",
       "        }\n",
       "    }\n",
       "}\n",
       "function expandPanel(el) {\n",
       "  const panelName = \"#\" + el.getAttribute('paneName');\n",
       "  console.log(el.title);\n",
       "\n",
       "  document.querySelector(panelName + \"-title\").innerHTML = el.title\n",
       "  iframe = document.querySelector(panelName + \"-body\");\n",
       "  \n",
       "  const tblcss = `<style> body { font-family: Arial, Helvetica, sans-serif;}\n",
       "    #csv { margin-bottom: 15px; }\n",
       "    #csv table { border-collapse: collapse;}\n",
       "    #csv table td { padding: 4px 8px; border: 1px solid silver;} </style>`;\n",
       "\n",
       "  function csvToHtmlTable(str) {\n",
       "    return '<div id=\"csv\"><table><tr><td>' +  str.replace(/[\\n\\r]+$/g, '').replace(/[\\n\\r]+/g, '</td></tr><tr><td>')\n",
       "      .replace(/,/g, '</td><td>') + '</td></tr></table></div>';\n",
       "  }\n",
       "  \n",
       "  function reqListener () {\n",
       "    if (el.title.endsWith(\".csv\")) {\n",
       "      iframe.setAttribute(\"srcdoc\", tblcss + csvToHtmlTable(this.responseText));\n",
       "    } else {\n",
       "      iframe.setAttribute(\"srcdoc\", this.responseText);\n",
       "    }  \n",
       "    console.log(this.responseText);\n",
       "  }\n",
       "\n",
       "  const oReq = new XMLHttpRequest();\n",
       "  oReq.addEventListener(\"load\", reqListener);\n",
       "  oReq.open(\"GET\", el.title);\n",
       "  oReq.send();\n",
       "  \n",
       "  \n",
       "  //iframe.src = el.title;\n",
       "  const resultPane = document.querySelector(panelName + \"-pane\");\n",
       "  if (resultPane.classList.contains(\"hidden\")) {\n",
       "    resultPane.classList.remove(\"hidden\");\n",
       "  }\n",
       "}\n",
       "function closePanel(el) {\n",
       "  const panelName = \"#\" + el.getAttribute('paneName')\n",
       "  const resultPane = document.querySelector(panelName + \"-pane\");\n",
       "  if (!resultPane.classList.contains(\"hidden\")) {\n",
       "    resultPane.classList.add(\"hidden\");\n",
       "  }\n",
       "}\n",
       "\n",
       "</script>\n",
       "<div class=\"master-wrapper\">\n",
       "  <div class=\"block master-tbl\"><div>\n",
       "<style scoped>\n",
       "    .dataframe tbody tr th:only-of-type {\n",
       "        vertical-align: middle;\n",
       "    }\n",
       "\n",
       "    .dataframe tbody tr th {\n",
       "        vertical-align: top;\n",
       "    }\n",
       "\n",
       "    .dataframe thead th {\n",
       "        text-align: right;\n",
       "    }\n",
       "</style>\n",
       "<table border=\"1\" class=\"dataframe\">\n",
       "  <thead>\n",
       "    <tr style=\"text-align: right;\">\n",
       "      <th>project</th>\n",
       "      <th>uid</th>\n",
       "      <th>iter</th>\n",
       "      <th>start</th>\n",
       "      <th>state</th>\n",
       "      <th>name</th>\n",
       "      <th>labels</th>\n",
       "      <th>inputs</th>\n",
       "      <th>parameters</th>\n",
       "      <th>results</th>\n",
       "      <th>artifacts</th>\n",
       "    </tr>\n",
       "  </thead>\n",
       "  <tbody>\n",
       "    <tr>\n",
       "      <td>default</td>\n",
       "      <td><div title=\"b38c3119e90d4847872a40e2a8e0fce2\"><a href=\"https://mlrun-ui.default-tenant.app.yjb-mlrun-hope.iguazio-cd1.com/projects/default/jobs/b38c3119e90d4847872a40e2a8e0fce2/info\" target=\"_blank\" >...a8e0fce2</a></div></td>\n",
       "      <td>0</td>\n",
       "      <td>May 24 17:28:01</td>\n",
       "      <td>completed</td>\n",
       "      <td>sklearn_ensemble_AdaBoostClassifier</td>\n",
       "      <td><div class=\"dictlist\">v3io_user=admin</div><div class=\"dictlist\">kind=handler</div><div class=\"dictlist\">owner=admin</div><div class=\"dictlist\">host=jupyter-67c88b95d4-crdhq</div></td>\n",
       "      <td><div title=\"/User/artifacts/iris.parquet\">dataset</div></td>\n",
       "      <td><div class=\"dictlist\">model_pkg_class=sklearn.ensemble.AdaBoostClassifier</div><div class=\"dictlist\">models_dest=sklearn/sklearn.ensemble.AdaBoostClassifier</div></td>\n",
       "      <td><div class=\"dictlist\">test-accuracy=0.8846153846153846</div><div class=\"dictlist\">test-error=0.11538461538461539</div><div class=\"dictlist\">auc-micro=0.9933431952662721</div><div class=\"dictlist\">auc-weighted=1.0</div><div class=\"dictlist\">f1-score=0.8846153846153846</div><div class=\"dictlist\">precision_score=0.8846153846153846</div><div class=\"dictlist\">recall_score=0.8846153846153846</div></td>\n",
       "      <td><div title=\"/User/artifacts/test_set.parquet\">test_set</div><div class=\"artifact\" onclick=\"expandPanel(this)\" paneName=\"result9482b629\" title=\"/files/artifacts/plots/confusion-matrix-normalized.html\">confusion-matrix-normalized</div><div class=\"artifact\" onclick=\"expandPanel(this)\" paneName=\"result9482b629\" title=\"/files/artifacts/plots/feature-importances.html\">feature-importances</div><div class=\"artifact\" onclick=\"expandPanel(this)\" paneName=\"result9482b629\" title=\"/files/artifacts/plots/precision-recall-multiclass.html\">precision-recall-multiclass</div><div class=\"artifact\" onclick=\"expandPanel(this)\" paneName=\"result9482b629\" title=\"/files/artifacts/plots/roc-multiclass.html\">roc-multiclass</div><div class=\"artifact\" onclick=\"expandPanel(this)\" paneName=\"result9482b629\" title=\"/files/artifacts/plots/roc-multiclass.csv\">feature-importances-tbl</div><div title=\"/User/artifacts/sklearn/sklearn.ensemble.AdaBoostClassifier\">model</div></td>\n",
       "    </tr>\n",
       "  </tbody>\n",
       "</table>\n",
       "</div></div>\n",
       "  <div id=\"result9482b629-pane\" class=\"right-pane block hidden\">\n",
       "    <div class=\"pane-header\">\n",
       "      <span id=\"result9482b629-title\" class=\"pane-header-title\">Title</span>\n",
       "      <span onclick=\"closePanel(this)\" paneName=\"result9482b629\" class=\"close clickable\">&times;</span>\n",
       "    </div>\n",
       "    <iframe class=\"fileview\" id=\"result9482b629-body\"></iframe>\n",
       "  </div>\n",
       "</div>\n"
      ],
      "text/plain": [
       "<IPython.core.display.HTML object>"
      ]
     },
     "metadata": {},
     "output_type": "display_data"
    },
    {
     "name": "stdout",
     "output_type": "stream",
     "text": [
      "to track results use .show() or .logs() or in CLI: \n",
      "!mlrun get run b38c3119e90d4847872a40e2a8e0fce2 --project default , !mlrun logs b38c3119e90d4847872a40e2a8e0fce2 --project default\n",
      "[mlrun] 2020-05-24 17:28:01,998 run executed, status=completed\n"
     ]
    },
    {
     "data": {
      "image/png": "[encoded data removed]",
      "text/plain": [
       "<Figure size 432x288 with 2 Axes>"
      ]
     },
     "metadata": {
      "needs_background": "light"
     },
     "output_type": "display_data"
    },
    {
     "data": {
      "text/plain": [
       "<Figure size 432x288 with 0 Axes>"
      ]
     },
     "metadata": {},
     "output_type": "display_data"
    },
    {
     "data": {
      "image/png": "[encoded data removed]",
      "text/plain": [
       "<Figure size 504x576 with 1 Axes>"
      ]
     },
     "metadata": {
      "needs_background": "light"
     },
     "output_type": "display_data"
    },
    {
     "data": {
      "image/png": "[encoded data removed]",
      "text/plain": [
       "<Figure size 432x288 with 1 Axes>"
      ]
     },
     "metadata": {
      "needs_background": "light"
     },
     "output_type": "display_data"
    },
    {
     "data": {
      "image/png": "[encoded data removed]",
      "text/plain": [
       "<Figure size 432x288 with 2 Axes>"
      ]
     },
     "metadata": {
      "needs_background": "light"
     },
     "output_type": "display_data"
    },
    {
     "data": {
      "image/png": "[encoded data removed]",
      "text/plain": [
       "<Figure size 504x576 with 1 Axes>"
      ]
     },
     "metadata": {
      "needs_background": "light"
     },
     "output_type": "display_data"
    },
    {
     "data": {
      "image/png": "[encoded data removed]",
      "text/plain": [
       "<Figure size 432x288 with 1 Axes>"
      ]
     },
     "metadata": {
      "needs_background": "light"
     },
     "output_type": "display_data"
    },
    {
     "data": {
      "image/png": "[encoded data removed]",
      "text/plain": [
       "<Figure size 432x288 with 2 Axes>"
      ]
     },
     "metadata": {
      "needs_background": "light"
     },
     "output_type": "display_data"
    },
    {
     "data": {
      "text/plain": [
       "<Figure size 432x288 with 0 Axes>"
      ]
     },
     "metadata": {},
     "output_type": "display_data"
    },
    {
     "data": {
      "image/png": "[encoded data removed]",
      "text/plain": [
       "<Figure size 504x576 with 1 Axes>"
      ]
     },
     "metadata": {
      "needs_background": "light"
     },
     "output_type": "display_data"
    },
    {
     "data": {
      "image/png": "[encoded data removed]",
      "text/plain": [
       "<Figure size 432x288 with 1 Axes>"
      ]
     },
     "metadata": {
      "needs_background": "light"
     },
     "output_type": "display_data"
    }
   ],
   "source": [
    "MODELS = [\"sklearn.ensemble.RandomForestClassifier\", \n",
    "         \"sklearn.linear_model.LogisticRegression\",\n",
    "         \"sklearn.ensemble.AdaBoostClassifier\"]\n",
    "\n",
    "from mlrun import run_local\n",
    "\n",
    "for model in MODELS:\n",
    "    print(model)\n",
    "    task_params.update({\"params\":{\"model_pkg_class\":model, \"models_dest\" : f'sklearn/{model}'}})\n",
    "    task = NewTask(**task_params)\n",
    "    run_local(task,\n",
    "              handler=train_model,\n",
    "              name=model.replace('.', '_'),\n",
    "              inputs={\"dataset\"  : mlconf.artifact_path + \"/iris.parquet\"})"
   ]
  },
  {
   "cell_type": "markdown",
   "metadata": {},
   "source": [
    "## tests"
   ]
  },
  {
   "cell_type": "code",
   "execution_count": 31,
   "metadata": {},
   "outputs": [],
   "source": [
    "df = pd.read_parquet('/User/artifacts/test_set.parquet')"
   ]
  },
  {
   "cell_type": "code",
   "execution_count": 32,
   "metadata": {},
   "outputs": [
    {
     "data": {
      "text/html": [
       "<div>\n",
       "<style scoped>\n",
       "    .dataframe tbody tr th:only-of-type {\n",
       "        vertical-align: middle;\n",
       "    }\n",
       "\n",
       "    .dataframe tbody tr th {\n",
       "        vertical-align: top;\n",
       "    }\n",
       "\n",
       "    .dataframe thead th {\n",
       "        text-align: right;\n",
       "    }\n",
       "</style>\n",
       "<table border=\"1\" class=\"dataframe\">\n",
       "  <thead>\n",
       "    <tr style=\"text-align: right;\">\n",
       "      <th></th>\n",
       "      <th>sepal length (cm)</th>\n",
       "      <th>sepal width (cm)</th>\n",
       "      <th>petal length (cm)</th>\n",
       "      <th>petal width (cm)</th>\n",
       "      <th>labels</th>\n",
       "    </tr>\n",
       "  </thead>\n",
       "  <tbody>\n",
       "    <tr>\n",
       "      <th>0</th>\n",
       "      <td>6.7</td>\n",
       "      <td>3.0</td>\n",
       "      <td>5.2</td>\n",
       "      <td>2.3</td>\n",
       "      <td>2.0</td>\n",
       "    </tr>\n",
       "    <tr>\n",
       "      <th>1</th>\n",
       "      <td>5.5</td>\n",
       "      <td>2.5</td>\n",
       "      <td>4.0</td>\n",
       "      <td>1.3</td>\n",
       "      <td>1.0</td>\n",
       "    </tr>\n",
       "    <tr>\n",
       "      <th>2</th>\n",
       "      <td>6.5</td>\n",
       "      <td>2.8</td>\n",
       "      <td>4.6</td>\n",
       "      <td>1.5</td>\n",
       "      <td>1.0</td>\n",
       "    </tr>\n",
       "    <tr>\n",
       "      <th>3</th>\n",
       "      <td>6.7</td>\n",
       "      <td>3.0</td>\n",
       "      <td>5.0</td>\n",
       "      <td>1.7</td>\n",
       "      <td>1.0</td>\n",
       "    </tr>\n",
       "  </tbody>\n",
       "</table>\n",
       "</div>"
      ],
      "text/plain": [
       "   sepal length (cm)  sepal width (cm)  petal length (cm)  petal width (cm)  \\\n",
       "0                6.7               3.0                5.2               2.3   \n",
       "1                5.5               2.5                4.0               1.3   \n",
       "2                6.5               2.8                4.6               1.5   \n",
       "3                6.7               3.0                5.0               1.7   \n",
       "\n",
       "   labels  \n",
       "0     2.0  \n",
       "1     1.0  \n",
       "2     1.0  \n",
       "3     1.0  "
      ]
     },
     "execution_count": 32,
     "metadata": {},
     "output_type": "execute_result"
    }
   ],
   "source": [
    "df.head(4)"
   ]
  },
  {
   "cell_type": "code",
   "execution_count": 33,
   "metadata": {},
   "outputs": [],
   "source": [
    "labels = df.pop('labels')"
   ]
  },
  {
   "cell_type": "code",
   "execution_count": 34,
   "metadata": {},
   "outputs": [],
   "source": [
    "adamodel = load(open('/User/artifacts/sklearn/sklearn.ensemble.AdaBoostClassifier/model.pkl', 'rb'))"
   ]
  },
  {
   "cell_type": "code",
   "execution_count": 35,
   "metadata": {},
   "outputs": [
    {
     "data": {
      "text/plain": [
       "AdaBoostClassifier(algorithm='SAMME.R', base_estimator=None, learning_rate=1.0,\n",
       "                   n_estimators=50, random_state=None)"
      ]
     },
     "execution_count": 35,
     "metadata": {},
     "output_type": "execute_result"
    }
   ],
   "source": [
    "adamodel"
   ]
  },
  {
   "cell_type": "code",
   "execution_count": 36,
   "metadata": {},
   "outputs": [
    {
     "data": {
      "text/plain": [
       "0      True\n",
       "1      True\n",
       "2      True\n",
       "3     False\n",
       "4      True\n",
       "5      True\n",
       "6      True\n",
       "7      True\n",
       "8      True\n",
       "9      True\n",
       "10     True\n",
       "11     True\n",
       "12     True\n",
       "13     True\n",
       "14     True\n",
       "15     True\n",
       "16     True\n",
       "17     True\n",
       "18     True\n",
       "19     True\n",
       "20     True\n",
       "21     True\n",
       "22     True\n",
       "23     True\n",
       "24     True\n",
       "25     True\n",
       "26     True\n",
       "27     True\n",
       "28     True\n",
       "29     True\n",
       "30     True\n",
       "31     True\n",
       "32     True\n",
       "33     True\n",
       "34     True\n",
       "35     True\n",
       "36     True\n",
       "37     True\n",
       "38     True\n",
       "39     True\n",
       "40     True\n",
       "41     True\n",
       "42     True\n",
       "43     True\n",
       "44     True\n",
       "Name: labels, dtype: bool"
      ]
     },
     "execution_count": 36,
     "metadata": {},
     "output_type": "execute_result"
    }
   ],
   "source": [
    "labels==np.argmax(adamodel.predict_proba(df), axis=1)"
   ]
  },
  {
   "cell_type": "code",
   "execution_count": 37,
   "metadata": {},
   "outputs": [],
   "source": [
    "logregmodel = load(open('/User/artifacts/sklearn/sklearn.linear_model.LogisticRegression/model.pkl', 'rb'))"
   ]
  },
  {
   "cell_type": "code",
   "execution_count": 38,
   "metadata": {},
   "outputs": [
    {
     "data": {
      "text/plain": [
       "LogisticRegression(C=1.0, class_weight=None, dual=False, fit_intercept=True,\n",
       "                   intercept_scaling=1, l1_ratio=None, max_iter=100,\n",
       "                   multi_class='auto', n_jobs=None, penalty='l2',\n",
       "                   random_state=None, solver='lbfgs', tol=0.0001, verbose=0,\n",
       "                   warm_start=False)"
      ]
     },
     "execution_count": 38,
     "metadata": {},
     "output_type": "execute_result"
    }
   ],
   "source": [
    "logregmodel"
   ]
  },
  {
   "cell_type": "code",
   "execution_count": 39,
   "metadata": {},
   "outputs": [
    {
     "data": {
      "text/plain": [
       "0      True\n",
       "1      True\n",
       "2      True\n",
       "3     False\n",
       "4      True\n",
       "5      True\n",
       "6      True\n",
       "7      True\n",
       "8      True\n",
       "9      True\n",
       "10     True\n",
       "11     True\n",
       "12     True\n",
       "13     True\n",
       "14     True\n",
       "15     True\n",
       "16     True\n",
       "17     True\n",
       "18     True\n",
       "19     True\n",
       "20     True\n",
       "21     True\n",
       "22     True\n",
       "23     True\n",
       "24     True\n",
       "25     True\n",
       "26     True\n",
       "27     True\n",
       "28     True\n",
       "29     True\n",
       "30     True\n",
       "31     True\n",
       "32     True\n",
       "33     True\n",
       "34     True\n",
       "35     True\n",
       "36     True\n",
       "37     True\n",
       "38     True\n",
       "39     True\n",
       "40     True\n",
       "41     True\n",
       "42     True\n",
       "43     True\n",
       "44     True\n",
       "Name: labels, dtype: bool"
      ]
     },
     "execution_count": 39,
     "metadata": {},
     "output_type": "execute_result"
    }
   ],
   "source": [
    "labels==np.argmax(logregmodel.predict_proba(df), axis=1)"
   ]
  },
  {
   "cell_type": "code",
   "execution_count": 40,
   "metadata": {},
   "outputs": [],
   "source": [
    "rfmodel = load(open('/User/artifacts/sklearn/sklearn.ensemble.RandomForestClassifier/model.pkl', 'rb'))"
   ]
  },
  {
   "cell_type": "code",
   "execution_count": 41,
   "metadata": {},
   "outputs": [
    {
     "data": {
      "text/plain": [
       "RandomForestClassifier(bootstrap=True, ccp_alpha=0.0, class_weight=None,\n",
       "                       criterion='gini', max_depth=None, max_features='auto',\n",
       "                       max_leaf_nodes=None, max_samples=None,\n",
       "                       min_impurity_decrease=0.0, min_impurity_split=None,\n",
       "                       min_samples_leaf=1, min_samples_split=2,\n",
       "                       min_weight_fraction_leaf=0.0, n_estimators=100,\n",
       "                       n_jobs=None, oob_score=False, random_state=None,\n",
       "                       verbose=0, warm_start=False)"
      ]
     },
     "execution_count": 41,
     "metadata": {},
     "output_type": "execute_result"
    }
   ],
   "source": [
    "rfmodel"
   ]
  },
  {
   "cell_type": "code",
   "execution_count": 42,
   "metadata": {},
   "outputs": [
    {
     "data": {
      "text/plain": [
       "0      True\n",
       "1      True\n",
       "2      True\n",
       "3     False\n",
       "4      True\n",
       "5      True\n",
       "6      True\n",
       "7      True\n",
       "8      True\n",
       "9      True\n",
       "10     True\n",
       "11     True\n",
       "12     True\n",
       "13     True\n",
       "14     True\n",
       "15     True\n",
       "16     True\n",
       "17     True\n",
       "18     True\n",
       "19     True\n",
       "20     True\n",
       "21     True\n",
       "22     True\n",
       "23     True\n",
       "24     True\n",
       "25     True\n",
       "26     True\n",
       "27     True\n",
       "28     True\n",
       "29     True\n",
       "30     True\n",
       "31     True\n",
       "32     True\n",
       "33     True\n",
       "34     True\n",
       "35     True\n",
       "36     True\n",
       "37     True\n",
       "38     True\n",
       "39     True\n",
       "40     True\n",
       "41     True\n",
       "42     True\n",
       "43     True\n",
       "44     True\n",
       "Name: labels, dtype: bool"
      ]
     },
     "execution_count": 42,
     "metadata": {},
     "output_type": "execute_result"
    }
   ],
   "source": [
    "labels==np.argmax(rfmodel.predict_proba(df), axis=1)"
   ]
  },
  {
   "cell_type": "code",
   "execution_count": null,
   "metadata": {},
   "outputs": [],
   "source": []
  },
  {
   "cell_type": "code",
   "execution_count": null,
   "metadata": {},
   "outputs": [],
   "source": []
  }
 ],
 "metadata": {
  "kernelspec": {
   "display_name": "Python 3",
   "language": "python",
   "name": "python3"
  },
  "language_info": {
   "codemirror_mode": {
    "name": "ipython",
    "version": 3
   },
   "file_extension": ".py",
   "mimetype": "text/x-python",
   "name": "python",
   "nbconvert_exporter": "python",
   "pygments_lexer": "ipython3",
   "version": "3.6.8"
  }
 },
 "nbformat": 4,
 "nbformat_minor": 4
}
