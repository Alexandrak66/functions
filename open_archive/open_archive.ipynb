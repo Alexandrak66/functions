{
 "cells": [
  {
   "cell_type": "markdown",
   "metadata": {},
   "source": [
    "# archive to folder"
   ]
  },
  {
   "cell_type": "code",
   "execution_count": null,
   "metadata": {},
   "outputs": [],
   "source": [
    "# nuclio: ignore\n",
    "import nuclio"
   ]
  },
  {
   "cell_type": "code",
   "execution_count": null,
   "metadata": {},
   "outputs": [],
   "source": [
    "import os\n",
    "import zipfile\n",
    "import urllib.request\n",
    "import tarfile\n",
    "import json\n",
    "\n",
    "from mlrun.execution import MLClientCtx\n",
    "from mlrun.datastore import DataItem\n",
    "\n",
    "from typing import Union\n",
    "\n",
    "def open_archive(\n",
    "    context: MLClientCtx, \n",
    "    archive_url: DataItem = \"\",\n",
    "    subdir: str = \"content\",\n",
    "    key: str = \"content\"\n",
    "):\n",
    "    \"\"\"Open a file/object archive into a target directory\n",
    "    \n",
    "    Currently supports zip and tar.gz\n",
    "    \n",
    "    :param context:      function execution context\n",
    "    :param archive_url:  url of archive file\n",
    "    :param subdir:       path within artifact store where extracted files\n",
    "                         are stored\n",
    "    :param key:          key of archive contents in artifact store\n",
    "    \"\"\"\n",
    "    target_dir = os.path.join(context.artifact_path, subdir)\n",
    "    os.makedirs(target_dir, exist_ok=True)\n",
    "    \n",
    "    archive_url = str(archive_url)\n",
    "    if archive_url.endswith(\"gz\"):\n",
    "        with tarfile.open(archive_url, mode=\"r|gz\") as ref:\n",
    "            ref.extractall(target_dir)\n",
    "    elif archive_url.endswith(\"zip\"):\n",
    "        with zipfile.ZipFile(archive_url, \"r\") as ref:\n",
    "            ref.extractall(target_dir)\n",
    "    else:\n",
    "        raise ValueError(f'unsupported archive type in {archive_url}')\n",
    "    \n",
    "    context.log_artifact(key, local_path=subdir)"
   ]
  },
  {
   "cell_type": "code",
   "execution_count": null,
   "metadata": {},
   "outputs": [],
   "source": [
    "# nuclio: end-code"
   ]
  },
  {
   "cell_type": "markdown",
   "metadata": {},
   "source": [
    "### save"
   ]
  },
  {
   "cell_type": "code",
   "execution_count": null,
   "metadata": {},
   "outputs": [],
   "source": [
    "from mlrun import code_to_function \n",
    "# create job function object from notebook code\n",
    "fn = code_to_function(\"open_archive\", kind=\"job\", with_doc=True,\n",
    "                      handler=open_archive, image=\"mlrun/ml-base\")\n",
    "\n",
    "# add metadata (for templates and reuse)\n",
    "fn.spec.default_handler = \"open_archive\"\n",
    "fn.spec.description = \"Open a file/object archive into a target directory\"\n",
    "fn.metadata.categories = [\"fileutils\", \"retrieve\"]\n",
    "fn.metadata.labels = {\"author\": \"yaronh\"}\n",
    "\n",
    "fn.save()\n",
    "fn.export(\"function.yaml\")"
   ]
  },
  {
   "cell_type": "markdown",
   "metadata": {},
   "source": [
    "## tests"
   ]
  },
  {
   "cell_type": "code",
   "execution_count": null,
   "metadata": {},
   "outputs": [],
   "source": [
    "from mlrun import import_function, mount_v3io, NewTask, run_local"
   ]
  },
  {
   "cell_type": "code",
   "execution_count": null,
   "metadata": {},
   "outputs": [],
   "source": [
    "func = import_function(\"function.yaml\").apply(mount_v3io())"
   ]
  },
  {
   "cell_type": "markdown",
   "metadata": {},
   "source": [
    "### tar"
   ]
  },
  {
   "cell_type": "code",
   "execution_count": null,
   "metadata": {},
   "outputs": [],
   "source": [
    "run_local(handler=open_archive, inputs={'archive_url': \"https://fpsignals-public.s3.amazonaws.com/catsndogs.tar.gz\"})"
   ]
  },
  {
   "cell_type": "markdown",
   "metadata": {},
   "source": [
    "### zip"
   ]
  },
  {
   "cell_type": "code",
   "execution_count": null,
   "metadata": {},
   "outputs": [],
   "source": [
    "run_local(handler=open_archive, inputs={'archive_url': 'http://iguazio-sample-data.s3.amazonaws.com/catsndogs.zip'})"
   ]
  }
 ],
 "metadata": {
  "kernelspec": {
   "display_name": "gpu",
   "language": "python",
   "name": "gpu"
  },
  "language_info": {
   "codemirror_mode": {
    "name": "ipython",
    "version": 3
   },
   "file_extension": ".py",
   "mimetype": "text/x-python",
   "name": "python",
   "nbconvert_exporter": "python",
   "pygments_lexer": "ipython3",
   "version": "3.7.7"
  }
 },
 "nbformat": 4,
 "nbformat_minor": 4
}
