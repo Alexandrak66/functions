{
 "cells": [
  {
   "cell_type": "markdown",
   "metadata": {},
   "source": [
    "# Concept Drift"
   ]
  },
  {
   "cell_type": "code",
   "execution_count": 4,
   "metadata": {},
   "outputs": [],
   "source": [
    "import nuclio"
   ]
  },
  {
   "cell_type": "code",
   "execution_count": 5,
   "metadata": {},
   "outputs": [],
   "source": [
    "from pprint import pprint"
   ]
  },
  {
   "cell_type": "code",
   "execution_count": 6,
   "metadata": {},
   "outputs": [],
   "source": [
    "%%nuclio cmd -c\n",
    "python -m pip install scikit-multiflow==0.4.1\n",
    "python -m pip install v3io_frames\n",
    "python -m pip install git+https://github.com/nuclio/nuclio-jupyter.git"
   ]
  },
  {
   "cell_type": "code",
   "execution_count": 7,
   "metadata": {},
   "outputs": [
    {
     "name": "stdout",
     "output_type": "stream",
     "text": [
      "%nuclio: setting spec.build.baseImage to 'mlrun/ml-models:0.4.7'\n"
     ]
    }
   ],
   "source": [
    "# Define function spec\n",
    "%nuclio config spec.build.baseImage = \"mlrun/ml-models:0.4.7\""
   ]
  },
  {
   "cell_type": "code",
   "execution_count": 5,
   "metadata": {},
   "outputs": [],
   "source": [
    "# nuclio: start-code"
   ]
  },
  {
   "cell_type": "code",
   "execution_count": 1,
   "metadata": {},
   "outputs": [],
   "source": [
    "import skmultiflow.drift_detection\n",
    "import numpy as np\n",
    "import pandas as pd\n",
    "import os\n",
    "from cloudpickle import dumps, load, dump\n",
    "\n",
    "from nuclio.triggers import NuclioTrigger\n",
    "from mlrun import DataItem, import_function, mlconf, MLClientCtx, mount_v3io\n",
    "\n",
    "# For testing\n",
    "import random"
   ]
  },
  {
   "cell_type": "code",
   "execution_count": 2,
   "metadata": {},
   "outputs": [],
   "source": [
    "# Keep until nuclio-jupyter will be updated in the mlrun images\n",
    "class V3IOStreamTrigger(NuclioTrigger):\n",
    "    kind = 'v3ioStream'\n",
    "\n",
    "    def __init__(self, url: str, seekTo: str = 'earliest',\n",
    "                 partitions: list = [0], pollingIntervalMS: int = 250,\n",
    "                 readBatchSize: int = 64, maxWorkers: int = 1, \n",
    "                 username: str = None, password: str = None):\n",
    "        self._struct = {'kind': self.kind,\n",
    "                        'url': url,\n",
    "                        'attributes': {}}\n",
    "        if maxWorkers:\n",
    "            self._struct['maxWorkers'] = maxWorkers\n",
    "        if seekTo:\n",
    "            self._struct['attributes']['seekTo'] = seekTo\n",
    "        if partitions:\n",
    "            self._struct['attributes']['partitions'] = partitions\n",
    "        if readBatchSize:\n",
    "            self._struct['attributes']['readBatchSize'] = readBatchSize\n",
    "        if pollingIntervalMS:\n",
    "            self._struct['attributes']['pollingIntervalMs'] = pollingIntervalMS\n",
    "        user = username if username else environ['V3IO_USERNAME']\n",
    "        self._struct['username'] = user\n",
    "        access_key = password if password else environ['V3IO_ACCESS_KEY']\n",
    "        self._struct['password'] = access_key"
   ]
  },
  {
   "cell_type": "code",
   "execution_count": 3,
   "metadata": {},
   "outputs": [],
   "source": [
    "def concept_drift_deployer(context: MLClientCtx, base_dataset:DataItem, \n",
    "                           input_stream:str, output_stream:str, output_tsdb:str, tsdb_batch_size:int, callbacks:list, \n",
    "                           models:list=['ddm', 'eddm', 'pagehinkley'], models_dest='models',\n",
    "                           pagehinkley_threshold:float=10, ddm_warning_level:float=2, ddm_out_control_level:float=3,\n",
    "                           label_col='label', prediction_col='prediction', hub_url:str=mlconf.hub_url, fn_tag:str='master'):\n",
    "    '''\n",
    "    \n",
    "    \n",
    "    '''\n",
    "    # Set the streaming function\n",
    "    mlconf.dbpath = mlconf.dbpath or 'http://mlrun-api:8080'\n",
    "    mlconf.hub_url = hub_url\n",
    "    fn = import_function(url='hub://concept_drift_streaming')\n",
    "    \n",
    "    # Load test dataset\n",
    "    context.logger.info('Loading base dataset')\n",
    "    base_df = base_dataset.as_df()\n",
    "    error_stream = np.where(base_df[prediction_col].values==base_df[label_col].values, 0, 1)\n",
    "    \n",
    "    # Models\n",
    "    context.logger.info('Creating models')\n",
    "    models = [model.strip() for model in os.getenv('models', 'pagehinkley, ddm, eddm').split(',')]\n",
    "    models = {'eddm': skmultiflow.drift_detection.EDDM(),\n",
    "              'pagehinkley': skmultiflow.drift_detection.PageHinkley(min_instances=len(error_stream),\n",
    "                                                                     threshold=pagehinkley_threshold),\n",
    "              'ddm': skmultiflow.drift_detection.DDM(min_num_instances=len(error_stream),\n",
    "                                                     warning_level=ddm_warning_level,\n",
    "                                                     out_control_level=ddm_out_control_level)}\n",
    "    \n",
    "    # Run initial dataset\n",
    "    context.logger.info('Streaming data to models')\n",
    "    for i in range(len(error_stream)):\n",
    "        for model_name, model in models.items():\n",
    "            model.add_element(error_stream[i])\n",
    "            \n",
    "    # Save warm models\n",
    "    context.logger.info('Logging ready models')\n",
    "    for name, model in models.items():\n",
    "        data = dumps(model)\n",
    "        model_file = f'{name}.pkl'\n",
    "        context.log_model(f'{name}_concept_drift', body=data, labels=['concept_drift'],\n",
    "                          model_file=model_file, model_dir=models_dest)\n",
    "        fn.set_envs({f'{name}_model_path': os.path.join(context.artifact_path, models_dest, model_file)})\n",
    "            \n",
    "    # Deploy streaming concept drift function\n",
    "    # with the warm models\n",
    "    context.logger.info('Deploying Concept Drift Streaming function')\n",
    "    fn.set_envs({'label_col': label_col,\n",
    "                 'prediction_col': prediction_col, \n",
    "                 'drift_stream': output_stream,\n",
    "                 'tsdb_table': output_tsdb,\n",
    "                 'pagehinkley_threshold': pagehinkley_threshold,\n",
    "                 'ddm_warning_level': ddm_warning_level,\n",
    "                 'ddm_out_control': ddm_out_control_level})    \n",
    "    fn.add_trigger('labeled_stream', V3IOStreamTrigger(url=input_stream))\n",
    "    fn.apply(mount_v3io())\n",
    "    print(fn.to_yaml())\n",
    "    fn.deploy(project=context.project)"
   ]
  },
  {
   "cell_type": "code",
   "execution_count": 8,
   "metadata": {},
   "outputs": [],
   "source": [
    "# nuclio: end-code"
   ]
  },
  {
   "cell_type": "code",
   "execution_count": 9,
   "metadata": {},
   "outputs": [],
   "source": [
    "from mlrun import run_local, NewTask"
   ]
  },
  {
   "cell_type": "code",
   "execution_count": 13,
   "metadata": {},
   "outputs": [],
   "source": [
    "task = NewTask(name='concept_drift_deployer',\n",
    "        project='network-operations',\n",
    "        handler=concept_drift_deployer,\n",
    "        params={'models': ['ddm', 'eddm', 'pagehinkley'],\n",
    "                'label_col': 'is_error',\n",
    "                'prediction_col': 'yscore',\n",
    "                'hub_url': '/User/functions/{name}/function.yaml',\n",
    "                'output_tsdb': '/bigdata/network-operations/drift_tsdb',\n",
    "                'input_stream': 'http://v3io-webapi:8081/bigdata/network-operations/inference_stream@cd2',\n",
    "                'output_stream': '/bigdata/network-operations/drift_stream'},\n",
    "        inputs={'base_dataset': 'store://network-operations/test_test_set_preds'},\n",
    "        artifact_path='/User/demo-network-operations/artifacts/')"
   ]
  },
  {
   "cell_type": "code",
   "execution_count": 14,
   "metadata": {
    "collapsed": true,
    "jupyter": {
     "outputs_hidden": true
    }
   },
   "outputs": [
    {
     "name": "stdout",
     "output_type": "stream",
     "text": [
      "[mlrun] 2020-06-02 14:09:36,252 starting run concept_drift_deployer uid=f87a18e1f6344f6da4f36f5f461dd1c1  -> http://10.192.65.32:8080\n",
      "[nuclio] 2020-06-02 14:09:42,994 (info) Build complete\n",
      "[nuclio] 2020-06-02 14:10:05,062 (info) Function deploy complete\n",
      "[nuclio] 2020-06-02 14:10:05,104 done updating network-operations-concept-drift-streaming, function address: 192.168.224.209:30400\n",
      "[mlrun] 2020-06-02 14:09:36,910 Loading base dataset\n",
      "[mlrun] 2020-06-02 14:09:36,971 Creating models\n",
      "[mlrun] 2020-06-02 14:09:36,972 Streaming data to models\n",
      "[mlrun] 2020-06-02 14:09:37,018 Logging ready models\n",
      "[mlrun] 2020-06-02 14:09:37,095 log artifact eddm_concept_drift at /User/demo-network-operations/artifacts/models/, size: 409, db: Y\n",
      "[mlrun] 2020-06-02 14:09:37,174 log artifact pagehinkley_concept_drift at /User/demo-network-operations/artifacts/models/, size: 390, db: Y\n",
      "[mlrun] 2020-06-02 14:09:37,273 log artifact ddm_concept_drift at /User/demo-network-operations/artifacts/models/, size: 455, db: Y\n",
      "[mlrun] 2020-06-02 14:09:37,276 Deploying Concept Drift Streaming function\n",
      "kind: remote\n",
      "metadata:\n",
      "  name: concept-drift-streaming\n",
      "  tag: ''\n",
      "  hash: f5b5b2385c4ac5b93c6a87168e6c11833bf89678\n",
      "  project: ''\n",
      "  labels:\n",
      "    author: orz\n",
      "    framework: sklearn\n",
      "  categories:\n",
      "  - ml\n",
      "  - serve\n",
      "spec:\n",
      "  command: ''\n",
      "  args: []\n",
      "  image: ''\n",
      "  entry_points:\n",
      "    split_path:\n",
      "      name: split_path\n",
      "      doc: ''\n",
      "      parameters:\n",
      "      - name: mntpath\n",
      "      outputs: []\n",
      "      lineno: 15\n",
      "    create_stream:\n",
      "      name: create_stream\n",
      "      doc: ''\n",
      "      parameters:\n",
      "      - name: context\n",
      "      - name: path\n",
      "      - name: shards\n",
      "        default: 1\n",
      "      outputs: []\n",
      "      lineno: 26\n",
      "    push_to_stream:\n",
      "      name: push_to_stream\n",
      "      doc: ''\n",
      "      parameters:\n",
      "      - name: context\n",
      "      - name: stream_path\n",
      "      - name: data\n",
      "      outputs: []\n",
      "      lineno: 36\n",
      "    construct_record:\n",
      "      name: construct_record\n",
      "      doc: ''\n",
      "      parameters:\n",
      "      - name: record\n",
      "      outputs: []\n",
      "      lineno: 44\n",
      "    init_context:\n",
      "      name: init_context\n",
      "      doc: ''\n",
      "      parameters:\n",
      "      - name: context\n",
      "      outputs: []\n",
      "      lineno: 59\n",
      "    handler:\n",
      "      name: handler\n",
      "      doc: ''\n",
      "      parameters:\n",
      "      - name: context\n",
      "      - name: event\n",
      "      outputs: []\n",
      "      lineno: 97\n",
      "  description: Deploy a streaming Concept Drift detector on a labeled stream\n",
      "  min_replicas: 0\n",
      "  max_replicas: 4\n",
      "  volumes:\n",
      "  - flexVolume:\n",
      "      driver: v3io/fuse\n",
      "      options:\n",
      "        accessKey: 76ba0f0d-c2bf-4790-9ba1-60067b960cac\n",
      "        container: users\n",
      "        subPath: /admin\n",
      "    name: v3io\n",
      "  volume_mounts:\n",
      "  - mountPath: /User\n",
      "    name: v3io\n",
      "  env:\n",
      "  - name: eddm_model_path\n",
      "    value: /User/demo-network-operations/artifacts/models/eddm.pkl\n",
      "  - name: pagehinkley_model_path\n",
      "    value: /User/demo-network-operations/artifacts/models/pagehinkley.pkl\n",
      "  - name: ddm_model_path\n",
      "    value: /User/demo-network-operations/artifacts/models/ddm.pkl\n",
      "  - name: label_col\n",
      "    value: is_error\n",
      "  - name: prediction_col\n",
      "    value: yscore\n",
      "  - name: drift_stream\n",
      "    value: /bigdata/network-operations/drift_stream\n",
      "  - name: tsdb_table\n",
      "    value: /bigdata/network-operations/drift_tsdb\n",
      "  - name: pagehinkley_threshold\n",
      "    value: 10\n",
      "  - name: ddm_warning_level\n",
      "    value: 2\n",
      "  - name: ddm_out_control\n",
      "    value: 3\n",
      "  - name: V3IO_API\n",
      "    value: v3io-webapi.default-tenant.svc:8081\n",
      "  - name: V3IO_USERNAME\n",
      "    value: admin\n",
      "  - name: V3IO_ACCESS_KEY\n",
      "    value: 76ba0f0d-c2bf-4790-9ba1-60067b960cac\n",
      "  config:\n",
      "    spec.triggers.labeled_stream:\n",
      "      kind: v3ioStream\n",
      "      url: http://v3io-webapi:8081/bigdata/network-operations/inference_stream@cd2\n",
      "      attributes:\n",
      "        seekTo: earliest\n",
      "        partitions:\n",
      "        - 0\n",
      "        readBatchSize: 64\n",
      "        pollingIntervalMs: 250\n",
      "      maxWorkers: 1\n",
      "      username: admin\n",
      "      password: 76ba0f0d-c2bf-4790-9ba1-60067b960cac\n",
      "  base_spec:\n",
      "    apiVersion: nuclio.io/v1\n",
      "    kind: Function\n",
      "    metadata:\n",
      "      annotations:\n",
      "        nuclio.io/generated_by: function generated from 02-06-2020 by admin\n",
      "      labels: {}\n",
      "      name: concept-drift-streaming\n",
      "    spec:\n",
      "      build:\n",
      "        baseImage: mlrun/ml-models:0.4.7\n",
      "        commands:\n",
      "        - python -m pip install scikit-multiflow==0.4.1\n",
      "        - python -m pip install v3io_frames\n",
      "        functionSourceCode: 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\n",
      "        noBaseImagesPull: true\n",
      "      env: []\n",
      "      handler: concept_drift_streaming:handler\n",
      "      runtime: python:3.6\n",
      "      volumes: []\n",
      "  source: ''\n",
      "  function_kind: mlrun\n",
      "\n",
      "[mlrun] 2020-06-02 14:09:37,356 deploy started\n",
      "\n"
     ]
    },
    {
     "data": {
      "text/html": [
       "<style> \n",
       ".dictlist {\n",
       "  background-color: #b3edff; \n",
       "  text-align: center; \n",
       "  margin: 4px; \n",
       "  border-radius: 3px; padding: 0px 3px 1px 3px; display: inline-block;}\n",
       ".artifact {\n",
       "  cursor: pointer; \n",
       "  background-color: #ffe6cc; \n",
       "  text-align: left; \n",
       "  margin: 4px; border-radius: 3px; padding: 0px 3px 1px 3px; display: inline-block;\n",
       "}\n",
       "div.block.hidden {\n",
       "  display: none;\n",
       "}\n",
       ".clickable {\n",
       "  cursor: pointer;\n",
       "}\n",
       ".ellipsis {\n",
       "  display: inline-block;\n",
       "  max-width: 60px;\n",
       "  white-space: nowrap;\n",
       "  overflow: hidden;\n",
       "  text-overflow: ellipsis;\n",
       "}\n",
       ".master-wrapper {\n",
       "  display: flex;\n",
       "  flex-flow: row nowrap;\n",
       "  justify-content: flex-start;\n",
       "  align-items: stretch;\n",
       "}\n",
       ".master-tbl {\n",
       "  flex: 3\n",
       "}\n",
       ".master-wrapper > div {\n",
       "  margin: 4px;\n",
       "  padding: 10px;\n",
       "}\n",
       "iframe.fileview {\n",
       "  border: 0 none;\n",
       "  height: 100%;\n",
       "  width: 100%;\n",
       "  white-space: pre-wrap;\n",
       "}\n",
       ".pane-header-title {\n",
       "  width: 80%;\n",
       "  font-weight: 500;\n",
       "}\n",
       ".pane-header {\n",
       "  line-height: 1;\n",
       "  background-color: #ffe6cc;\n",
       "  padding: 3px;\n",
       "}\n",
       ".pane-header .close {\n",
       "  font-size: 20px;\n",
       "  font-weight: 700;\n",
       "  float: right;\n",
       "  margin-top: -5px;\n",
       "}\n",
       ".master-wrapper .right-pane {\n",
       "  border: 1px inset silver;\n",
       "  width: 40%;\n",
       "  min-height: 300px;\n",
       "  flex: 3\n",
       "  min-width: 500px;\n",
       "}\n",
       ".master-wrapper * {\n",
       "  box-sizing: border-box;\n",
       "}\n",
       "</style><script>\n",
       "function copyToClipboard(fld) {\n",
       "    if (document.queryCommandSupported && document.queryCommandSupported('copy')) {\n",
       "        var textarea = document.createElement('textarea');\n",
       "        textarea.textContent = fld.innerHTML;\n",
       "        textarea.style.position = 'fixed';\n",
       "        document.body.appendChild(textarea);\n",
       "        textarea.select();\n",
       "\n",
       "        try {\n",
       "            return document.execCommand('copy'); // Security exception may be thrown by some browsers.\n",
       "        } catch (ex) {\n",
       "\n",
       "        } finally {\n",
       "            document.body.removeChild(textarea);\n",
       "        }\n",
       "    }\n",
       "}\n",
       "function expandPanel(el) {\n",
       "  const panelName = \"#\" + el.getAttribute('paneName');\n",
       "  console.log(el.title);\n",
       "\n",
       "  document.querySelector(panelName + \"-title\").innerHTML = el.title\n",
       "  iframe = document.querySelector(panelName + \"-body\");\n",
       "  \n",
       "  const tblcss = `<style> body { font-family: Arial, Helvetica, sans-serif;}\n",
       "    #csv { margin-bottom: 15px; }\n",
       "    #csv table { border-collapse: collapse;}\n",
       "    #csv table td { padding: 4px 8px; border: 1px solid silver;} </style>`;\n",
       "\n",
       "  function csvToHtmlTable(str) {\n",
       "    return '<div id=\"csv\"><table><tr><td>' +  str.replace(/[\\n\\r]+$/g, '').replace(/[\\n\\r]+/g, '</td></tr><tr><td>')\n",
       "      .replace(/,/g, '</td><td>') + '</td></tr></table></div>';\n",
       "  }\n",
       "  \n",
       "  function reqListener () {\n",
       "    if (el.title.endsWith(\".csv\")) {\n",
       "      iframe.setAttribute(\"srcdoc\", tblcss + csvToHtmlTable(this.responseText));\n",
       "    } else {\n",
       "      iframe.setAttribute(\"srcdoc\", this.responseText);\n",
       "    }  \n",
       "    console.log(this.responseText);\n",
       "  }\n",
       "\n",
       "  const oReq = new XMLHttpRequest();\n",
       "  oReq.addEventListener(\"load\", reqListener);\n",
       "  oReq.open(\"GET\", el.title);\n",
       "  oReq.send();\n",
       "  \n",
       "  \n",
       "  //iframe.src = el.title;\n",
       "  const resultPane = document.querySelector(panelName + \"-pane\");\n",
       "  if (resultPane.classList.contains(\"hidden\")) {\n",
       "    resultPane.classList.remove(\"hidden\");\n",
       "  }\n",
       "}\n",
       "function closePanel(el) {\n",
       "  const panelName = \"#\" + el.getAttribute('paneName')\n",
       "  const resultPane = document.querySelector(panelName + \"-pane\");\n",
       "  if (!resultPane.classList.contains(\"hidden\")) {\n",
       "    resultPane.classList.add(\"hidden\");\n",
       "  }\n",
       "}\n",
       "\n",
       "</script>\n",
       "<div class=\"master-wrapper\">\n",
       "  <div class=\"block master-tbl\"><div>\n",
       "<style scoped>\n",
       "    .dataframe tbody tr th:only-of-type {\n",
       "        vertical-align: middle;\n",
       "    }\n",
       "\n",
       "    .dataframe tbody tr th {\n",
       "        vertical-align: top;\n",
       "    }\n",
       "\n",
       "    .dataframe thead th {\n",
       "        text-align: right;\n",
       "    }\n",
       "</style>\n",
       "<table border=\"1\" class=\"dataframe\">\n",
       "  <thead>\n",
       "    <tr style=\"text-align: right;\">\n",
       "      <th>project</th>\n",
       "      <th>uid</th>\n",
       "      <th>iter</th>\n",
       "      <th>start</th>\n",
       "      <th>state</th>\n",
       "      <th>name</th>\n",
       "      <th>labels</th>\n",
       "      <th>inputs</th>\n",
       "      <th>parameters</th>\n",
       "      <th>results</th>\n",
       "      <th>artifacts</th>\n",
       "    </tr>\n",
       "  </thead>\n",
       "  <tbody>\n",
       "    <tr>\n",
       "      <td>network-operations</td>\n",
       "      <td><div title=\"f87a18e1f6344f6da4f36f5f461dd1c1\"><a href=\"https://mlrun-ui.default-tenant.app.dev6.lab.iguazeng.com/projects/network-operations/jobs/f87a18e1f6344f6da4f36f5f461dd1c1/info\" target=\"_blank\" >...461dd1c1</a></div></td>\n",
       "      <td>0</td>\n",
       "      <td>Jun 02 14:09:36</td>\n",
       "      <td>completed</td>\n",
       "      <td>concept_drift_deployer</td>\n",
       "      <td><div class=\"dictlist\">v3io_user=admin</div><div class=\"dictlist\">kind=handler</div><div class=\"dictlist\">owner=admin</div><div class=\"dictlist\">host=jupyter-7b6c4d46d6-8nxbv</div></td>\n",
       "      <td><div title=\"store://network-operations/test_test_set_preds\">base_dataset</div></td>\n",
       "      <td><div class=\"dictlist\">models=['ddm', 'eddm', 'pagehinkley']</div><div class=\"dictlist\">label_col=is_error</div><div class=\"dictlist\">prediction_col=yscore</div><div class=\"dictlist\">hub_url=/User/functions/{name}/function.yaml</div><div class=\"dictlist\">output_tsdb=/bigdata/network-operations/drift_tsdb</div><div class=\"dictlist\">input_stream=http://v3io-webapi:8081/bigdata/network-operations/inference_stream@cd2</div><div class=\"dictlist\">output_stream=/bigdata/network-operations/drift_stream</div></td>\n",
       "      <td></td>\n",
       "      <td><div title=\"/User/demo-network-operations/artifacts/models\">eddm_concept_drift</div><div title=\"/User/demo-network-operations/artifacts/models\">pagehinkley_concept_drift</div><div title=\"/User/demo-network-operations/artifacts/models\">ddm_concept_drift</div></td>\n",
       "    </tr>\n",
       "  </tbody>\n",
       "</table>\n",
       "</div></div>\n",
       "  <div id=\"resultce17a619-pane\" class=\"right-pane block hidden\">\n",
       "    <div class=\"pane-header\">\n",
       "      <span id=\"resultce17a619-title\" class=\"pane-header-title\">Title</span>\n",
       "      <span onclick=\"closePanel(this)\" paneName=\"resultce17a619\" class=\"close clickable\">&times;</span>\n",
       "    </div>\n",
       "    <iframe class=\"fileview\" id=\"resultce17a619-body\"></iframe>\n",
       "  </div>\n",
       "</div>\n"
      ],
      "text/plain": [
       "<IPython.core.display.HTML object>"
      ]
     },
     "metadata": {},
     "output_type": "display_data"
    },
    {
     "name": "stdout",
     "output_type": "stream",
     "text": [
      "to track results use .show() or .logs() or in CLI: \n",
      "!mlrun get run f87a18e1f6344f6da4f36f5f461dd1c1 --project network-operations , !mlrun logs f87a18e1f6344f6da4f36f5f461dd1c1 --project network-operations\n",
      "[mlrun] 2020-06-02 14:10:05,483 run executed, status=completed\n"
     ]
    },
    {
     "data": {
      "text/plain": [
       "<mlrun.model.RunObject at 0x7f32a0733550>"
      ]
     },
     "execution_count": 14,
     "metadata": {},
     "output_type": "execute_result"
    }
   ],
   "source": [
    "run_local(task)"
   ]
  },
  {
   "cell_type": "markdown",
   "metadata": {},
   "source": [
    "## Save function yaml"
   ]
  },
  {
   "cell_type": "code",
   "execution_count": 17,
   "metadata": {},
   "outputs": [],
   "source": [
    "from os import path\n",
    "from mlrun import run_local, NewTask, mlconf, import_function, mount_v3io, code_to_function\n",
    "mlconf.dbpath = mlconf.dbpath or 'http://mlrun-api:8080'"
   ]
  },
  {
   "cell_type": "code",
   "execution_count": 22,
   "metadata": {},
   "outputs": [
    {
     "name": "stdout",
     "output_type": "stream",
     "text": [
      "[mlrun] 2020-06-02 17:15:02,341 function spec saved to path: function.yaml\n"
     ]
    },
    {
     "data": {
      "text/plain": [
       "<mlrun.runtimes.kubejob.KubejobRuntime at 0x7f3209b9a320>"
      ]
     },
     "execution_count": 22,
     "metadata": {},
     "output_type": "execute_result"
    }
   ],
   "source": [
    "# create job function object from notebook code\n",
    "fn = code_to_function(\"concept_drift\", kind='job')\n",
    "\n",
    "# add metadata (for templates and reuse)\n",
    "fn.spec.default_handler = \"handler\"\n",
    "fn.spec.description = \"Deploy a streaming Concept Drift detector on a labeled stream\"\n",
    "fn.metadata.categories = [\"ml\", \"serve\"]\n",
    "fn.metadata.labels = {\"author\": \"orz\", \"framework\": \"sklearn\"}\n",
    "fn.export(\"function.yaml\")"
   ]
  },
  {
   "cell_type": "code",
   "execution_count": 23,
   "metadata": {},
   "outputs": [
    {
     "data": {
      "text/plain": [
       "<mlrun.runtimes.kubejob.KubejobRuntime at 0x7f3209b9a320>"
      ]
     },
     "execution_count": 23,
     "metadata": {},
     "output_type": "execute_result"
    }
   ],
   "source": [
    "fn.apply(mount_v3io())"
   ]
  },
  {
   "cell_type": "markdown",
   "metadata": {},
   "source": [
    "## Stream testing"
   ]
  },
  {
   "cell_type": "code",
   "execution_count": null,
   "metadata": {},
   "outputs": [],
   "source": [
    "fn.deploy()"
   ]
  },
  {
   "cell_type": "code",
   "execution_count": null,
   "metadata": {},
   "outputs": [],
   "source": [
    "fn.run(task)"
   ]
  },
  {
   "cell_type": "code",
   "execution_count": 17,
   "metadata": {},
   "outputs": [],
   "source": [
    "v3io_client = v3io.dataplane.Client()\n",
    "def sum_stream(path, shard='0', seek_type='EARLIEST'):\n",
    "    # seek the shard to the first record in it\n",
    "    container, stream_path = split_path(path)\n",
    "    shard_path = os.path.join(stream_path, shard)\n",
    "    response = v3io_client.seek_shard(container=container,\n",
    "                                      path=shard_path, \n",
    "                                      seek_type=seek_type)\n",
    "    response.raise_for_status()\n",
    "\n",
    "    # get records, starting from the location we got from seek\n",
    "    response = v3io_client.get_records(container=container,\n",
    "                                       path=shard_path, \n",
    "                                       location=response.output.location)\n",
    "    response.raise_for_status()\n",
    "    \n",
    "    models = ['pagehinkley', 'eddm', 'ddm']\n",
    "    result_record = response.output.records\n",
    "    results = {}\n",
    "    for model in models:\n",
    "        results[f'{model}_change_detected'] = sum([json.loads(record.data)[f'{model}_drift'] for record in result_record])\n",
    "        results[f'{model}_warning'] = sum([json.loads(record.data)[f'{model}_warning_zone'] for record in result_record])\n",
    "    return results"
   ]
  },
  {
   "cell_type": "code",
   "execution_count": null,
   "metadata": {},
   "outputs": [],
   "source": [
    "## Test live endpoint with model_tester"
   ]
  },
  {
   "cell_type": "code",
   "execution_count": 19,
   "metadata": {},
   "outputs": [],
   "source": [
    "tester = import_function('hub://model_server_tester').apply(mount_v3io())"
   ]
  },
  {
   "cell_type": "code",
   "execution_count": 3,
   "metadata": {},
   "outputs": [],
   "source": [
    "cmd = code_to_function(filename='/User/functions/model_server_tester/model_server_tester.ipynb', kind='local', code_output='./tester.py')"
   ]
  },
  {
   "cell_type": "code",
   "execution_count": 31,
   "metadata": {
    "collapsed": true,
    "jupyter": {
     "outputs_hidden": true
    }
   },
   "outputs": [
    {
     "data": {
      "text/html": [
       "<div>\n",
       "<style scoped>\n",
       "    .dataframe tbody tr th:only-of-type {\n",
       "        vertical-align: middle;\n",
       "    }\n",
       "\n",
       "    .dataframe tbody tr th {\n",
       "        vertical-align: top;\n",
       "    }\n",
       "\n",
       "    .dataframe thead th {\n",
       "        text-align: right;\n",
       "    }\n",
       "</style>\n",
       "<table border=\"1\" class=\"dataframe\">\n",
       "  <thead>\n",
       "    <tr style=\"text-align: right;\">\n",
       "      <th></th>\n",
       "      <th></th>\n",
       "      <th></th>\n",
       "      <th></th>\n",
       "      <th>packet_loss</th>\n",
       "      <th>throughput</th>\n",
       "      <th>is_error</th>\n",
       "    </tr>\n",
       "    <tr>\n",
       "      <th>timestamp</th>\n",
       "      <th>company</th>\n",
       "      <th>data_center</th>\n",
       "      <th>device</th>\n",
       "      <th></th>\n",
       "      <th></th>\n",
       "      <th></th>\n",
       "    </tr>\n",
       "  </thead>\n",
       "  <tbody>\n",
       "    <tr>\n",
       "      <th rowspan=\"5\" valign=\"top\">2020-03-29 19:22:10.106</th>\n",
       "      <th rowspan=\"4\" valign=\"top\">Johnson-Morgan</th>\n",
       "      <th rowspan=\"2\" valign=\"top\">Glenn_Port</th>\n",
       "      <th>6625659405376</th>\n",
       "      <td>30</td>\n",
       "      <td>50</td>\n",
       "      <td>False</td>\n",
       "    </tr>\n",
       "    <tr>\n",
       "      <th>0306839395881</th>\n",
       "      <td>30</td>\n",
       "      <td>50</td>\n",
       "      <td>False</td>\n",
       "    </tr>\n",
       "    <tr>\n",
       "      <th rowspan=\"2\" valign=\"top\">Baker_Locks</th>\n",
       "      <th>9686333640344</th>\n",
       "      <td>30</td>\n",
       "      <td>50</td>\n",
       "      <td>False</td>\n",
       "    </tr>\n",
       "    <tr>\n",
       "      <th>6135824620701</th>\n",
       "      <td>30</td>\n",
       "      <td>50</td>\n",
       "      <td>False</td>\n",
       "    </tr>\n",
       "    <tr>\n",
       "      <th>Romero-Perry</th>\n",
       "      <th>Kim_Locks</th>\n",
       "      <th>9598503476170</th>\n",
       "      <td>30</td>\n",
       "      <td>50</td>\n",
       "      <td>False</td>\n",
       "    </tr>\n",
       "  </tbody>\n",
       "</table>\n",
       "</div>"
      ],
      "text/plain": [
       "                                                                  packet_loss  \\\n",
       "timestamp               company        data_center device                       \n",
       "2020-03-29 19:22:10.106 Johnson-Morgan Glenn_Port  6625659405376           30   \n",
       "                                                   0306839395881           30   \n",
       "                                       Baker_Locks 9686333640344           30   \n",
       "                                                   6135824620701           30   \n",
       "                        Romero-Perry   Kim_Locks   9598503476170           30   \n",
       "\n",
       "                                                                  throughput  \\\n",
       "timestamp               company        data_center device                      \n",
       "2020-03-29 19:22:10.106 Johnson-Morgan Glenn_Port  6625659405376          50   \n",
       "                                                   0306839395881          50   \n",
       "                                       Baker_Locks 9686333640344          50   \n",
       "                                                   6135824620701          50   \n",
       "                        Romero-Perry   Kim_Locks   9598503476170          50   \n",
       "\n",
       "                                                                  is_error  \n",
       "timestamp               company        data_center device                   \n",
       "2020-03-29 19:22:10.106 Johnson-Morgan Glenn_Port  6625659405376     False  \n",
       "                                                   0306839395881     False  \n",
       "                                       Baker_Locks 9686333640344     False  \n",
       "                                                   6135824620701     False  \n",
       "                        Romero-Perry   Kim_Locks   9598503476170     False  "
      ]
     },
     "execution_count": 31,
     "metadata": {},
     "output_type": "execute_result"
    }
   ],
   "source": [
    "import pandas as pd\n",
    "table = '/v3io/bigdata/concept_drift_ex/tests/feature_change.pq'\n",
    "df = pd.read_parquet(table)\n",
    "df.head()"
   ]
  },
  {
   "cell_type": "code",
   "execution_count": 28,
   "metadata": {},
   "outputs": [],
   "source": [
    "t = pd.read_parquet('/User/v3io/bigdata/concept_drift_ex/selected_features.parquet')"
   ]
  },
  {
   "cell_type": "code",
   "execution_count": 29,
   "metadata": {},
   "outputs": [],
   "source": [
    "t['packet_loss'] = 30\n",
    "t['throughput'] = 50\n",
    "t.to_parquet('/v3io/bigdata/concept_drift_ex/tests/feature_change.pq')"
   ]
  },
  {
   "cell_type": "code",
   "execution_count": null,
   "metadata": {},
   "outputs": [],
   "source": [
    "# run the function locally\n",
    "addr = 'http://192.168.224.209:32418'\n",
    "\n",
    "table = '/User/v3io/bigdata/concept_drift_ex/selected_features.parquet' # Base dataset\n",
    "# table = '/User/v3io/bigdata/concept_drift_ex/tests/test_set_true.pq' # All labels = True\n",
    "# table = '/User/v3io/bigdata/concept_drift_ex/tests/test_set_false.pq' # All labels = False\n",
    "# table = '/v3io/bigdata/concept_drift_ex/tests/feature_change.pq' # Feature change\n",
    "for i in range(10):\n",
    "    cmd.run(name='model_server_tester', \n",
    "            handler='model_server_tester',\n",
    "            params={'addr': addr, \n",
    "                    'model': 'predictor', \n",
    "                    'label_column':'is_error'},\n",
    "            inputs={'table': table})"
   ]
  },
  {
   "cell_type": "code",
   "execution_count": null,
   "metadata": {},
   "outputs": [],
   "source": []
  }
 ],
 "metadata": {
  "kernelspec": {
   "display_name": "Python 3",
   "language": "python",
   "name": "python3"
  },
  "language_info": {
   "codemirror_mode": {
    "name": "ipython",
    "version": 3
   },
   "file_extension": ".py",
   "mimetype": "text/x-python",
   "name": "python",
   "nbconvert_exporter": "python",
   "pygments_lexer": "ipython3",
   "version": "3.6.8"
  }
 },
 "nbformat": 4,
 "nbformat_minor": 4
}
