{
 "cells": [
  {
   "cell_type": "markdown",
   "metadata": {},
   "source": [
    "# Model Server"
   ]
  },
  {
   "cell_type": "code",
   "execution_count": 1,
   "metadata": {},
   "outputs": [],
   "source": [
    "# nuclio: ignore\n",
    "import nuclio"
   ]
  },
  {
   "cell_type": "code",
   "execution_count": 2,
   "metadata": {},
   "outputs": [
    {
     "name": "stdout",
     "output_type": "stream",
     "text": [
      "%nuclio: setting kind to 'serving'\n",
      "%nuclio: setting spec.build.baseImage to 'mlrun/mlrun'\n"
     ]
    }
   ],
   "source": [
    "%nuclio config kind=\"serving\"\n",
    "%nuclio config spec.build.baseImage = \"mlrun/mlrun\""
   ]
  },
  {
   "cell_type": "code",
   "execution_count": 3,
   "metadata": {},
   "outputs": [],
   "source": [
    "%%nuclio cmd -c\n",
    "python -m pip install numpy cloudpickle v3io sklearn"
   ]
  },
  {
   "cell_type": "code",
   "execution_count": 4,
   "metadata": {},
   "outputs": [
    {
     "name": "stdout",
     "output_type": "stream",
     "text": [
      "> 2020-10-07 09:46:38,742 [warning] Failed resolving version info. Ignoring and using defaults\n"
     ]
    }
   ],
   "source": [
    "import os\n",
    "from cloudpickle import load\n",
    "import numpy as np\n",
    "from typing import List\n",
    "from datetime import datetime\n",
    "import mlrun"
   ]
  },
  {
   "cell_type": "code",
   "execution_count": 5,
   "metadata": {},
   "outputs": [],
   "source": [
    "class ClassifierModel(mlrun.serving.V2ModelServer):\n",
    "    def load(self):\n",
    "        \"\"\"load and initialize the model and/or other elements\"\"\"\n",
    "        model_file, extra_data = self.get_model('.pkl')\n",
    "        self.model = load(open(model_file, 'rb'))\n",
    "\n",
    "    def predict(self, body: dict) -> List:\n",
    "        \"\"\"Generate model predictions from sample.\"\"\"\n",
    "        feats = np.asarray(body['inputs'])\n",
    "        result: np.ndarray = self.model.predict(feats)\n",
    "        return result.tolist()"
   ]
  },
  {
   "cell_type": "code",
   "execution_count": 6,
   "metadata": {},
   "outputs": [],
   "source": [
    "# nuclio: end-code"
   ]
  },
  {
   "cell_type": "markdown",
   "metadata": {},
   "source": [
    "# Test models locally and deploy"
   ]
  },
  {
   "cell_type": "markdown",
   "metadata": {},
   "source": [
    "The sklearn-project generated one or more models that will be deployed in the server project `sklearn-servers`"
   ]
  },
  {
   "cell_type": "markdown",
   "metadata": {},
   "source": [
    "### test locally"
   ]
  },
  {
   "cell_type": "code",
   "execution_count": 7,
   "metadata": {},
   "outputs": [],
   "source": [
    "import cloudpickle as cp\n",
    "models_path = '/User/ml/demos/sklearn-pipe/pipe/9cf9bf0b-a293-48d9-80be-0e66faa2f9f6/model/1/'\n",
    "\n",
    "from sklearn.datasets import load_iris\n",
    "from mlrun.serving.server import get_mock_server\n",
    "server = get_mock_server()"
   ]
  },
  {
   "cell_type": "code",
   "execution_count": null,
   "metadata": {},
   "outputs": [],
   "source": [
    "server.add_model(\"mymodel\", model_class=ClassifierModel, model_path=models_path)"
   ]
  },
  {
   "cell_type": "code",
   "execution_count": 9,
   "metadata": {},
   "outputs": [],
   "source": [
    "iris = load_iris()\n",
    "x = iris['data'].tolist()"
   ]
  },
  {
   "cell_type": "code",
   "execution_count": 10,
   "metadata": {},
   "outputs": [
    {
     "name": "stdout",
     "output_type": "stream",
     "text": [
      "> 2020-10-07 09:46:49,269 [debug] router run model mymodel, op=infer\n"
     ]
    },
    {
     "data": {
      "text/plain": [
       "dict_keys(['id', 'model_name', 'outputs'])"
      ]
     },
     "execution_count": 10,
     "metadata": {},
     "output_type": "execute_result"
    }
   ],
   "source": [
    "result = server.test(\"mymodel/infer\", {\"inputs\": x})\n",
    "result.keys()"
   ]
  },
  {
   "cell_type": "markdown",
   "metadata": {},
   "source": [
    "## document and save"
   ]
  },
  {
   "cell_type": "code",
   "execution_count": 11,
   "metadata": {},
   "outputs": [
    {
     "name": "stdout",
     "output_type": "stream",
     "text": [
      "> 2020-10-07 09:46:56,879 [info] function spec saved to path: function.yaml\n"
     ]
    },
    {
     "data": {
      "text/plain": [
       "<mlrun.runtimes.serving.ServingRuntime at 0x7f724983f290>"
      ]
     },
     "execution_count": 11,
     "metadata": {},
     "output_type": "execute_result"
    }
   ],
   "source": [
    "from mlrun import code_to_function\n",
    "fn = code_to_function('v2-model-server', description=\"generic sklearn model server\",\n",
    "                     categories=['serving', 'ml'],\n",
    "                     labels={'author': 'yaronh', 'framework': 'sklearn'},\n",
    "                     code_output='.')\n",
    "fn.spec.default_class = 'ClassifierModel'\n",
    "#print(fn.to_yaml())\n",
    "fn.export()"
   ]
  },
  {
   "cell_type": "markdown",
   "metadata": {},
   "source": [
    "##  Deploy server"
   ]
  },
  {
   "cell_type": "code",
   "execution_count": 12,
   "metadata": {},
   "outputs": [
    {
     "name": "stdout",
     "output_type": "stream",
     "text": [
      "> 2020-10-07 09:47:20,997 [info] deploy started\n",
      "[nuclio] 2020-10-07 09:47:28,142 (info) Build complete\n",
      "[nuclio] 2020-10-07 09:47:34,213 (info) Function deploy complete\n",
      "[nuclio] 2020-10-07 09:47:34,220 done updating v2-srv-v2-model-server, function address: 3.128.234.166:31483\n"
     ]
    }
   ],
   "source": [
    "from mlrun import mount_v3io\n",
    "fn.apply(mount_v3io())\n",
    "fn.add_model('mymodel', model_path=models_path)\n",
    "#fn.verbose = True\n",
    "address = fn.deploy(project='v2-srv')"
   ]
  },
  {
   "cell_type": "markdown",
   "metadata": {},
   "source": [
    "##  Test server"
   ]
  },
  {
   "cell_type": "code",
   "execution_count": 13,
   "metadata": {},
   "outputs": [
    {
     "name": "stdout",
     "output_type": "stream",
     "text": [
      "{\"id\": \"6f8c9783-6b01-4f50-80f3-d348c5575edd\", \"model_name\": \"mymodel\", \"outputs\": [0, 2]}"
     ]
    }
   ],
   "source": [
    "predict_url = address+\"/v2/models/mymodel/infer\"\n",
    "my_data = '''{\"inputs\":[[5.1, 3.5, 1.4, 0.2],[7.7, 3.8, 6.7, 2.2]]}'''\n",
    "!curl {predict_url} -d '{my_data}'"
   ]
  },
  {
   "cell_type": "code",
   "execution_count": null,
   "metadata": {},
   "outputs": [],
   "source": []
  }
 ],
 "metadata": {
  "kernelspec": {
   "display_name": "Python 3",
   "language": "python",
   "name": "python3"
  },
  "language_info": {
   "codemirror_mode": {
    "name": "ipython",
    "version": 3
   },
   "file_extension": ".py",
   "mimetype": "text/x-python",
   "name": "python",
   "nbconvert_exporter": "python",
   "pygments_lexer": "ipython3",
   "version": "3.7.6"
  }
 },
 "nbformat": 4,
 "nbformat_minor": 4
}
