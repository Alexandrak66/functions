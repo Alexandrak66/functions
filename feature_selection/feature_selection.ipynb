{
 "cells": [
  {
   "cell_type": "markdown",
   "metadata": {},
   "source": [
    "# Feature Selection"
   ]
  },
  {
   "cell_type": "code",
   "execution_count": 1,
   "metadata": {},
   "outputs": [],
   "source": [
    "import nuclio"
   ]
  },
  {
   "cell_type": "code",
   "execution_count": 2,
   "metadata": {},
   "outputs": [
    {
     "name": "stdout",
     "output_type": "stream",
     "text": [
      "%nuclio: setting kind to 'job'\n",
      "%nuclio: setting spec.image to 'mlrun/ml-models'\n"
     ]
    }
   ],
   "source": [
    "%nuclio config kind = \"job\"\n",
    "%nuclio config spec.image = \"mlrun/ml-models\""
   ]
  },
  {
   "cell_type": "code",
   "execution_count": 3,
   "metadata": {},
   "outputs": [],
   "source": [
    "# nuclio: start-code"
   ]
  },
  {
   "cell_type": "code",
   "execution_count": 4,
   "metadata": {},
   "outputs": [],
   "source": [
    "import pandas as pd\n",
    "import matplotlib.pyplot as plt\n",
    "import seaborn as sns\n",
    "import numpy as np\n",
    "import os\n",
    "import json\n",
    "\n",
    "# Feature selection strategies\n",
    "from sklearn.feature_selection import SelectKBest\n",
    "from sklearn.feature_selection import SelectFromModel\n",
    "\n",
    "# Model based feature selection\n",
    "from sklearn.ensemble import ExtraTreesClassifier\n",
    "from sklearn.svm import LinearSVC\n",
    "from sklearn.linear_model import LogisticRegression\n",
    "\n",
    "# Scale feature scores\n",
    "from sklearn.preprocessing import MinMaxScaler\n",
    "\n",
    "# SKLearn estimators list\n",
    "from sklearn.utils import all_estimators\n",
    "\n",
    "# MLRun utils\n",
    "from mlrun.mlutils import create_class, gcf_clear\n",
    "from mlrun.artifacts import PlotArtifact"
   ]
  },
  {
   "cell_type": "code",
   "execution_count": 5,
   "metadata": {},
   "outputs": [],
   "source": [
    "def show_values_on_bars(axs, h_v=\"v\", space=0.4):\n",
    "    def _show_on_single_plot(ax):\n",
    "        if h_v == \"v\":\n",
    "            for p in ax.patches:\n",
    "                _x = p.get_x() + p.get_width() / 2\n",
    "                _y = p.get_y() + p.get_height()\n",
    "                value = int(p.get_height())\n",
    "                ax.text(_x, _y, value, ha=\"center\") \n",
    "        elif h_v == \"h\":\n",
    "            for p in ax.patches:\n",
    "                _x = p.get_x() + p.get_width() + float(space)\n",
    "                _y = p.get_y() + p.get_height()\n",
    "                value = int(p.get_width())\n",
    "                ax.text(_x, _y, value, ha=\"left\")\n",
    "\n",
    "    if isinstance(axs, np.ndarray):\n",
    "        for idx, ax in np.ndenumerate(axs):\n",
    "            _show_on_single_plot(ax)\n",
    "    else:\n",
    "        _show_on_single_plot(axs)"
   ]
  },
  {
   "cell_type": "code",
   "execution_count": 6,
   "metadata": {},
   "outputs": [],
   "source": [
    "def plot_stat(context,\n",
    "              stat_name,\n",
    "              stat_df):\n",
    "    gcf_clear(plt)\n",
    "        \n",
    "    # Add chart\n",
    "    ax = plt.axes()\n",
    "    stat_chart = sns.barplot(x=stat_name, \n",
    "                            y='index', \n",
    "                            data=stat_df.sort_values(stat_name, ascending=False).reset_index(), \n",
    "                            ax=ax)\n",
    "    plt.tight_layout()\n",
    "\n",
    "    for p in stat_chart.patches:\n",
    "        width = p.get_width()\n",
    "        plt.text(5+p.get_width(), p.get_y()+0.55*p.get_height(),\n",
    "                 '{:1.2f}'.format(width),\n",
    "                 ha='center', va='center')\n",
    "\n",
    "    context.log_artifact(PlotArtifact(f'{stat_name}', body=plt.gcf()), \n",
    "                         local_path=os.path.join('plots', 'feature_selection', f'{stat_name}.html'))\n",
    "    gcf_clear(plt)"
   ]
  },
  {
   "cell_type": "code",
   "execution_count": 7,
   "metadata": {},
   "outputs": [],
   "source": [
    "def feature_selection(context,\n",
    "                      df_artifact,\n",
    "                      k=2,\n",
    "                      min_votes=0.5,\n",
    "                      label_column: str = 'Y',\n",
    "                      stat_filters = ['f_classif', 'mutual_info_classif', 'chi2', 'f_regression'],\n",
    "                      model_filters = {'LinearSVC': 'LinearSVC', \n",
    "                                       'LogisticRegression': 'LogisticRegression', \n",
    "                                       'ExtraTreesClassifier': 'ExtraTreesClassifier'},\n",
    "                      max_scaled_scores = True):\n",
    "    \"\"\"Applies selected feature selection statistical functions \n",
    "    or models on our 'df_artifact'.\n",
    "    \n",
    "    Each statistical function or model will vote for it's best K selected features.\n",
    "    If a feature has >= 'min_votes' votes, it will be selected.\n",
    "\n",
    "    :param context:           the function context\n",
    "    :param k:                 number of top features to select from each statistical\n",
    "                              function or model\n",
    "    :param min_votes:         minimal number of votes (from a model or by statistical\n",
    "                              function) needed for a feature to be selected.\n",
    "                              Can be specified by percentage of votes or absolute \n",
    "                              number of votes\n",
    "    :param label_column:      ground-truth (y) labels\n",
    "    :param stat_filters:      statistical functions to apply to the features\n",
    "                              (from sklearn.feature_selection)\n",
    "    :param model_filters:     models to use for feature evaluation, can be specified by\n",
    "                              model name (ex. LinearSVC), formalized json (contains 'CLASS', \n",
    "                              'FIT', 'META') or a path to such json file.\n",
    "    :param max_scaled_scores: produce feature scores table scaled with max_scaler                            \n",
    "    \"\"\"\n",
    "    \n",
    "    # Read input DF\n",
    "    df_path = str(df_artifact)\n",
    "    context.logger.info(f'input dataset {df_path}')\n",
    "    if df_path.endswith('csv'):\n",
    "        df = pd.read_csv(df_path)\n",
    "    elif df_path.endswith('parquet') or df_path.endswith('pq'):\n",
    "        df = pd.read_parquet(df_path)\n",
    "    \n",
    "    # Set feature vector and labels\n",
    "    y = df.pop(label_column)\n",
    "    X = df\n",
    "    \n",
    "    # Create selected statistical estimators\n",
    "    stat_functions_list = {stat_name:SelectKBest(create_class(f'sklearn.feature_selection.{stat_name}'), k) \n",
    "                               for stat_name in stat_filters}\n",
    "    requires_abs = ['chi2']\n",
    "    \n",
    "    # Run statistic filters\n",
    "    selected_features_agg = {}\n",
    "    stats_df = pd.DataFrame(index=X.columns)\n",
    "    for stat_name, stat_func in stat_functions_list.items():\n",
    "        # Compute statistics\n",
    "        params = (X, y) if stat_name in requires_abs else (abs(X), y)\n",
    "        stat = stat_func.fit(*params)\n",
    "        \n",
    "        # Collect stat function results\n",
    "        stat_df = pd.DataFrame(index=X.columns,\n",
    "                               columns=[stat_name],\n",
    "                               data=stat.scores_)\n",
    "        plot_stat(context, stat_name, stat_df)\n",
    "        stats_df = stats_df.join(stat_df)\n",
    "        \n",
    "        # Select K Best features\n",
    "        selected_features = X.columns[stat_func.get_support()]\n",
    "        selected_features_agg[stat_name] = selected_features\n",
    "                \n",
    "    # Create models from class name / json file / json params\n",
    "    all_sklearn_estimators = dict(all_estimators()) if len(model_filters) > 0 else {}\n",
    "    selected_models = {}\n",
    "    for model_name, model in model_filters.items():\n",
    "        if '.json' in model:\n",
    "            current_model = json.load(open(model, 'r'))\n",
    "            ClassifierClass = create_class(current_model[\"META\"][\"class\"])\n",
    "            selected_models[model_name] = ClassifierClass(**current_model[\"CLASS\"])\n",
    "        elif model in all_sklearn_estimators:\n",
    "            selected_models[model_name] = all_sklearn_estimators[model_name]()\n",
    "        else:\n",
    "            try:\n",
    "                current_model = json.loads(model) if isinstance(model, str) else current_model\n",
    "                ClassifierClass = create_class(current_model[\"META\"][\"class\"])\n",
    "                selected_models[model_name] = ClassifierClass(**current_model[\"CLASS\"])\n",
    "            except:\n",
    "                context.logger.info(f'unable to load {model}')\n",
    "        \n",
    "    # Run model filters\n",
    "    models_df = pd.DataFrame(index=X.columns)\n",
    "    for model_name, model in selected_models.items():\n",
    "        # Train model and get feature importance\n",
    "        select_from_model = SelectFromModel(model).fit(X,y)\n",
    "        feature_idx = select_from_model.get_support()\n",
    "        feature_names = X.columns[feature_idx]\n",
    "        selected_features_agg[model_name] = feature_names.tolist()\n",
    "                \n",
    "        # Collect model feature importance\n",
    "        if hasattr(select_from_model.estimator_, 'coef_'):\n",
    "            stat_df = select_from_model.estimator_.coef_\n",
    "        elif hasattr(select_from_model.estimator_, 'feature_importances_'):\n",
    "            stat_df = select_from_model.estimator_.feature_importances_\n",
    "        stat_df = pd.DataFrame(index=X.columns,\n",
    "                               columns=[model_name],\n",
    "                               data=stat_df[0])\n",
    "        models_df = models_df.join(stat_df)\n",
    "\n",
    "        plot_stat(context, model_name, stat_df)\n",
    "    \n",
    "    # Create feature_scores DF with stat & model filters scores\n",
    "    result_matrix_df = pd.concat([stats_df, models_df], axis=1, sort=False)\n",
    "    context.log_dataset(key='feature_scores', \n",
    "                        df=result_matrix_df,\n",
    "                        local_path='feature_scores.parquet',\n",
    "                        format='parquet')\n",
    "    if max_scaled_scores:\n",
    "        normalized_df = result_matrix_df.replace([np.inf, -np.inf], np.nan).values\n",
    "        min_max_scaler = MinMaxScaler()\n",
    "        normalized_df = min_max_scaler.fit_transform(normalized_df)\n",
    "        normalized_df = pd.DataFrame(data=normalized_df,\n",
    "                                     columns=result_matrix_df.columns,\n",
    "                                     index=result_matrix_df.index)\n",
    "        context.log_dataset(key='max_scaled_scores_feature_scores', \n",
    "                            df=normalized_df,\n",
    "                            local_path='max_scaled_scores_feature_scores.parquet',\n",
    "                            format='parquet')\n",
    "    \n",
    "    # Create feature count DataFrame\n",
    "    for test_name in selected_features_agg:\n",
    "        result_matrix_df[test_name] = [1 if x in selected_features_agg[test_name] else 0 for x in X.columns]\n",
    "    result_matrix_df.loc[:,'num_votes'] = result_matrix_df.sum(axis=1)\n",
    "    context.log_dataset(key='selected_features_count', \n",
    "                        df=result_matrix_df,\n",
    "                        local_path='selected_features_count.parquet',\n",
    "                        format='parquet')\n",
    "    \n",
    "    # How many votes are needed for a feature to be selected?\n",
    "    if isinstance(min_votes, int):\n",
    "        votes_needed = min_votes\n",
    "    else:\n",
    "        num_filters = len(stat_filters) + len(model_filters)\n",
    "        votes_needed = int(np.floor(num_filters * max(min(min_votes, 1), 0)))\n",
    "    context.logger.info(f'votes needed to be selected: {votes_needed}')\n",
    "    \n",
    "    # Create final feature dataframe\n",
    "    selected_features = result_matrix_df[result_matrix_df.num_votes>=votes_needed].index.tolist()\n",
    "    good_feature_df = df.loc[:, selected_features]\n",
    "    final_df = pd.concat([good_feature_df,y], axis=1)\n",
    "    context.log_dataset(key='selected_features',\n",
    "                        df=final_df,\n",
    "                        local_path='selected_features.parquet',\n",
    "                        format='parquet')"
   ]
  },
  {
   "cell_type": "code",
   "execution_count": 8,
   "metadata": {},
   "outputs": [],
   "source": [
    "# nuclio: end-code"
   ]
  },
  {
   "cell_type": "markdown",
   "metadata": {},
   "source": [
    "## Test"
   ]
  },
  {
   "cell_type": "code",
   "execution_count": 9,
   "metadata": {},
   "outputs": [],
   "source": [
    "from mlrun import code_to_function, mount_v3io, mlconf, NewTask, run_local"
   ]
  },
  {
   "cell_type": "code",
   "execution_count": 10,
   "metadata": {},
   "outputs": [],
   "source": [
    "mlconf.artifact_path = os.path.abspath('./artifacts')\n",
    "mlconf.db_path = 'http://mlrun-api:8080'"
   ]
  },
  {
   "cell_type": "markdown",
   "metadata": {},
   "source": [
    "### Local Test"
   ]
  },
  {
   "cell_type": "code",
   "execution_count": 11,
   "metadata": {},
   "outputs": [],
   "source": [
    "task = NewTask(params={'k': 2,\n",
    "                       'min_votes': 0.3,\n",
    "                       'label_column': 'is_error'},\n",
    "               inputs={'df_artifact': '/User/demo-network-operations/data/metrics.parquet'})"
   ]
  },
  {
   "cell_type": "code",
   "execution_count": 12,
   "metadata": {},
   "outputs": [
    {
     "name": "stdout",
     "output_type": "stream",
     "text": [
      "[mlrun] 2020-04-12 12:28:08,160 starting run feature_selection uid=558aa6cf639d4e9eab6c8d6020f45962  -> http://10.194.95.255:8080\n"
     ]
    },
    {
     "name": "stderr",
     "output_type": "stream",
     "text": [
      "/conda/lib/python3.6/site-packages/sklearn/feature_selection/_univariate_selection.py:115: RuntimeWarning: divide by zero encountered in true_divide\n",
      "  f = msb / msw\n",
      "posx and posy should be finite values\n",
      "/conda/lib/python3.6/site-packages/sklearn/svm/_base.py:947: ConvergenceWarning: Liblinear failed to converge, increase the number of iterations.\n",
      "  \"the number of iterations.\", ConvergenceWarning)\n",
      "/conda/lib/python3.6/site-packages/sklearn/linear_model/_logistic.py:940: ConvergenceWarning: lbfgs failed to converge (status=1):\n",
      "STOP: TOTAL NO. of ITERATIONS REACHED LIMIT.\n",
      "\n",
      "Increase the number of iterations (max_iter) or scale the data as shown in:\n",
      "    https://scikit-learn.org/stable/modules/preprocessing.html\n",
      "Please also refer to the documentation for alternative solver options:\n",
      "    https://scikit-learn.org/stable/modules/linear_model.html#logistic-regression\n",
      "  extra_warning_msg=_LOGISTIC_SOLVER_CONVERGENCE_MSG)\n"
     ]
    },
    {
     "name": "stdout",
     "output_type": "stream",
     "text": [
      "[mlrun] 2020-04-12 12:28:08,333 input dataset /User/demo-network-operations/data/metrics.parquet\n",
      "[mlrun] 2020-04-12 12:28:10,756 log artifact f_classif at /User/functions/feature_selection/artifacts/plots/feature_selection/f_classif.html, size: 22020, db: Y\n",
      "[mlrun] 2020-04-12 12:28:13,489 log artifact mutual_info_classif at /User/functions/feature_selection/artifacts/plots/feature_selection/mutual_info_classif.html, size: 13738, db: Y\n",
      "[mlrun] 2020-04-12 12:28:14,731 log artifact chi2 at /User/functions/feature_selection/artifacts/plots/feature_selection/chi2.html, size: 21563, db: Y\n",
      "[mlrun] 2020-04-12 12:28:16,084 log artifact f_regression at /User/functions/feature_selection/artifacts/plots/feature_selection/f_regression.html, size: 23635, db: Y\n",
      "[mlrun] 2020-04-12 12:28:17,914 log artifact LinearSVC at /User/functions/feature_selection/artifacts/plots/feature_selection/LinearSVC.html, size: 13296, db: Y\n",
      "[mlrun] 2020-04-12 12:28:22,923 log artifact LogisticRegression at /User/functions/feature_selection/artifacts/plots/feature_selection/LogisticRegression.html, size: 17697, db: Y\n",
      "[mlrun] 2020-04-12 12:28:24,850 log artifact ExtraTreesClassifier at /User/functions/feature_selection/artifacts/plots/feature_selection/ExtraTreesClassifier.html, size: 14059, db: Y\n",
      "[mlrun] 2020-04-12 12:28:25,395 log artifact feature_scores at /User/functions/feature_selection/artifacts/feature_scores.parquet, size: 6739, db: Y\n",
      "[mlrun] 2020-04-12 12:28:25,816 log artifact max_scaled_scores_feature_scores at /User/functions/feature_selection/artifacts/max_scaled_scores_feature_scores.parquet, size: 6682, db: Y\n",
      "[mlrun] 2020-04-12 12:28:26,145 log artifact selected_features_count at /User/functions/feature_selection/artifacts/selected_features_count.parquet, size: 7068, db: Y\n",
      "[mlrun] 2020-04-12 12:28:26,149 votes needed to be selected: 2\n",
      "[mlrun] 2020-04-12 12:28:26,480 log artifact selected_features at /User/functions/feature_selection/artifacts/selected_features.parquet, size: 92130, db: Y\n",
      "\n"
     ]
    },
    {
     "data": {
      "text/html": [
       "<style> \n",
       ".dictlist {\n",
       "  background-color: #b3edff; \n",
       "  text-align: center; \n",
       "  margin: 4px; \n",
       "  border-radius: 3px; padding: 0px 3px 1px 3px; display: inline-block;}\n",
       ".artifact {\n",
       "  cursor: pointer; \n",
       "  background-color: #ffe6cc; \n",
       "  text-align: left; \n",
       "  margin: 4px; border-radius: 3px; padding: 0px 3px 1px 3px; display: inline-block;\n",
       "}\n",
       "div.block.hidden {\n",
       "  display: none;\n",
       "}\n",
       ".clickable {\n",
       "  cursor: pointer;\n",
       "}\n",
       ".ellipsis {\n",
       "  display: inline-block;\n",
       "  max-width: 60px;\n",
       "  white-space: nowrap;\n",
       "  overflow: hidden;\n",
       "  text-overflow: ellipsis;\n",
       "}\n",
       ".master-wrapper {\n",
       "  display: flex;\n",
       "  flex-flow: row nowrap;\n",
       "  justify-content: flex-start;\n",
       "  align-items: stretch;\n",
       "}\n",
       ".master-tbl {\n",
       "  flex: 3\n",
       "}\n",
       ".master-wrapper > div {\n",
       "  margin: 4px;\n",
       "  padding: 10px;\n",
       "}\n",
       "iframe.fileview {\n",
       "  border: 0 none;\n",
       "  height: 100%;\n",
       "  width: 100%;\n",
       "  white-space: pre-wrap;\n",
       "}\n",
       ".pane-header-title {\n",
       "  width: 80%;\n",
       "  font-weight: 500;\n",
       "}\n",
       ".pane-header {\n",
       "  line-height: 1;\n",
       "  background-color: #ffe6cc;\n",
       "  padding: 3px;\n",
       "}\n",
       ".pane-header .close {\n",
       "  font-size: 20px;\n",
       "  font-weight: 700;\n",
       "  float: right;\n",
       "  margin-top: -5px;\n",
       "}\n",
       ".master-wrapper .right-pane {\n",
       "  border: 1px inset silver;\n",
       "  width: 40%;\n",
       "  min-height: 300px;\n",
       "  flex: 3\n",
       "  min-width: 500px;\n",
       "}\n",
       ".master-wrapper * {\n",
       "  box-sizing: border-box;\n",
       "}\n",
       "</style><script>\n",
       "function copyToClipboard(fld) {\n",
       "    if (document.queryCommandSupported && document.queryCommandSupported('copy')) {\n",
       "        var textarea = document.createElement('textarea');\n",
       "        textarea.textContent = fld.innerHTML;\n",
       "        textarea.style.position = 'fixed';\n",
       "        document.body.appendChild(textarea);\n",
       "        textarea.select();\n",
       "\n",
       "        try {\n",
       "            return document.execCommand('copy'); // Security exception may be thrown by some browsers.\n",
       "        } catch (ex) {\n",
       "\n",
       "        } finally {\n",
       "            document.body.removeChild(textarea);\n",
       "        }\n",
       "    }\n",
       "}\n",
       "function expandPanel(el) {\n",
       "  const panelName = \"#\" + el.getAttribute('paneName');\n",
       "  console.log(el.title);\n",
       "\n",
       "  document.querySelector(panelName + \"-title\").innerHTML = el.title\n",
       "  iframe = document.querySelector(panelName + \"-body\");\n",
       "  \n",
       "  const tblcss = `<style> body { font-family: Arial, Helvetica, sans-serif;}\n",
       "    #csv { margin-bottom: 15px; }\n",
       "    #csv table { border-collapse: collapse;}\n",
       "    #csv table td { padding: 4px 8px; border: 1px solid silver;} </style>`;\n",
       "\n",
       "  function csvToHtmlTable(str) {\n",
       "    return '<div id=\"csv\"><table><tr><td>' +  str.replace(/[\\n\\r]+$/g, '').replace(/[\\n\\r]+/g, '</td></tr><tr><td>')\n",
       "      .replace(/,/g, '</td><td>') + '</td></tr></table></div>';\n",
       "  }\n",
       "  \n",
       "  function reqListener () {\n",
       "    if (el.title.endsWith(\".csv\")) {\n",
       "      iframe.setAttribute(\"srcdoc\", tblcss + csvToHtmlTable(this.responseText));\n",
       "    } else {\n",
       "      iframe.setAttribute(\"srcdoc\", this.responseText);\n",
       "    }  \n",
       "    console.log(this.responseText);\n",
       "  }\n",
       "\n",
       "  const oReq = new XMLHttpRequest();\n",
       "  oReq.addEventListener(\"load\", reqListener);\n",
       "  oReq.open(\"GET\", el.title);\n",
       "  oReq.send();\n",
       "  \n",
       "  \n",
       "  //iframe.src = el.title;\n",
       "  const resultPane = document.querySelector(panelName + \"-pane\");\n",
       "  if (resultPane.classList.contains(\"hidden\")) {\n",
       "    resultPane.classList.remove(\"hidden\");\n",
       "  }\n",
       "}\n",
       "function closePanel(el) {\n",
       "  const panelName = \"#\" + el.getAttribute('paneName')\n",
       "  const resultPane = document.querySelector(panelName + \"-pane\");\n",
       "  if (!resultPane.classList.contains(\"hidden\")) {\n",
       "    resultPane.classList.add(\"hidden\");\n",
       "  }\n",
       "}\n",
       "\n",
       "</script>\n",
       "<div class=\"master-wrapper\">\n",
       "  <div class=\"block master-tbl\"><div>\n",
       "<style scoped>\n",
       "    .dataframe tbody tr th:only-of-type {\n",
       "        vertical-align: middle;\n",
       "    }\n",
       "\n",
       "    .dataframe tbody tr th {\n",
       "        vertical-align: top;\n",
       "    }\n",
       "\n",
       "    .dataframe thead th {\n",
       "        text-align: right;\n",
       "    }\n",
       "</style>\n",
       "<table border=\"1\" class=\"dataframe\">\n",
       "  <thead>\n",
       "    <tr style=\"text-align: right;\">\n",
       "      <th>project</th>\n",
       "      <th>uid</th>\n",
       "      <th>iter</th>\n",
       "      <th>start</th>\n",
       "      <th>state</th>\n",
       "      <th>name</th>\n",
       "      <th>labels</th>\n",
       "      <th>inputs</th>\n",
       "      <th>parameters</th>\n",
       "      <th>results</th>\n",
       "      <th>artifacts</th>\n",
       "    </tr>\n",
       "  </thead>\n",
       "  <tbody>\n",
       "    <tr>\n",
       "      <td>default</td>\n",
       "      <td><div title=\"558aa6cf639d4e9eab6c8d6020f45962\"><a href=\"https://mlrun-ui.default-tenant.app.dev6.lab.iguazeng.com/projects/default/jobs/558aa6cf639d4e9eab6c8d6020f45962/info\" target=\"_blank\" >...20f45962</a></div></td>\n",
       "      <td>0</td>\n",
       "      <td>Apr 12 12:28:08</td>\n",
       "      <td>completed</td>\n",
       "      <td>feature_selection</td>\n",
       "      <td><div class=\"dictlist\">v3io_user=admin</div><div class=\"dictlist\">kind=handler</div><div class=\"dictlist\">owner=admin</div><div class=\"dictlist\">host=jupyter-76c7c6dbb5-vsqfd</div></td>\n",
       "      <td><div title=\"/User/demo-network-operations/data/metrics.parquet\">df_artifact</div></td>\n",
       "      <td><div class=\"dictlist\">k=2</div><div class=\"dictlist\">min_votes=0.3</div><div class=\"dictlist\">label_column=is_error</div></td>\n",
       "      <td></td>\n",
       "      <td><div class=\"artifact\" onclick=\"expandPanel(this)\" paneName=\"result35720438\" title=\"/files/functions/feature_selection/artifacts/plots/feature_selection/f_classif.html\">f_classif</div><div class=\"artifact\" onclick=\"expandPanel(this)\" paneName=\"result35720438\" title=\"/files/functions/feature_selection/artifacts/plots/feature_selection/mutual_info_classif.html\">mutual_info_classif</div><div class=\"artifact\" onclick=\"expandPanel(this)\" paneName=\"result35720438\" title=\"/files/functions/feature_selection/artifacts/plots/feature_selection/chi2.html\">chi2</div><div class=\"artifact\" onclick=\"expandPanel(this)\" paneName=\"result35720438\" title=\"/files/functions/feature_selection/artifacts/plots/feature_selection/f_regression.html\">f_regression</div><div class=\"artifact\" onclick=\"expandPanel(this)\" paneName=\"result35720438\" title=\"/files/functions/feature_selection/artifacts/plots/feature_selection/LinearSVC.html\">LinearSVC</div><div class=\"artifact\" onclick=\"expandPanel(this)\" paneName=\"result35720438\" title=\"/files/functions/feature_selection/artifacts/plots/feature_selection/LogisticRegression.html\">LogisticRegression</div><div class=\"artifact\" onclick=\"expandPanel(this)\" paneName=\"result35720438\" title=\"/files/functions/feature_selection/artifacts/plots/feature_selection/ExtraTreesClassifier.html\">ExtraTreesClassifier</div><div title=\"/User/functions/feature_selection/artifacts/feature_scores.parquet\">feature_scores</div><div title=\"/User/functions/feature_selection/artifacts/max_scaled_scores_feature_scores.parquet\">max_scaled_scores_feature_scores</div><div title=\"/User/functions/feature_selection/artifacts/selected_features_count.parquet\">selected_features_count</div><div title=\"/User/functions/feature_selection/artifacts/selected_features.parquet\">selected_features</div></td>\n",
       "    </tr>\n",
       "  </tbody>\n",
       "</table>\n",
       "</div></div>\n",
       "  <div id=\"result35720438-pane\" class=\"right-pane block hidden\">\n",
       "    <div class=\"pane-header\">\n",
       "      <span id=\"result35720438-title\" class=\"pane-header-title\">Title</span>\n",
       "      <span onclick=\"closePanel(this)\" paneName=\"result35720438\" class=\"close clickable\">&times;</span>\n",
       "    </div>\n",
       "    <iframe class=\"fileview\" id=\"result35720438-body\"></iframe>\n",
       "  </div>\n",
       "</div>\n"
      ],
      "text/plain": [
       "<IPython.core.display.HTML object>"
      ]
     },
     "metadata": {},
     "output_type": "display_data"
    },
    {
     "name": "stdout",
     "output_type": "stream",
     "text": [
      "to track results use .show() or .logs() or in CLI: \n",
      "!mlrun get run 558aa6cf639d4e9eab6c8d6020f45962 --project default , !mlrun logs 558aa6cf639d4e9eab6c8d6020f45962 --project default\n",
      "[mlrun] 2020-04-12 12:28:26,989 run executed, status=completed\n"
     ]
    }
   ],
   "source": [
    "runl = run_local(task=task,\n",
    "          name='feature_selection',\n",
    "          handler=feature_selection,\n",
    "          artifact_path=os.path.join(os.path.abspath('./'), 'artifacts'))"
   ]
  },
  {
   "cell_type": "markdown",
   "metadata": {},
   "source": [
    "## Job Test"
   ]
  },
  {
   "cell_type": "code",
   "execution_count": 13,
   "metadata": {},
   "outputs": [
    {
     "name": "stdout",
     "output_type": "stream",
     "text": [
      "[mlrun] 2020-04-12 12:28:49,293 function spec saved to path: feature_selection.yaml\n"
     ]
    },
    {
     "data": {
      "text/plain": [
       "<mlrun.runtimes.kubejob.KubejobRuntime at 0x7f4ea46749b0>"
      ]
     },
     "execution_count": 13,
     "metadata": {},
     "output_type": "execute_result"
    }
   ],
   "source": [
    "fn = code_to_function(name='feature_selection',\n",
    "                      handler='feature_selection')\n",
    "fn.spec.default_handler = 'feature_selection'\n",
    "fn.spec.description = \"Select features through multiple Statistical and Model filters\"\n",
    "fn.metadata.categories = ['preprocessing', 'feature_selection']\n",
    "fn.export('feature_selection.yaml')\n",
    "fn.apply(mount_v3io())"
   ]
  },
  {
   "cell_type": "code",
   "execution_count": null,
   "metadata": {},
   "outputs": [
    {
     "name": "stdout",
     "output_type": "stream",
     "text": [
      "[mlrun] 2020-04-12 12:28:49,377 starting run feature-selection-feature_selection uid=7c83d05ad61d4577a0608e7dd4a4005e  -> http://10.194.95.255:8080\n",
      "[mlrun] 2020-04-12 12:28:50,254 Job is running in the background, pod: feature-selection-feature-selection-7tfqn\n"
     ]
    }
   ],
   "source": [
    "fn.run(task)"
   ]
  },
  {
   "cell_type": "code",
   "execution_count": null,
   "metadata": {},
   "outputs": [],
   "source": [
    "pd.read_parquet(runl.spec.inputs['df_artifact'])"
   ]
  },
  {
   "cell_type": "code",
   "execution_count": null,
   "metadata": {},
   "outputs": [],
   "source": [
    "pd.read_parquet(runl.outputs['feature_scores'])"
   ]
  },
  {
   "cell_type": "code",
   "execution_count": null,
   "metadata": {},
   "outputs": [],
   "source": [
    "pd.read_parquet(runl.outputs['max_scaled_scores_feature_scores'])"
   ]
  },
  {
   "cell_type": "code",
   "execution_count": null,
   "metadata": {},
   "outputs": [],
   "source": [
    "pd.read_parquet(runl.outputs['selected_features_count'])"
   ]
  },
  {
   "cell_type": "code",
   "execution_count": null,
   "metadata": {},
   "outputs": [],
   "source": [
    "pd.read_parquet(runl.outputs['selected_features'])"
   ]
  },
  {
   "cell_type": "code",
   "execution_count": null,
   "metadata": {},
   "outputs": [],
   "source": []
  }
 ],
 "metadata": {
  "kernelspec": {
   "display_name": "Python 3",
   "language": "python",
   "name": "python3"
  },
  "language_info": {
   "codemirror_mode": {
    "name": "ipython",
    "version": 3
   },
   "file_extension": ".py",
   "mimetype": "text/x-python",
   "name": "python",
   "nbconvert_exporter": "python",
   "pygments_lexer": "ipython3",
   "version": "3.6.8"
  }
 },
 "nbformat": 4,
 "nbformat_minor": 4
}
