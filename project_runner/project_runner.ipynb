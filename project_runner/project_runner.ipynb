{
 "cells": [
  {
   "cell_type": "markdown",
   "metadata": {},
   "source": [
    "# Project runner\n",
    "Imports the latest project version and runs the specified workflow"
   ]
  },
  {
   "cell_type": "code",
   "execution_count": 8,
   "metadata": {},
   "outputs": [],
   "source": [
    "import nuclio"
   ]
  },
  {
   "cell_type": "code",
   "execution_count": 9,
   "metadata": {},
   "outputs": [],
   "source": [
    "# nuclio: start-code"
   ]
  },
  {
   "cell_type": "code",
   "execution_count": 10,
   "metadata": {},
   "outputs": [],
   "source": [
    "from mlrun import load_project\n",
    "from mlrun import mlconf\n",
    "import json\n",
    "import os"
   ]
  },
  {
   "cell_type": "code",
   "execution_count": 22,
   "metadata": {},
   "outputs": [],
   "source": [
    "def init_context(context):\n",
    "    setattr(context, 'hub_url', os.getenv('hub_url', None))"
   ]
  },
  {
   "cell_type": "code",
   "execution_count": 37,
   "metadata": {},
   "outputs": [],
   "source": [
    "def handler(context, event: nuclio.Event):\n",
    "    \"\"\"Imports the latest project version and runs the \n",
    "    specified workflow\n",
    "    \"\"\"\n",
    "    details = json.loads(event.body)\n",
    "    context.logger.info(type(details))\n",
    "    context.logger.info(details)\n",
    "    project_url = details['project_url']\n",
    "    workflow = details['workflow']\n",
    "    artifact_path = details.get('artifact_path', None)\n",
    "    hub_url = details.get('hub_url', None)\n",
    "\n",
    "    if context.hub_url:\n",
    "        mlconf.hub_url = context.hub_url\n",
    "    elif hub_url:\n",
    "        mlconf.hub_url = hub_url\n",
    "\n",
    "    project= load_project(os.path.abspath('./loaded_project'), url=project_url)\n",
    "    project.run(name=workflow,\n",
    "                arguments={},\n",
    "                artifact_path=artifact_path,\n",
    "                watch=False)"
   ]
  },
  {
   "cell_type": "code",
   "execution_count": 32,
   "metadata": {},
   "outputs": [],
   "source": [
    "# nuclio: end-code"
   ]
  },
  {
   "cell_type": "code",
   "execution_count": 38,
   "metadata": {},
   "outputs": [],
   "source": [
    "import json\n",
    "\n",
    "event_details = {'project_url': '/User/demo-network-operations/project.yaml',\n",
    "                 'workflow': 'main',\n",
    "                 'hub_url': '/User/functions/{name}/function.yaml'}"
   ]
  },
  {
   "cell_type": "code",
   "execution_count": null,
   "metadata": {
    "tags": []
   },
   "outputs": [],
   "source": [
    "init_context(context)\n",
    "event = nuclio.Event(body=json.dumps(event_details))\n",
    "out = handler(context, event)\n",
    "out"
   ]
  },
  {
   "cell_type": "code",
   "execution_count": null,
   "metadata": {},
   "outputs": [],
   "source": []
  }
 ],
 "metadata": {
  "kernelspec": {
   "display_name": "Python [conda env:root] *",
   "language": "python",
   "name": "conda-root-py"
  },
  "language_info": {
   "codemirror_mode": {
    "name": "ipython",
    "version": 3
   },
   "file_extension": ".py",
   "mimetype": "text/x-python",
   "name": "python",
   "nbconvert_exporter": "python",
   "pygments_lexer": "ipython3",
   "version": "3.6.8"
  }
 },
 "nbformat": 4,
 "nbformat_minor": 4
}
